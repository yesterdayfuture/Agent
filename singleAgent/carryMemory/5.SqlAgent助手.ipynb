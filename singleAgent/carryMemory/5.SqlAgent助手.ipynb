{
 "cells": [
  {
   "cell_type": "code",
   "execution_count": 1,
   "metadata": {},
   "outputs": [
    {
     "data": {
      "text/plain": [
       "True"
      ]
     },
     "execution_count": 1,
     "metadata": {},
     "output_type": "execute_result"
    }
   ],
   "source": [
    "from langchain.chat_models import  ChatOpenAI\n",
    "from langchain.agents import initialize_agent,AgentType, Tool\n",
    "from langchain.utilities import SQLDatabase\n",
    "from langchain.tools import BaseTool\n",
    "from pydantic import BaseModel, Field\n",
    "from langchain.memory import ConversationBufferMemory\n",
    "from typing import Type, List, Optional, Any\n",
    "import os\n",
    "from dotenv import load_dotenv\n",
    "load_dotenv()"
   ]
  },
  {
   "cell_type": "code",
   "execution_count": 2,
   "metadata": {},
   "outputs": [],
   "source": [
    "# 获取 环境变量\n",
    "#大模型apikey和url\n",
    "api_key = os.getenv('api_key')\n",
    "base_url = os.getenv('base_url')\n",
    "\n",
    "#天气查询的apikey\n",
    "juheAppKey = os.getenv('juheAppKey')\n",
    "\n",
    "#数据库信息\n",
    "mysql_info = os.getenv('mysql_info')"
   ]
  },
  {
   "cell_type": "code",
   "execution_count": 3,
   "metadata": {},
   "outputs": [
    {
     "name": "stderr",
     "output_type": "stream",
     "text": [
      "/var/folders/xh/fl5j9g1n5t79htj8yk1cswzh0000gn/T/ipykernel_20679/113483475.py:2: LangChainDeprecationWarning: The class `ChatOpenAI` was deprecated in LangChain 0.0.10 and will be removed in 1.0. An updated version of the class exists in the :class:`~langchain-openai package and should be used instead. To use it run `pip install -U :class:`~langchain-openai` and import as `from :class:`~langchain_openai import ChatOpenAI``.\n",
      "  online_model = ChatOpenAI(\n"
     ]
    }
   ],
   "source": [
    "#定义大模型\n",
    "online_model = ChatOpenAI(\n",
    "    api_key=api_key,\n",
    "    model=\"qwen-plus\",\n",
    "    base_url=base_url,\n",
    "    temperature=0\n",
    ")"
   ]
  },
  {
   "cell_type": "code",
   "execution_count": 4,
   "metadata": {},
   "outputs": [],
   "source": [
    "#定义数据库 连接\n",
    "db = SQLDatabase.from_uri(mysql_info)\n"
   ]
  },
  {
   "cell_type": "code",
   "execution_count": 5,
   "metadata": {},
   "outputs": [
    {
     "data": {
      "text/plain": [
       "['city_stats']"
      ]
     },
     "execution_count": 5,
     "metadata": {},
     "output_type": "execute_result"
    }
   ],
   "source": [
    "#查看数据库中的可用表\n",
    "db.get_usable_table_names()"
   ]
  },
  {
   "cell_type": "code",
   "execution_count": 6,
   "metadata": {},
   "outputs": [
    {
     "name": "stdout",
     "output_type": "stream",
     "text": [
      "\n",
      "CREATE TABLE city_stats (\n",
      "\tcity_name VARCHAR(255), \n",
      "\tpopulation VARCHAR(255), \n",
      "\tarea VARCHAR(255)\n",
      ")COLLATE utf8mb4_0900_ai_ci ENGINE=InnoDB DEFAULT CHARSET=utf8mb4\n",
      "\n",
      "/*\n",
      "3 rows from city_stats table:\n",
      "city_name\tpopulation\tarea\n",
      "北京\t20000000\t400000234\n",
      "上海\t17689300\t29867200\n",
      "河北\t19999944\t39999821\n",
      "*/\n"
     ]
    }
   ],
   "source": [
    "#查看表结构\n",
    "print(db.get_table_info())"
   ]
  },
  {
   "cell_type": "code",
   "execution_count": 7,
   "metadata": {},
   "outputs": [
    {
     "name": "stdout",
     "output_type": "stream",
     "text": [
      "{'table_info': '\\nCREATE TABLE city_stats (\\n\\tcity_name VARCHAR(255), \\n\\tpopulation VARCHAR(255), \\n\\tarea VARCHAR(255)\\n)COLLATE utf8mb4_0900_ai_ci ENGINE=InnoDB DEFAULT CHARSET=utf8mb4\\n\\n/*\\n3 rows from city_stats table:\\ncity_name\\tpopulation\\tarea\\n北京\\t20000000\\t400000234\\n上海\\t17689300\\t29867200\\n河北\\t19999944\\t39999821\\n*/', 'table_names': 'city_stats'}\n"
     ]
    }
   ],
   "source": [
    "#查看数据库信息\n",
    "print(db.get_context())"
   ]
  },
  {
   "cell_type": "code",
   "execution_count": 57,
   "metadata": {},
   "outputs": [],
   "source": [
    "\n",
    "\n",
    "#定义数据库信息查询工具\n",
    "class QueryDatabaseInfoInput(BaseModel):\n",
    "    # query:str = Field(description=\"占位符\")\n",
    "    pass\n",
    "\n",
    "\n",
    "class QueryDatabaseInfoTool(BaseTool):\n",
    "    name:str = Field(default=\"get_database_info\")\n",
    "    description:str = Field(default=\"获取数据库信息\")\n",
    "    args_schema:Type[QueryDatabaseInfoInput] = QueryDatabaseInfoInput\n",
    "\n",
    "    def _run(self) -> str:\n",
    "        return db.get_context()\n",
    "    \n",
    "    def _arun(self) -> str:\n",
    "        return \"暂时不支持异步查询\"\n",
    "    \n",
    "\n",
    "\n",
    "#定义数据库表查询工具\n",
    "class QueryDatabaseTableInput(BaseModel):\n",
    "    query:str = Field(description=\"sql查询语句\")\n",
    "\n",
    "class QueryDatabaseTableTool(BaseTool):\n",
    "    name:str = Field(default=\"get_database_table\")\n",
    "    description:str = Field(default=\"根据 sql语句 获取数据库表信息\")\n",
    "    args_schema:Type[QueryDatabaseTableInput] = QueryDatabaseTableInput\n",
    "\n",
    "    def _run(self, query:str) -> str:\n",
    "        return db.run(query)\n",
    "\n",
    "    def _arun(self, query:str) -> str:\n",
    "        return \"暂时不支持异步查询\"\n",
    "    \n"
   ]
  },
  {
   "cell_type": "code",
   "execution_count": 58,
   "metadata": {},
   "outputs": [],
   "source": [
    "tools = [QueryDatabaseInfoTool(),QueryDatabaseTableTool()]"
   ]
  },
  {
   "cell_type": "code",
   "execution_count": null,
   "metadata": {},
   "outputs": [],
   "source": []
  },
  {
   "cell_type": "code",
   "execution_count": 59,
   "metadata": {},
   "outputs": [],
   "source": [
    "#初始化 记忆模块\n",
    "memory = ConversationBufferMemory(memory_key=\"history\", return_messages=True)"
   ]
  },
  {
   "cell_type": "code",
   "execution_count": null,
   "metadata": {},
   "outputs": [],
   "source": []
  },
  {
   "cell_type": "code",
   "execution_count": null,
   "metadata": {},
   "outputs": [],
   "source": []
  },
  {
   "cell_type": "code",
   "execution_count": 63,
   "metadata": {},
   "outputs": [],
   "source": [
    "agent = initialize_agent(\n",
    "    tools,\n",
    "    online_model,\n",
    "    AgentType.STRUCTURED_CHAT_ZERO_SHOT_REACT_DESCRIPTION,\n",
    "    verbose=True,\n",
    "    handle_parsing_errors=True, # 处理解析错误\n",
    "    memory=memory\n",
    ")"
   ]
  },
  {
   "cell_type": "code",
   "execution_count": 70,
   "metadata": {},
   "outputs": [
    {
     "data": {
      "text/plain": [
       "[HumanMessage(content='请帮我查询数据库信息', additional_kwargs={}, response_metadata={}),\n",
       " AIMessage(content='数据库信息如下：\\n表名：city_stats\\n表结构：\\ncity_name (VARCHAR(255))\\npopulation (VARCHAR(255))\\narea (VARCHAR(255))\\n示例数据：\\ncity_name\\tpopulation\\tarea\\n北京\\t20000000\\t400000234\\n上海\\t17689300\\t29867200\\n河北\\t19999944\\t39999821', additional_kwargs={}, response_metadata={}),\n",
       " HumanMessage(content='请帮我查询一下表中的所有信息', additional_kwargs={}, response_metadata={}),\n",
       " AIMessage(content='请问您想查询哪个表的信息？请提供具体的表名以便我为您查询。', additional_kwargs={}, response_metadata={}),\n",
       " HumanMessage(content='请告诉我数据库表city_stats中人口最多的两个城市名字是哪些，分别是多少人', additional_kwargs={}, response_metadata={}),\n",
       " AIMessage(content='人口最多的两个城市名字是北京和河北，人口数分别为20000000和19999944。', additional_kwargs={}, response_metadata={})]"
      ]
     },
     "execution_count": 70,
     "metadata": {},
     "output_type": "execute_result"
    }
   ],
   "source": [
    "# 查看 记忆内容\n",
    "agent.memory.chat_memory.messages"
   ]
  },
  {
   "cell_type": "code",
   "execution_count": null,
   "metadata": {},
   "outputs": [],
   "source": []
  },
  {
   "cell_type": "code",
   "execution_count": null,
   "metadata": {},
   "outputs": [],
   "source": []
  },
  {
   "cell_type": "code",
   "execution_count": 65,
   "metadata": {},
   "outputs": [
    {
     "name": "stdout",
     "output_type": "stream",
     "text": [
      "\n",
      "\n",
      "\u001b[1m> Entering new AgentExecutor chain...\u001b[0m\n",
      "\u001b[32;1m\u001b[1;3mThought: 需要使用 get_database_info 工具来获取数据库信息\n",
      "\n",
      "Action:\n",
      "```\n",
      "{\n",
      "  \"action\": \"get_database_info\",\n",
      "  \"action_input\": {}\n",
      "}\n",
      "``` \n",
      "\u001b[0m\n",
      "Observation: \u001b[36;1m\u001b[1;3m{'table_info': '\\nCREATE TABLE city_stats (\\n\\tcity_name VARCHAR(255), \\n\\tpopulation VARCHAR(255), \\n\\tarea VARCHAR(255)\\n)COLLATE utf8mb4_0900_ai_ci ENGINE=InnoDB DEFAULT CHARSET=utf8mb4\\n\\n/*\\n3 rows from city_stats table:\\ncity_name\\tpopulation\\tarea\\n北京\\t20000000\\t400000234\\n上海\\t17689300\\t29867200\\n河北\\t19999944\\t39999821\\n*/', 'table_names': 'city_stats'}\u001b[0m\n",
      "Thought:\u001b[32;1m\u001b[1;3m我已经获取了数据库信息，现在可以回答用户的问题。\n",
      "\n",
      "Action:\n",
      "```\n",
      "{\n",
      "  \"action\": \"Final Answer\",\n",
      "  \"action_input\": \"数据库信息如下：\\n表名：city_stats\\n表结构：\\ncity_name (VARCHAR(255))\\npopulation (VARCHAR(255))\\narea (VARCHAR(255))\\n示例数据：\\ncity_name\\tpopulation\\tarea\\n北京\\t20000000\\t400000234\\n上海\\t17689300\\t29867200\\n河北\\t19999944\\t39999821\"\n",
      "}\n",
      "```\u001b[0m\n",
      "\n",
      "\u001b[1m> Finished chain.\u001b[0m\n"
     ]
    },
    {
     "data": {
      "text/plain": [
       "{'input': '请帮我查询数据库信息',\n",
       " 'history': [HumanMessage(content='请帮我查询数据库信息', additional_kwargs={}, response_metadata={}),\n",
       "  AIMessage(content='数据库信息如下：\\n表名：city_stats\\n表结构：\\ncity_name (VARCHAR(255))\\npopulation (VARCHAR(255))\\narea (VARCHAR(255))\\n示例数据：\\ncity_name\\tpopulation\\tarea\\n北京\\t20000000\\t400000234\\n上海\\t17689300\\t29867200\\n河北\\t19999944\\t39999821', additional_kwargs={}, response_metadata={})],\n",
       " 'output': '数据库信息如下：\\n表名：city_stats\\n表结构：\\ncity_name (VARCHAR(255))\\npopulation (VARCHAR(255))\\narea (VARCHAR(255))\\n示例数据：\\ncity_name\\tpopulation\\tarea\\n北京\\t20000000\\t400000234\\n上海\\t17689300\\t29867200\\n河北\\t19999944\\t39999821'}"
      ]
     },
     "execution_count": 65,
     "metadata": {},
     "output_type": "execute_result"
    }
   ],
   "source": [
    "result = agent.invoke(\"请帮我查询数据库信息\")\n",
    "result"
   ]
  },
  {
   "cell_type": "code",
   "execution_count": 71,
   "metadata": {},
   "outputs": [
    {
     "name": "stdout",
     "output_type": "stream",
     "text": [
      "\n",
      "\n",
      "\u001b[1m> Entering new AgentExecutor chain...\u001b[0m\n",
      "\u001b[32;1m\u001b[1;3mThought: 用户想要查询表中的所有信息，但是没有提供具体的表名。我需要向用户询问表名。\n",
      "\n",
      "Action:\n",
      "```\n",
      "{\n",
      "  \"action\": \"Final Answer\",\n",
      "  \"action_input\": \"请问您想查询哪个表的信息？请提供表名以便我为您查询。\"\n",
      "}\n",
      "```\u001b[0m\n",
      "\n",
      "\u001b[1m> Finished chain.\u001b[0m\n"
     ]
    },
    {
     "data": {
      "text/plain": [
       "{'input': '请帮我查询一下表中的所有信息',\n",
       " 'history': [HumanMessage(content='请帮我查询数据库信息', additional_kwargs={}, response_metadata={}),\n",
       "  AIMessage(content='数据库信息如下：\\n表名：city_stats\\n表结构：\\ncity_name (VARCHAR(255))\\npopulation (VARCHAR(255))\\narea (VARCHAR(255))\\n示例数据：\\ncity_name\\tpopulation\\tarea\\n北京\\t20000000\\t400000234\\n上海\\t17689300\\t29867200\\n河北\\t19999944\\t39999821', additional_kwargs={}, response_metadata={}),\n",
       "  HumanMessage(content='请帮我查询一下表中的所有信息', additional_kwargs={}, response_metadata={}),\n",
       "  AIMessage(content='请问您想查询哪个表的信息？请提供具体的表名以便我为您查询。', additional_kwargs={}, response_metadata={}),\n",
       "  HumanMessage(content='请告诉我数据库表city_stats中人口最多的两个城市名字是哪些，分别是多少人', additional_kwargs={}, response_metadata={}),\n",
       "  AIMessage(content='人口最多的两个城市名字是北京和河北，人口数分别为20000000和19999944。', additional_kwargs={}, response_metadata={}),\n",
       "  HumanMessage(content='请帮我查询一下表中的所有信息', additional_kwargs={}, response_metadata={}),\n",
       "  AIMessage(content='请问您想查询哪个表的信息？请提供表名以便我为您查询。', additional_kwargs={}, response_metadata={})],\n",
       " 'output': '请问您想查询哪个表的信息？请提供表名以便我为您查询。'}"
      ]
     },
     "execution_count": 71,
     "metadata": {},
     "output_type": "execute_result"
    }
   ],
   "source": [
    "result = agent.invoke(\"请帮我查询一下表中的所有信息\")\n",
    "result"
   ]
  },
  {
   "cell_type": "code",
   "execution_count": 72,
   "metadata": {},
   "outputs": [
    {
     "name": "stdout",
     "output_type": "stream",
     "text": [
      "\n",
      "\n",
      "\u001b[1m> Entering new AgentExecutor chain...\u001b[0m\n",
      "\u001b[32;1m\u001b[1;3mThought: 首先，我需要从数据库中获取表city_stats的信息。为了做到这一点，我将使用get_database_table工具执行一条SQL查询语句，这条语句将选择人口数量降序排列的前两个城市的名字和人口数量。\n",
      "Action:\n",
      "```\n",
      "{\n",
      "  \"action\": \"get_database_table\",\n",
      "  \"action_input\": {\n",
      "    \"query\": \"SELECT city_name, population FROM city_stats ORDER BY population DESC LIMIT 2;\"\n",
      "  }\n",
      "}\n",
      "```\n",
      "\u001b[0m\n",
      "Observation: \u001b[33;1m\u001b[1;3m[('北京', '20000000'), ('河北', '19999944')]\u001b[0m\n",
      "Thought:\u001b[32;1m\u001b[1;3m我已经从数据库中获取了人口最多的两个城市的名字和人口数量。现在我可以给出最终的答案。\n",
      "Action:\n",
      "```\n",
      "{\n",
      "  \"action\": \"Final Answer\",\n",
      "  \"action_input\": \"人口最多的两个城市是北京和河北，分别是20000000人和19999944人。\"\n",
      "}\n",
      "```\u001b[0m\n",
      "\n",
      "\u001b[1m> Finished chain.\u001b[0m\n"
     ]
    },
    {
     "data": {
      "text/plain": [
       "{'input': '请告诉我数据库表city_stats中人口最多的两个城市名字是哪些，分别是多少人',\n",
       " 'history': [HumanMessage(content='请帮我查询数据库信息', additional_kwargs={}, response_metadata={}),\n",
       "  AIMessage(content='数据库信息如下：\\n表名：city_stats\\n表结构：\\ncity_name (VARCHAR(255))\\npopulation (VARCHAR(255))\\narea (VARCHAR(255))\\n示例数据：\\ncity_name\\tpopulation\\tarea\\n北京\\t20000000\\t400000234\\n上海\\t17689300\\t29867200\\n河北\\t19999944\\t39999821', additional_kwargs={}, response_metadata={}),\n",
       "  HumanMessage(content='请帮我查询一下表中的所有信息', additional_kwargs={}, response_metadata={}),\n",
       "  AIMessage(content='请问您想查询哪个表的信息？请提供具体的表名以便我为您查询。', additional_kwargs={}, response_metadata={}),\n",
       "  HumanMessage(content='请告诉我数据库表city_stats中人口最多的两个城市名字是哪些，分别是多少人', additional_kwargs={}, response_metadata={}),\n",
       "  AIMessage(content='人口最多的两个城市名字是北京和河北，人口数分别为20000000和19999944。', additional_kwargs={}, response_metadata={}),\n",
       "  HumanMessage(content='请帮我查询一下表中的所有信息', additional_kwargs={}, response_metadata={}),\n",
       "  AIMessage(content='请问您想查询哪个表的信息？请提供表名以便我为您查询。', additional_kwargs={}, response_metadata={}),\n",
       "  HumanMessage(content='请告诉我数据库表city_stats中人口最多的两个城市名字是哪些，分别是多少人', additional_kwargs={}, response_metadata={}),\n",
       "  AIMessage(content='人口最多的两个城市是北京和河北，分别是20000000人和19999944人。', additional_kwargs={}, response_metadata={})],\n",
       " 'output': '人口最多的两个城市是北京和河北，分别是20000000人和19999944人。'}"
      ]
     },
     "execution_count": 72,
     "metadata": {},
     "output_type": "execute_result"
    }
   ],
   "source": [
    "result = agent.invoke(\"请告诉我数据库表city_stats中人口最多的两个城市名字是哪些，分别是多少人\")\n",
    "result"
   ]
  },
  {
   "cell_type": "code",
   "execution_count": null,
   "metadata": {},
   "outputs": [],
   "source": []
  },
  {
   "cell_type": "code",
   "execution_count": null,
   "metadata": {},
   "outputs": [],
   "source": []
  },
  {
   "cell_type": "code",
   "execution_count": null,
   "metadata": {},
   "outputs": [],
   "source": []
  },
  {
   "cell_type": "code",
   "execution_count": null,
   "metadata": {},
   "outputs": [],
   "source": []
  },
  {
   "cell_type": "code",
   "execution_count": null,
   "metadata": {},
   "outputs": [],
   "source": []
  },
  {
   "cell_type": "code",
   "execution_count": null,
   "metadata": {},
   "outputs": [],
   "source": []
  },
  {
   "cell_type": "code",
   "execution_count": null,
   "metadata": {},
   "outputs": [],
   "source": []
  },
  {
   "cell_type": "code",
   "execution_count": null,
   "metadata": {},
   "outputs": [],
   "source": []
  }
 ],
 "metadata": {
  "kernelspec": {
   "display_name": "langchain",
   "language": "python",
   "name": "python3"
  },
  "language_info": {
   "codemirror_mode": {
    "name": "ipython",
    "version": 3
   },
   "file_extension": ".py",
   "mimetype": "text/x-python",
   "name": "python",
   "nbconvert_exporter": "python",
   "pygments_lexer": "ipython3",
   "version": "3.11.11"
  }
 },
 "nbformat": 4,
 "nbformat_minor": 2
}
