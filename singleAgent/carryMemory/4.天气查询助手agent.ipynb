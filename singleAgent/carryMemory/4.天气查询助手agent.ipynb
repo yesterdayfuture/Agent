{
 "cells": [
  {
   "cell_type": "code",
   "execution_count": 1,
   "metadata": {},
   "outputs": [],
   "source": [
    "from langchain_openai.chat_models import ChatOpenAI\n",
    "from langchain.memory import ConversationBufferMemory\n",
    "from langchain.prompts import PromptTemplate\n",
    "\n",
    "import os\n",
    "from dotenv import load_dotenv\n",
    "\n",
    "load_dotenv()\n",
    "\n",
    "api_key = os.getenv(\"api_key\")\n",
    "base_url = os.getenv(\"base_url\")\n",
    "\n",
    "online_llm = ChatOpenAI(\n",
    "    api_key=api_key,\n",
    "    model=\"qwen-plus\",\n",
    "    base_url=base_url,\n",
    "    temperature=0\n",
    ")"
   ]
  },
  {
   "cell_type": "code",
   "execution_count": 2,
   "metadata": {},
   "outputs": [],
   "source": [
    "#导入建立 agent 的相关环境\n",
    "from langchain.agents import initialize_agent, AgentType\n",
    "from langchain.agents import Tool #定义工具信息的\n",
    "from pydantic import BaseModel,Field\n",
    "from langchain.tools import BaseTool\n",
    "from typing import Type\n",
    "import requests"
   ]
  },
  {
   "cell_type": "code",
   "execution_count": 3,
   "metadata": {},
   "outputs": [
    {
     "name": "stderr",
     "output_type": "stream",
     "text": [
      "/var/folders/xh/fl5j9g1n5t79htj8yk1cswzh0000gn/T/ipykernel_41751/2833621595.py:2: LangChainDeprecationWarning: Please see the migration guide at: https://python.langchain.com/docs/versions/migrating_memory/\n",
      "  memory = ConversationBufferMemory(memory_key=\"chat_history\",return_messages=True)\n"
     ]
    }
   ],
   "source": [
    "## 定义记忆模块\n",
    "memory = ConversationBufferMemory(memory_key=\"chat_history\",return_messages=True)"
   ]
  },
  {
   "cell_type": "code",
   "execution_count": null,
   "metadata": {},
   "outputs": [],
   "source": []
  },
  {
   "cell_type": "code",
   "execution_count": 4,
   "metadata": {},
   "outputs": [],
   "source": [
    "# 聚合网相关api调用-根据城市查询天气 - 代码参考（根据实际业务情况修改）\n",
    "# 基本参数配置\n",
    "apiUrl = 'http://apis.juhe.cn/simpleWeather/query'  # 接口请求URL\n",
    "juheAppKey = os.getenv('juheAppKey')  # 在个人中心->我的数据,接口名称上方查看\n",
    "\n",
    "def get_weather(city:str):\n",
    "    # 接口请求入参配置\n",
    "    requestParams = {\n",
    "        'key': juheAppKey,\n",
    "        'city': city,\n",
    "    }\n",
    "  # 发起接口网络请求\n",
    "    response = requests.get(apiUrl, params=requestParams)\n",
    "\n",
    "    # 解析响应结果\n",
    "    if response.status_code == 200:\n",
    "        responseResult = response.json()\n",
    "        # 网络请求成功。可依据业务逻辑和接口文档说明自行处理。\n",
    "        print(responseResult)\n",
    "        return responseResult\n",
    "    else:\n",
    "        # 网络异常等因素，解析结果异常。可依据业务逻辑自行处理。\n",
    "        return '请求异常'"
   ]
  },
  {
   "cell_type": "code",
   "execution_count": 5,
   "metadata": {},
   "outputs": [],
   "source": [
    "#定义 获取天气的 工具\n",
    "\n",
    "class GetWeatherInput(BaseModel):\n",
    "    city: str = Field(description=\"城市名称\")\n",
    "\n",
    "class GetWeather(BaseTool):\n",
    "    name: str = Field(default=\"get_weather\")\n",
    "    description: str = Field(default=\"这是一个获取天气的API，可以获取指定城市的天气情况，需要用户提供城市名称\")\n",
    "    args_schema: Type[BaseModel] = GetWeatherInput\n",
    "\n",
    "    def _run(self, city: str) -> str:\n",
    "        print(f'开始查询{city}的天气信息')\n",
    "        return get_weather(city)\n",
    "    async def _arun(self, city: str) -> str:\n",
    "        raise NotImplementedError(\"This tool does not support async\")\n"
   ]
  },
  {
   "cell_type": "code",
   "execution_count": 7,
   "metadata": {},
   "outputs": [],
   "source": [
    "#定义时间工具\n",
    "\n",
    "import datetime\n",
    "\n",
    "class GetDateInput(BaseModel):\n",
    "    format: str = Field(default=\"%Y-%m-%d\", description=\"日期格式\")\n",
    "\n",
    "class GetDate(BaseTool):\n",
    "    name: str = Field(default=\"get_date\")\n",
    "    description: str = Field(default=\"这是一个获取日期的API，可以获取当前日期\")\n",
    "    args_schema: Type[BaseModel] = GetDateInput\n",
    "\n",
    "    def _run(self, format: str) -> str:\n",
    "        return datetime.datetime.now().strftime('%Y-%m-%d')\n",
    "    async def _arun(self) -> str:\n",
    "        raise NotImplementedError(\"This tool does not support async\")\n"
   ]
  },
  {
   "cell_type": "code",
   "execution_count": 8,
   "metadata": {},
   "outputs": [
    {
     "data": {
      "text/plain": [
       "[GetWeather(), GetDate()]"
      ]
     },
     "execution_count": 8,
     "metadata": {},
     "output_type": "execute_result"
    }
   ],
   "source": [
    "# 工具注册\n",
    "tools = [GetWeather(), GetDate()]\n",
    "tools"
   ]
  },
  {
   "cell_type": "code",
   "execution_count": 9,
   "metadata": {},
   "outputs": [
    {
     "name": "stderr",
     "output_type": "stream",
     "text": [
      "/var/folders/xh/fl5j9g1n5t79htj8yk1cswzh0000gn/T/ipykernel_41751/1714861103.py:10: LangChainDeprecationWarning: LangChain agents will continue to be supported, but it is recommended for new use cases to be built with LangGraph. LangGraph offers a more flexible and full-featured framework for building agents, including support for tool-calling, persistence of state, and human-in-the-loop workflows. See LangGraph documentation for more details: https://langchain-ai.github.io/langgraph/. Refer here for its pre-built ReAct agent: https://langchain-ai.github.io/langgraph/how-tos/create-react-agent/\n",
      "  agent = initialize_agent(\n"
     ]
    }
   ],
   "source": [
    "'''\n",
    "STRUCTURED_CHAT_ZERO_SHOT_REACT_DESCRIPTION：支持多个输入参数的字符串工具\n",
    "ZeroShotAgent属于零样本学习型Agent，默认仅支持​​单输入参数的字符串工具​​，并且需要提供工具的描述信息。\n",
    "CONVERSATIONAL_REACT_DESCRIPTION\n",
    "'''\n",
    "\n",
    "\n",
    "\n",
    "#定义agent\n",
    "agent = initialize_agent(\n",
    "    tools,\n",
    "    online_llm,\n",
    "    AgentType.CHAT_CONVERSATIONAL_REACT_DESCRIPTION,\n",
    "    verbose=True,\n",
    "    handle_parsing_errors=True, # 处理解析错误\n",
    "    memory=memory, #记忆模块\n",
    ")"
   ]
  },
  {
   "cell_type": "code",
   "execution_count": 10,
   "metadata": {},
   "outputs": [
    {
     "name": "stderr",
     "output_type": "stream",
     "text": [
      "/var/folders/xh/fl5j9g1n5t79htj8yk1cswzh0000gn/T/ipykernel_41751/2129618717.py:2: LangChainDeprecationWarning: The method `Chain.run` was deprecated in langchain 0.1.0 and will be removed in 1.0. Use :meth:`~invoke` instead.\n",
      "  result = agent.run(\"请帮我查询一下北京的天气\")\n"
     ]
    },
    {
     "name": "stdout",
     "output_type": "stream",
     "text": [
      "\n",
      "\n",
      "\u001b[1m> Entering new AgentExecutor chain...\u001b[0m\n",
      "\u001b[32;1m\u001b[1;3m```json\n",
      "{\n",
      "    \"action\": \"get_weather\",\n",
      "    \"action_input\": \"北京\"\n",
      "}\n",
      "```\u001b[0m开始查询北京的天气信息\n",
      "{'reason': '查询成功!', 'result': {'city': '北京', 'realtime': {'temperature': '22', 'humidity': '60', 'info': '多云', 'wid': '01', 'direct': '东南风', 'power': '1级', 'aqi': '57'}, 'future': [{'date': '2025-05-27', 'temperature': '18/32℃', 'weather': '多云转晴', 'wid': {'day': '01', 'night': '00'}, 'direct': '西南风'}, {'date': '2025-05-28', 'temperature': '19/33℃', 'weather': '晴', 'wid': {'day': '00', 'night': '00'}, 'direct': '西南风'}, {'date': '2025-05-29', 'temperature': '22/33℃', 'weather': '晴', 'wid': {'day': '00', 'night': '00'}, 'direct': '西南风转南风'}, {'date': '2025-05-30', 'temperature': '24/33℃', 'weather': '多云', 'wid': {'day': '01', 'night': '01'}, 'direct': '西南风转南风'}, {'date': '2025-05-31', 'temperature': '22/28℃', 'weather': '阴', 'wid': {'day': '02', 'night': '02'}, 'direct': '东北风'}]}, 'error_code': 0}\n",
      "\n",
      "Observation: \u001b[36;1m\u001b[1;3m{'reason': '查询成功!', 'result': {'city': '北京', 'realtime': {'temperature': '22', 'humidity': '60', 'info': '多云', 'wid': '01', 'direct': '东南风', 'power': '1级', 'aqi': '57'}, 'future': [{'date': '2025-05-27', 'temperature': '18/32℃', 'weather': '多云转晴', 'wid': {'day': '01', 'night': '00'}, 'direct': '西南风'}, {'date': '2025-05-28', 'temperature': '19/33℃', 'weather': '晴', 'wid': {'day': '00', 'night': '00'}, 'direct': '西南风'}, {'date': '2025-05-29', 'temperature': '22/33℃', 'weather': '晴', 'wid': {'day': '00', 'night': '00'}, 'direct': '西南风转南风'}, {'date': '2025-05-30', 'temperature': '24/33℃', 'weather': '多云', 'wid': {'day': '01', 'night': '01'}, 'direct': '西南风转南风'}, {'date': '2025-05-31', 'temperature': '22/28℃', 'weather': '阴', 'wid': {'day': '02', 'night': '02'}, 'direct': '东北风'}]}, 'error_code': 0}\u001b[0m\n",
      "Thought:\u001b[32;1m\u001b[1;3m```json\n",
      "{\n",
      "    \"action\": \"Final Answer\",\n",
      "    \"action_input\": \"北京当前的天气为多云，温度为22℃，湿度为60%，风向为东南风，风力等级为1级，空气质量指数为57。未来几天的天气预报显示，天气将以晴天和多云为主，温度在18至33℃之间波动。\"\n",
      "}\n",
      "```\u001b[0m\n",
      "\n",
      "\u001b[1m> Finished chain.\u001b[0m\n"
     ]
    },
    {
     "data": {
      "text/plain": [
       "'北京当前的天气为多云，温度为22℃，湿度为60%，风向为东南风，风力等级为1级，空气质量指数为57。未来几天的天气预报显示，天气将以晴天和多云为主，温度在18至33℃之间波动。'"
      ]
     },
     "execution_count": 10,
     "metadata": {},
     "output_type": "execute_result"
    }
   ],
   "source": [
    "#测试调用\n",
    "result = agent.run(\"请帮我查询一下北京的天气\")\n",
    "result"
   ]
  },
  {
   "cell_type": "code",
   "execution_count": 11,
   "metadata": {},
   "outputs": [
    {
     "name": "stdout",
     "output_type": "stream",
     "text": [
      "\n",
      "\n",
      "\u001b[1m> Entering new AgentExecutor chain...\u001b[0m\n",
      "\u001b[32;1m\u001b[1;3m```json\n",
      "{\n",
      "    \"action\": \"get_date\",\n",
      "    \"action_input\": \"\"\n",
      "}\n",
      "```\u001b[0m\n",
      "Observation: \u001b[33;1m\u001b[1;3m2025-05-27\u001b[0m\n",
      "Thought:\u001b[32;1m\u001b[1;3m```json\n",
      "{\n",
      "    \"action\": \"Final Answer\",\n",
      "    \"action_input\": \"今天是2025年5月27日。\"\n",
      "}\n",
      "```\u001b[0m\n",
      "\n",
      "\u001b[1m> Finished chain.\u001b[0m\n"
     ]
    },
    {
     "data": {
      "text/plain": [
       "'今天是2025年5月27日。'"
      ]
     },
     "execution_count": 11,
     "metadata": {},
     "output_type": "execute_result"
    }
   ],
   "source": [
    "result = agent.run(\"今日时间\")\n",
    "result"
   ]
  },
  {
   "cell_type": "code",
   "execution_count": 12,
   "metadata": {},
   "outputs": [
    {
     "name": "stdout",
     "output_type": "stream",
     "text": [
      "\n",
      "\n",
      "\u001b[1m> Entering new AgentExecutor chain...\u001b[0m\n",
      "\u001b[32;1m\u001b[1;3m```json\n",
      "{\n",
      "    \"action\": \"Final Answer\",\n",
      "    \"action_input\": \"您第一次查看了北京的天气。\"\n",
      "}\n",
      "```\u001b[0m\n",
      "\n",
      "\u001b[1m> Finished chain.\u001b[0m\n"
     ]
    },
    {
     "data": {
      "text/plain": [
       "'您第一次查看了北京的天气。'"
      ]
     },
     "execution_count": 12,
     "metadata": {},
     "output_type": "execute_result"
    }
   ],
   "source": [
    "result = agent.run(\"我第一次查看了哪个城市的天气\")\n",
    "result"
   ]
  },
  {
   "cell_type": "code",
   "execution_count": 16,
   "metadata": {},
   "outputs": [
    {
     "name": "stdout",
     "output_type": "stream",
     "text": [
      "\n",
      "\n",
      "\u001b[1m> Entering new AgentExecutor chain...\u001b[0m\n",
      "\u001b[32;1m\u001b[1;3m```json\n",
      "{\n",
      "    \"action\": \"Final Answer\",\n",
      "    \"action_input\": \"上一个问题是关于推荐北京旅游景点的问题。\"\n",
      "}\n",
      "```\u001b[0m\n",
      "\n",
      "\u001b[1m> Finished chain.\u001b[0m\n"
     ]
    },
    {
     "data": {
      "text/plain": [
       "'上一个问题是关于推荐北京旅游景点的问题。'"
      ]
     },
     "execution_count": 16,
     "metadata": {},
     "output_type": "execute_result"
    }
   ],
   "source": [
    "result = agent.run(\"上一个问题是什么\")\n",
    "result"
   ]
  },
  {
   "cell_type": "code",
   "execution_count": 17,
   "metadata": {},
   "outputs": [
    {
     "name": "stdout",
     "output_type": "stream",
     "text": [
      "\n",
      "\n",
      "\u001b[1m> Entering new AgentExecutor chain...\u001b[0m\n",
      "\u001b[32;1m\u001b[1;3m```json\n",
      "{\n",
      "    \"action\": \"Final Answer\",\n",
      "    \"action_input\": \"北京有许多著名的旅游景点，例如故宫、天安门广场、长城（如八达岭或慕田峪段）、颐和园、天坛公园、奥林匹克公园以及798艺术区等。此外，您还可以体验胡同文化，品尝地道的北京美食，比如烤鸭和炸酱面。\"\n",
      "}\n",
      "```\u001b[0m\n",
      "\n",
      "\u001b[1m> Finished chain.\u001b[0m\n"
     ]
    },
    {
     "data": {
      "text/plain": [
       "'北京有许多著名的旅游景点，例如故宫、天安门广场、长城（如八达岭或慕田峪段）、颐和园、天坛公园、奥林匹克公园以及798艺术区等。此外，您还可以体验胡同文化，品尝地道的北京美食，比如烤鸭和炸酱面。'"
      ]
     },
     "execution_count": 17,
     "metadata": {},
     "output_type": "execute_result"
    }
   ],
   "source": [
    "result = agent.run(\"去这里旅游，有什么景点推荐\")\n",
    "result"
   ]
  },
  {
   "cell_type": "code",
   "execution_count": null,
   "metadata": {},
   "outputs": [],
   "source": []
  },
  {
   "cell_type": "code",
   "execution_count": null,
   "metadata": {},
   "outputs": [],
   "source": []
  },
  {
   "cell_type": "code",
   "execution_count": 18,
   "metadata": {},
   "outputs": [
    {
     "data": {
      "text/plain": [
       "InMemoryChatMessageHistory(messages=[HumanMessage(content='请帮我查询一下北京的天气', additional_kwargs={}, response_metadata={}), AIMessage(content='北京当前的天气为多云，温度为22℃，湿度为60%，风向为东南风，风力等级为1级，空气质量指数为57。未来几天的天气预报显示，天气将以晴天和多云为主，温度在18至33℃之间波动。', additional_kwargs={}, response_metadata={}), HumanMessage(content='今日时间', additional_kwargs={}, response_metadata={}), AIMessage(content='今天是2025年5月27日。', additional_kwargs={}, response_metadata={}), HumanMessage(content='我第一次查看了哪个城市的天气', additional_kwargs={}, response_metadata={}), AIMessage(content='您第一次查看了北京的天气。', additional_kwargs={}, response_metadata={}), HumanMessage(content='去这里旅游有什么景点推荐', additional_kwargs={}, response_metadata={}), AIMessage(content='请您告诉我具体是哪个城市，我可以为您推荐该城市的旅游景点！', additional_kwargs={}, response_metadata={}), HumanMessage(content='去这里旅游有什么景点推荐', additional_kwargs={}, response_metadata={}), AIMessage(content='请您告诉我具体是哪个城市，我可以为您推荐该城市的旅游景点！', additional_kwargs={}, response_metadata={}), HumanMessage(content='上一个问题是什么', additional_kwargs={}, response_metadata={}), AIMessage(content='上一个问题是关于推荐北京旅游景点的问题。', additional_kwargs={}, response_metadata={}), HumanMessage(content='去这里旅游，有什么景点推荐', additional_kwargs={}, response_metadata={}), AIMessage(content='北京有许多著名的旅游景点，例如故宫、天安门广场、长城（如八达岭或慕田峪段）、颐和园、天坛公园、奥林匹克公园以及798艺术区等。此外，您还可以体验胡同文化，品尝地道的北京美食，比如烤鸭和炸酱面。', additional_kwargs={}, response_metadata={})])"
      ]
     },
     "execution_count": 18,
     "metadata": {},
     "output_type": "execute_result"
    }
   ],
   "source": [
    "#查看agent的memory\n",
    "agent.memory.chat_memory"
   ]
  },
  {
   "cell_type": "code",
   "execution_count": null,
   "metadata": {},
   "outputs": [],
   "source": []
  },
  {
   "cell_type": "code",
   "execution_count": null,
   "metadata": {},
   "outputs": [],
   "source": []
  }
 ],
 "metadata": {
  "kernelspec": {
   "display_name": "langchain",
   "language": "python",
   "name": "python3"
  },
  "language_info": {
   "codemirror_mode": {
    "name": "ipython",
    "version": 3
   },
   "file_extension": ".py",
   "mimetype": "text/x-python",
   "name": "python",
   "nbconvert_exporter": "python",
   "pygments_lexer": "ipython3",
   "version": "3.11.11"
  }
 },
 "nbformat": 4,
 "nbformat_minor": 2
}
