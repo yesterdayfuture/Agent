{
 "cells": [
  {
   "cell_type": "markdown",
   "metadata": {},
   "source": [
    "### 构建路由链"
   ]
  },
  {
   "cell_type": "code",
   "execution_count": null,
   "metadata": {},
   "outputs": [],
   "source": []
  },
  {
   "cell_type": "code",
   "execution_count": 1,
   "metadata": {},
   "outputs": [],
   "source": [
    "\n",
    "from langchain_openai.chat_models import ChatOpenAI\n",
    "from langchain.memory import ConversationBufferMemory\n",
    "from langchain.prompts import PromptTemplate\n",
    "\n",
    "import os\n",
    "from dotenv import load_dotenv\n",
    "\n",
    "load_dotenv()\n",
    "\n",
    "api_key = os.getenv(\"api_key\")\n",
    "base_url = os.getenv(\"base_url\")\n",
    "\n",
    "online_llm = ChatOpenAI(\n",
    "    api_key=api_key,\n",
    "    model=\"qwen-plus\",\n",
    "    base_url=base_url,\n",
    "    temperature=0\n",
    ")\n",
    "\n",
    "\n"
   ]
  },
  {
   "cell_type": "code",
   "execution_count": 2,
   "metadata": {},
   "outputs": [],
   "source": [
    "# 路由链相关环境\n",
    "from langchain.chains import LLMChain, ConversationChain\n",
    "from langchain.chains.router import MultiRouteChain, LLMRouterChain, MultiPromptChain\n",
    "from langchain.chains.router.multi_prompt_prompt import MULTI_PROMPT_ROUTER_TEMPLATE\n",
    "from langchain.chains.router.llm_router import LLMRouterChain, RouterOutputParser"
   ]
  },
  {
   "cell_type": "code",
   "execution_count": 3,
   "metadata": {},
   "outputs": [],
   "source": [
    "# 底层 目标链的prompt\n",
    "math_prompt = \"\"\"\n",
    "你是一位数学家，请根据以下问题，生成对应的数学公式.内容：{input}\n",
    "\"\"\"\n",
    "\n",
    "weather_prompt = \"\"\"你是一位天气预报员，请根据以下问题，生成对应的天气信息.内容：{input}\"\"\"\n",
    "news_prompt = \"\"\"你是一位新闻工作者，请根据以下问题，生成对应的新闻内容.内容：{input}\"\"\""
   ]
  },
  {
   "cell_type": "code",
   "execution_count": 4,
   "metadata": {},
   "outputs": [],
   "source": [
    "#提示词模版 相关信息\n",
    "prompt_info = [\n",
    "    {\n",
    "        \"name\": \"math\",\n",
    "        \"description\": \"数学问题\",\n",
    "        \"prompt\": math_prompt\n",
    "    },\n",
    "    {\n",
    "        \"name\": \"weather\",\n",
    "        \"description\": \"天气问题\",\n",
    "        \"prompt\": weather_prompt\n",
    "    },\n",
    "    {\n",
    "        \"name\": \"news\",\n",
    "        \"description\": \"新闻问题\",\n",
    "        \"prompt\": news_prompt\n",
    "    }\n",
    "]"
   ]
  },
  {
   "cell_type": "code",
   "execution_count": 5,
   "metadata": {},
   "outputs": [
    {
     "name": "stdout",
     "output_type": "stream",
     "text": [
      "{'math': LLMChain(verbose=False, prompt=PromptTemplate(input_variables=['input'], input_types={}, partial_variables={}, template='\\n你是一位数学家，请根据以下问题，生成对应的数学公式.内容：{input}\\n'), llm=ChatOpenAI(client=<openai.resources.chat.completions.completions.Completions object at 0x10c73f050>, async_client=<openai.resources.chat.completions.completions.AsyncCompletions object at 0x10c8b4d50>, root_client=<openai.OpenAI object at 0x10bf8ead0>, root_async_client=<openai.AsyncOpenAI object at 0x10bcc58d0>, model_name='qwen-plus', temperature=0.0, model_kwargs={}, openai_api_key=SecretStr('**********'), openai_api_base='https://dashscope.aliyuncs.com/compatible-mode/v1'), output_parser=StrOutputParser(), llm_kwargs={}), 'weather': LLMChain(verbose=False, prompt=PromptTemplate(input_variables=['input'], input_types={}, partial_variables={}, template='你是一位天气预报员，请根据以下问题，生成对应的天气信息.内容：{input}'), llm=ChatOpenAI(client=<openai.resources.chat.completions.completions.Completions object at 0x10c73f050>, async_client=<openai.resources.chat.completions.completions.AsyncCompletions object at 0x10c8b4d50>, root_client=<openai.OpenAI object at 0x10bf8ead0>, root_async_client=<openai.AsyncOpenAI object at 0x10bcc58d0>, model_name='qwen-plus', temperature=0.0, model_kwargs={}, openai_api_key=SecretStr('**********'), openai_api_base='https://dashscope.aliyuncs.com/compatible-mode/v1'), output_parser=StrOutputParser(), llm_kwargs={}), 'news': LLMChain(verbose=False, prompt=PromptTemplate(input_variables=['input'], input_types={}, partial_variables={}, template='你是一位新闻工作者，请根据以下问题，生成对应的新闻内容.内容：{input}'), llm=ChatOpenAI(client=<openai.resources.chat.completions.completions.Completions object at 0x10c73f050>, async_client=<openai.resources.chat.completions.completions.AsyncCompletions object at 0x10c8b4d50>, root_client=<openai.OpenAI object at 0x10bf8ead0>, root_async_client=<openai.AsyncOpenAI object at 0x10bcc58d0>, model_name='qwen-plus', temperature=0.0, model_kwargs={}, openai_api_key=SecretStr('**********'), openai_api_base='https://dashscope.aliyuncs.com/compatible-mode/v1'), output_parser=StrOutputParser(), llm_kwargs={})}\n"
     ]
    },
    {
     "name": "stderr",
     "output_type": "stream",
     "text": [
      "/var/folders/xh/fl5j9g1n5t79htj8yk1cswzh0000gn/T/ipykernel_21574/2015125349.py:4: LangChainDeprecationWarning: The class `LLMChain` was deprecated in LangChain 0.1.17 and will be removed in 1.0. Use :meth:`~RunnableSequence, e.g., `prompt | llm`` instead.\n",
      "  chain = LLMChain(llm=online_llm, prompt=PromptTemplate.from_template(template=info[\"prompt\"]))\n"
     ]
    }
   ],
   "source": [
    "#定义 目标链\n",
    "chains = {}\n",
    "for info in prompt_info:\n",
    "    chain = LLMChain(llm=online_llm, prompt=PromptTemplate.from_template(template=info[\"prompt\"]))\n",
    "    chains[info[\"name\"]] = chain\n",
    "\n",
    "print(chains)"
   ]
  },
  {
   "cell_type": "code",
   "execution_count": 22,
   "metadata": {},
   "outputs": [],
   "source": [
    "#定义默认链提示词\n",
    "default_prompt = \"\"\"你是一位助手，别人无法回答的问题，你来回答，请回答以下问题：{input}\"\"\""
   ]
  },
  {
   "cell_type": "code",
   "execution_count": 39,
   "metadata": {},
   "outputs": [],
   "source": [
    "#定义默认链\n",
    "default_chain = LLMChain(llm=online_llm, prompt=PromptTemplate.from_template(template=default_prompt))"
   ]
  },
  {
   "cell_type": "code",
   "execution_count": 24,
   "metadata": {},
   "outputs": [],
   "source": [
    "#路由配置\n",
    "prompt_info = [\n",
    "    \"math:你是一位数学家，请根据以下问题，生成对应的数学公式\",\n",
    "    \"weather:你是一位天气预报员，请根据以下问题，生成对应的天气信息\",\n",
    "    \"news:你是一位新闻工作者，请根据以下问题，生成对应的新闻内容\",\n",
    "]"
   ]
  },
  {
   "cell_type": "code",
   "execution_count": 26,
   "metadata": {},
   "outputs": [
    {
     "name": "stdout",
     "output_type": "stream",
     "text": [
      "路由模版是： Given a raw text input to a language model select the model prompt best suited for the input. You will be given the names of the available prompts and a description of what the prompt is best suited for. You may also revise the original input if you think that revising it will ultimately lead to a better response from the language model.\n",
      "\n",
      "<< FORMATTING >>\n",
      "Return a markdown code snippet with a JSON object formatted to look like:\n",
      "```json\n",
      "{{\n",
      "    \"destination\": string \\ name of the prompt to use or \"DEFAULT\"\n",
      "    \"next_inputs\": string \\ a potentially modified version of the original input\n",
      "}}\n",
      "```\n",
      "\n",
      "REMEMBER: \"destination\" MUST be one of the candidate prompt names specified below OR it can be \"DEFAULT\" if the input is not well suited for any of the candidate prompts.\n",
      "REMEMBER: \"next_inputs\" can just be the original input if you don't think any modifications are needed.\n",
      "\n",
      "<< CANDIDATE PROMPTS >>\n",
      "math:你是一位数学家，请根据以下问题，生成对应的数学公式\n",
      "weather:你是一位天气预报员，请根据以下问题，生成对应的天气信息\n",
      "news:你是一位新闻工作者，请根据以下问题，生成对应的新闻内容\n",
      "\n",
      "<< INPUT >>\n",
      "{input}\n",
      "\n",
      "<< OUTPUT (must include ```json at the start of the response) >>\n",
      "<< OUTPUT (must end with ```) >>\n",
      "\n",
      "路由模版router_prompt 是： input_variables=['input'] input_types={} output_parser=RouterOutputParser() partial_variables={} template='Given a raw text input to a language model select the model prompt best suited for the input. You will be given the names of the available prompts and a description of what the prompt is best suited for. You may also revise the original input if you think that revising it will ultimately lead to a better response from the language model.\\n\\n<< FORMATTING >>\\nReturn a markdown code snippet with a JSON object formatted to look like:\\n```json\\n{{\\n    \"destination\": string \\\\ name of the prompt to use or \"DEFAULT\"\\n    \"next_inputs\": string \\\\ a potentially modified version of the original input\\n}}\\n```\\n\\nREMEMBER: \"destination\" MUST be one of the candidate prompt names specified below OR it can be \"DEFAULT\" if the input is not well suited for any of the candidate prompts.\\nREMEMBER: \"next_inputs\" can just be the original input if you don\\'t think any modifications are needed.\\n\\n<< CANDIDATE PROMPTS >>\\nmath:你是一位数学家，请根据以下问题，生成对应的数学公式\\nweather:你是一位天气预报员，请根据以下问题，生成对应的天气信息\\nnews:你是一位新闻工作者，请根据以下问题，生成对应的新闻内容\\n\\n<< INPUT >>\\n{input}\\n\\n<< OUTPUT (must include ```json at the start of the response) >>\\n<< OUTPUT (must end with ```) >>\\n'\n"
     ]
    }
   ],
   "source": [
    "#构建路由模版\n",
    "router_template = MULTI_PROMPT_ROUTER_TEMPLATE.format(destinations = \"\\n\".join(prompt_info))\n",
    "print(\"路由模版是：\",router_template)\n",
    "\n",
    "router_prompt = PromptTemplate(\n",
    "    template=router_template,\n",
    "    # template=\"\\n\".join(prompt_info),\n",
    "    input_variables=[\"input\"],\n",
    "    output_parser=RouterOutputParser()\n",
    "    )\n",
    "print(\"路由模版router_prompt 是：\",router_prompt)"
   ]
  },
  {
   "cell_type": "code",
   "execution_count": null,
   "metadata": {},
   "outputs": [],
   "source": [
    "#构建路由链\n",
    "router_chain = LLMRouterChain.from_llm(llm=online_llm, prompt=router_prompt, verbose=True)"
   ]
  },
  {
   "cell_type": "code",
   "execution_count": 40,
   "metadata": {},
   "outputs": [],
   "source": [
    "#初始化记忆模块\n",
    "memory = ConversationBufferMemory(input_key=\"input\", output_key=\"text\", return_messages=True)"
   ]
  },
  {
   "cell_type": "code",
   "execution_count": null,
   "metadata": {},
   "outputs": [],
   "source": []
  },
  {
   "cell_type": "code",
   "execution_count": null,
   "metadata": {},
   "outputs": [],
   "source": []
  },
  {
   "cell_type": "code",
   "execution_count": 41,
   "metadata": {},
   "outputs": [],
   "source": [
    "#构建最终路由链，将路由链和默认链组合, 并添加记忆模块\n",
    "expert_chain = MultiPromptChain(\n",
    "    router_chain=router_chain, #路由链\n",
    "    destination_chains=chains, #路由链对应的链\n",
    "    default_chain=default_chain, #默认链\n",
    "    verbose=True,\n",
    "    memory=memory, #记忆模块\n",
    ")\n"
   ]
  },
  {
   "cell_type": "code",
   "execution_count": 42,
   "metadata": {},
   "outputs": [
    {
     "name": "stdout",
     "output_type": "stream",
     "text": [
      "问题： 你叫什么名字？\n",
      "\n",
      "\n",
      "\u001b[1m> Entering new MultiPromptChain chain...\u001b[0m\n",
      "\n",
      "\n",
      "\u001b[1m> Entering new LLMRouterChain chain...\u001b[0m\n",
      "\n",
      "\u001b[1m> Finished chain.\u001b[0m\n",
      "None: {'input': '你叫什么名字？'}\n",
      "\u001b[1m> Finished chain.\u001b[0m\n",
      "回答： {'input': '你叫什么名字？', 'history': [HumanMessage(content='你叫什么名字？', additional_kwargs={}, response_metadata={}), AIMessage(content='我叫通义千问，英文名是Qwen。我是阿里巴巴集团旗下的通义实验室自主研发的超大规模语言模型。很高兴为您服务！如果您有任何问题，欢迎随时向我提问。', additional_kwargs={}, response_metadata={})], 'text': '我叫通义千问，英文名是Qwen。我是阿里巴巴集团旗下的通义实验室自主研发的超大规模语言模型。很高兴为您服务！如果您有任何问题，欢迎随时向我提问。'}\n",
      "问题： 请你写一首诗，歌颂祖国\n",
      "\n",
      "\n",
      "\u001b[1m> Entering new MultiPromptChain chain...\u001b[0m\n",
      "\n",
      "\n",
      "\u001b[1m> Entering new LLMRouterChain chain...\u001b[0m\n",
      "\n",
      "\u001b[1m> Finished chain.\u001b[0m\n",
      "None: {'input': '请你写一首诗，歌颂祖国'}\n",
      "\u001b[1m> Finished chain.\u001b[0m\n",
      "回答： {'input': '请你写一首诗，歌颂祖国', 'history': [HumanMessage(content='你叫什么名字？', additional_kwargs={}, response_metadata={}), AIMessage(content='我叫通义千问，英文名是Qwen。我是阿里巴巴集团旗下的通义实验室自主研发的超大规模语言模型。很高兴为您服务！如果您有任何问题，欢迎随时向我提问。', additional_kwargs={}, response_metadata={}), HumanMessage(content='请你写一首诗，歌颂祖国', additional_kwargs={}, response_metadata={}), AIMessage(content='以下是几首不同风格的歌颂祖国的诗，供你参考：\\n\\n### 古风豪迈型\\n**《赞华夏》**\\n\\n巍巍华夏五千年，壮丽山河谱锦篇。\\n秦月汉关凝浩气，唐风宋韵铸华笺。\\n长城万里雄心在，大漠千秋浩梦传。\\n今日龙腾惊四海，神州处处绽新颜。\\n\\n解析：首联点明中华民族悠久的历史和灿烂辉煌的文化篇章。颔联通过“秦月汉关”“唐风宋韵”具体展现古代中国的辉煌成就与文化积淀。颈联以长城、大漠象征着中华民族坚韧不拔的精神和绵延不绝的梦想传承。尾联则描绘出当今中国蓬勃发展的态势，令世界瞩目，到处呈现出崭新的面貌。\\n\\n### 清新典雅型\\n**《国之韵》**\\n\\n春临禹甸柳丝柔，碧水青山映眼眸。\\n古寺钟声传雅韵，新城灯火耀金瓯。\\n田园牧曲添佳趣，科技繁花竞自由。\\n盛世祥和民乐业，家国同梦共春秋。\\n\\n解析：开篇描绘春天来临，大地一片生机勃勃，柔和的柳丝与清澈的山水相映成趣。接着写到古老的寺庙钟声传递着高雅的韵味，而现代化的城市灯火照亮了整个国家（金瓯常用来比喻国土）。然后提到乡村田园生活充满乐趣，同时科技发展如繁花般竞相绽放，给人带来无限可能。最后强调在盛世中人民安居乐业，共同怀揣着家国梦想，一起走过岁月长河。\\n\\n### 激昂奋进型\\n**《颂中华崛起》**\\n\\n烽火曾经岁月稠，英雄热血写春秋。\\n改革潮涌开新纪，开放帆扬逐远流。\\n科技兴邦强国路，民生为本固金瓯。\\n复兴路上雄心在，再创辉煌万代留。\\n\\n解析：首联回顾过去，指出曾经经历过无数战火纷飞的岁月，无数英雄用热血书写了壮丽的历史篇章。颔联阐述改革开放这一伟大决策开启了新的时代篇章，推动着国家向前发展。颈联说明依靠科技进步来实现国家强盛的道路，并且始终把民生放在首位以稳固国家根基。尾联表达了在复兴道路上我们有着坚定的雄心壮志，要再次创造辉煌业绩流传万代。', additional_kwargs={}, response_metadata={})], 'text': '以下是几首不同风格的歌颂祖国的诗，供你参考：\\n\\n### 古风豪迈型\\n**《赞华夏》**\\n\\n巍巍华夏五千年，壮丽山河谱锦篇。\\n秦月汉关凝浩气，唐风宋韵铸华笺。\\n长城万里雄心在，大漠千秋浩梦传。\\n今日龙腾惊四海，神州处处绽新颜。\\n\\n解析：首联点明中华民族悠久的历史和灿烂辉煌的文化篇章。颔联通过“秦月汉关”“唐风宋韵”具体展现古代中国的辉煌成就与文化积淀。颈联以长城、大漠象征着中华民族坚韧不拔的精神和绵延不绝的梦想传承。尾联则描绘出当今中国蓬勃发展的态势，令世界瞩目，到处呈现出崭新的面貌。\\n\\n### 清新典雅型\\n**《国之韵》**\\n\\n春临禹甸柳丝柔，碧水青山映眼眸。\\n古寺钟声传雅韵，新城灯火耀金瓯。\\n田园牧曲添佳趣，科技繁花竞自由。\\n盛世祥和民乐业，家国同梦共春秋。\\n\\n解析：开篇描绘春天来临，大地一片生机勃勃，柔和的柳丝与清澈的山水相映成趣。接着写到古老的寺庙钟声传递着高雅的韵味，而现代化的城市灯火照亮了整个国家（金瓯常用来比喻国土）。然后提到乡村田园生活充满乐趣，同时科技发展如繁花般竞相绽放，给人带来无限可能。最后强调在盛世中人民安居乐业，共同怀揣着家国梦想，一起走过岁月长河。\\n\\n### 激昂奋进型\\n**《颂中华崛起》**\\n\\n烽火曾经岁月稠，英雄热血写春秋。\\n改革潮涌开新纪，开放帆扬逐远流。\\n科技兴邦强国路，民生为本固金瓯。\\n复兴路上雄心在，再创辉煌万代留。\\n\\n解析：首联回顾过去，指出曾经经历过无数战火纷飞的岁月，无数英雄用热血书写了壮丽的历史篇章。颔联阐述改革开放这一伟大决策开启了新的时代篇章，推动着国家向前发展。颈联说明依靠科技进步来实现国家强盛的道路，并且始终把民生放在首位以稳固国家根基。尾联表达了在复兴道路上我们有着坚定的雄心壮志，要再次创造辉煌业绩流传万代。'}\n"
     ]
    }
   ],
   "source": [
    "#调用最终链\n",
    "\n",
    "question = [\n",
    "    \"你叫什么名字？\",\n",
    "    \"请你写一首诗，歌颂祖国\"\n",
    "]\n",
    "\n",
    "for q in question:\n",
    "    print(\"问题：\",q)\n",
    "    print(\"回答：\",expert_chain.invoke({\"input\":q}))"
   ]
  },
  {
   "cell_type": "markdown",
   "metadata": {},
   "source": [
    "### 查看 路由链对话记忆"
   ]
  },
  {
   "cell_type": "code",
   "execution_count": 44,
   "metadata": {},
   "outputs": [
    {
     "data": {
      "text/plain": [
       "[HumanMessage(content='你叫什么名字？', additional_kwargs={}, response_metadata={}),\n",
       " AIMessage(content='我叫通义千问，英文名是Qwen。我是阿里巴巴集团旗下的通义实验室自主研发的超大规模语言模型。很高兴为您服务！如果您有任何问题，欢迎随时向我提问。', additional_kwargs={}, response_metadata={}),\n",
       " HumanMessage(content='请你写一首诗，歌颂祖国', additional_kwargs={}, response_metadata={}),\n",
       " AIMessage(content='以下是几首不同风格的歌颂祖国的诗，供你参考：\\n\\n### 古风豪迈型\\n**《赞华夏》**\\n\\n巍巍华夏五千年，壮丽山河谱锦篇。\\n秦月汉关凝浩气，唐风宋韵铸华笺。\\n长城万里雄心在，大漠千秋浩梦传。\\n今日龙腾惊四海，神州处处绽新颜。\\n\\n解析：首联点明中华民族悠久的历史和灿烂辉煌的文化篇章。颔联通过“秦月汉关”“唐风宋韵”具体展现古代中国的辉煌成就与文化积淀。颈联以长城、大漠象征着中华民族坚韧不拔的精神和绵延不绝的梦想传承。尾联则描绘出当今中国蓬勃发展的态势，令世界瞩目，到处呈现出崭新的面貌。\\n\\n### 清新典雅型\\n**《国之韵》**\\n\\n春临禹甸柳丝柔，碧水青山映眼眸。\\n古寺钟声传雅韵，新城灯火耀金瓯。\\n田园牧曲添佳趣，科技繁花竞自由。\\n盛世祥和民乐业，家国同梦共春秋。\\n\\n解析：开篇描绘春天来临，大地一片生机勃勃，柔和的柳丝与清澈的山水相映成趣。接着写到古老的寺庙钟声传递着高雅的韵味，而现代化的城市灯火照亮了整个国家（金瓯常用来比喻国土）。然后提到乡村田园生活充满乐趣，同时科技发展如繁花般竞相绽放，给人带来无限可能。最后强调在盛世中人民安居乐业，共同怀揣着家国梦想，一起走过岁月长河。\\n\\n### 激昂奋进型\\n**《颂中华崛起》**\\n\\n烽火曾经岁月稠，英雄热血写春秋。\\n改革潮涌开新纪，开放帆扬逐远流。\\n科技兴邦强国路，民生为本固金瓯。\\n复兴路上雄心在，再创辉煌万代留。\\n\\n解析：首联回顾过去，指出曾经经历过无数战火纷飞的岁月，无数英雄用热血书写了壮丽的历史篇章。颔联阐述改革开放这一伟大决策开启了新的时代篇章，推动着国家向前发展。颈联说明依靠科技进步来实现国家强盛的道路，并且始终把民生放在首位以稳固国家根基。尾联表达了在复兴道路上我们有着坚定的雄心壮志，要再次创造辉煌业绩流传万代。', additional_kwargs={}, response_metadata={})]"
      ]
     },
     "execution_count": 44,
     "metadata": {},
     "output_type": "execute_result"
    }
   ],
   "source": [
    "expert_chain.memory.chat_memory.messages"
   ]
  },
  {
   "cell_type": "code",
   "execution_count": 47,
   "metadata": {},
   "outputs": [
    {
     "name": "stdout",
     "output_type": "stream",
     "text": [
      "以下是几首不同风格的歌颂祖国的诗，供你参考：\n",
      "\n",
      "### 古风豪迈型\n",
      "**《赞华夏》**\n",
      "\n",
      "巍巍华夏五千年，壮丽山河谱锦篇。\n",
      "秦月汉关凝浩气，唐风宋韵铸华笺。\n",
      "长城万里雄心在，大漠千秋浩梦传。\n",
      "今日龙腾惊四海，神州处处绽新颜。\n",
      "\n",
      "解析：首联点明中华民族悠久的历史和灿烂辉煌的文化篇章。颔联通过“秦月汉关”“唐风宋韵”具体展现古代中国的辉煌成就与文化积淀。颈联以长城、大漠象征着中华民族坚韧不拔的精神和绵延不绝的梦想传承。尾联则描绘出当今中国蓬勃发展的态势，令世界瞩目，到处呈现出崭新的面貌。\n",
      "\n",
      "### 清新典雅型\n",
      "**《国之韵》**\n",
      "\n",
      "春临禹甸柳丝柔，碧水青山映眼眸。\n",
      "古寺钟声传雅韵，新城灯火耀金瓯。\n",
      "田园牧曲添佳趣，科技繁花竞自由。\n",
      "盛世祥和民乐业，家国同梦共春秋。\n",
      "\n",
      "解析：开篇描绘春天来临，大地一片生机勃勃，柔和的柳丝与清澈的山水相映成趣。接着写到古老的寺庙钟声传递着高雅的韵味，而现代化的城市灯火照亮了整个国家（金瓯常用来比喻国土）。然后提到乡村田园生活充满乐趣，同时科技发展如繁花般竞相绽放，给人带来无限可能。最后强调在盛世中人民安居乐业，共同怀揣着家国梦想，一起走过岁月长河。\n",
      "\n",
      "### 激昂奋进型\n",
      "**《颂中华崛起》**\n",
      "\n",
      "烽火曾经岁月稠，英雄热血写春秋。\n",
      "改革潮涌开新纪，开放帆扬逐远流。\n",
      "科技兴邦强国路，民生为本固金瓯。\n",
      "复兴路上雄心在，再创辉煌万代留。\n",
      "\n",
      "解析：首联回顾过去，指出曾经经历过无数战火纷飞的岁月，无数英雄用热血书写了壮丽的历史篇章。颔联阐述改革开放这一伟大决策开启了新的时代篇章，推动着国家向前发展。颈联说明依靠科技进步来实现国家强盛的道路，并且始终把民生放在首位以稳固国家根基。尾联表达了在复兴道路上我们有着坚定的雄心壮志，要再次创造辉煌业绩流传万代。\n"
     ]
    }
   ],
   "source": [
    "print(expert_chain.memory.chat_memory.messages[-1].content)"
   ]
  },
  {
   "cell_type": "code",
   "execution_count": null,
   "metadata": {},
   "outputs": [],
   "source": []
  },
  {
   "cell_type": "code",
   "execution_count": null,
   "metadata": {},
   "outputs": [],
   "source": []
  }
 ],
 "metadata": {
  "kernelspec": {
   "display_name": "langchain",
   "language": "python",
   "name": "python3"
  },
  "language_info": {
   "codemirror_mode": {
    "name": "ipython",
    "version": 3
   },
   "file_extension": ".py",
   "mimetype": "text/x-python",
   "name": "python",
   "nbconvert_exporter": "python",
   "pygments_lexer": "ipython3",
   "version": "3.11.11"
  }
 },
 "nbformat": 4,
 "nbformat_minor": 2
}
