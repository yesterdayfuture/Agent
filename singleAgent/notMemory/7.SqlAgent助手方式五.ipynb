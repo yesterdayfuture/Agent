{
 "cells": [
  {
   "cell_type": "markdown",
   "metadata": {},
   "source": [
    "###  使用 官方的SQL链 实现 数据查询"
   ]
  },
  {
   "cell_type": "markdown",
   "metadata": {},
   "source": [
    "LangChain 有一个 SQL Agent，它提供了一种比链式操作更灵活的与 SQL 数据库交互的方式。使用 SQL Agent 的主要优势包括：\n",
    "\n",
    "它可以根据数据库的模式以及数据库的内容（比如描述一个特定的表）来回答问题。\n",
    "它可以通过运行生成的查询，捕获追踪栈并正确地重新生成，来从错误中恢复。\n",
    "它可以根据需要多次查询数据库以回答用户的问题。\n",
    "它仅从相关表中检索的方式来节省令牌。\n",
    "为了初始化agent ，我们将使用 SQLDatabaseToolkit 来创建一系列工具：\n",
    "\n",
    "创建和执行查询\n",
    "检查查询语法\n",
    "检索表描述"
   ]
  },
  {
   "cell_type": "code",
   "execution_count": 12,
   "metadata": {},
   "outputs": [
    {
     "data": {
      "text/plain": [
       "True"
      ]
     },
     "execution_count": 12,
     "metadata": {},
     "output_type": "execute_result"
    }
   ],
   "source": [
    "from langchain.chat_models import  ChatOpenAI\n",
    "from langchain.agents import initialize_agent,AgentType, Tool\n",
    "from langchain.utilities import SQLDatabase\n",
    "from langchain.tools import BaseTool\n",
    "from pydantic import BaseModel, Field\n",
    "from typing import Type, List, Optional, Any\n",
    "import os\n",
    "from dotenv import load_dotenv\n",
    "load_dotenv()"
   ]
  },
  {
   "cell_type": "code",
   "execution_count": 13,
   "metadata": {},
   "outputs": [],
   "source": [
    "# 获取 环境变量\n",
    "#大模型apikey和url\n",
    "api_key = os.getenv('api_key')\n",
    "base_url = os.getenv('base_url')\n",
    "\n",
    "#天气查询的apikey\n",
    "juheAppKey = os.getenv('juheAppKey')\n",
    "\n",
    "#数据库信息\n",
    "mysql_info = os.getenv('mysql_info')\n",
    "mysql_info2 = os.getenv('mysql_info2')"
   ]
  },
  {
   "cell_type": "code",
   "execution_count": 14,
   "metadata": {},
   "outputs": [],
   "source": [
    "#定义大模型\n",
    "online_model = ChatOpenAI(\n",
    "    api_key=api_key,\n",
    "    model=\"qwen-plus\",\n",
    "    base_url=base_url,\n",
    "    temperature=0\n",
    ")"
   ]
  },
  {
   "cell_type": "code",
   "execution_count": 15,
   "metadata": {},
   "outputs": [],
   "source": [
    "#定义数据库 连接\n",
    "db = SQLDatabase.from_uri(mysql_info)\n",
    "db2 = SQLDatabase.from_uri(mysql_info2)"
   ]
  },
  {
   "cell_type": "code",
   "execution_count": 16,
   "metadata": {},
   "outputs": [
    {
     "data": {
      "text/plain": [
       "['order_A', 'order_B', 'user']"
      ]
     },
     "execution_count": 16,
     "metadata": {},
     "output_type": "execute_result"
    }
   ],
   "source": [
    "#查看数据库中的可用表\n",
    "db2.get_usable_table_names()"
   ]
  },
  {
   "cell_type": "code",
   "execution_count": 17,
   "metadata": {},
   "outputs": [
    {
     "name": "stdout",
     "output_type": "stream",
     "text": [
      "\n",
      "CREATE TABLE `order_A` (\n",
      "\tid VARCHAR(255) NOT NULL, \n",
      "\tname VARCHAR(50), \n",
      "\tPRIMARY KEY (id)\n",
      ")DEFAULT CHARSET=utf8mb3 ENGINE=InnoDB\n",
      "\n",
      "/*\n",
      "3 rows from order_A table:\n",
      "id\tname\n",
      "02b97c44-2d18-4004-b\tItem-18\n",
      "09708c1b-438a-4549-9\tItem-23\n",
      "0ac26b2c-bed4-41f0-8\tItem-2\n",
      "*/\n",
      "\n",
      "\n",
      "CREATE TABLE `order_B` (\n",
      "\tid BIGINT NOT NULL, \n",
      "\tname VARCHAR(50), \n",
      "\tPRIMARY KEY (id)\n",
      ")DEFAULT CHARSET=utf8mb3 ENGINE=InnoDB\n",
      "\n",
      "/*\n",
      "3 rows from order_B table:\n",
      "id\tname\n",
      "\n",
      "*/\n",
      "\n",
      "\n",
      "CREATE TABLE user (\n",
      "\tid INTEGER NOT NULL COMMENT '主键ID' AUTO_INCREMENT, \n",
      "\tname VARCHAR(255) CHARACTER SET utf8mb4 COLLATE utf8mb4_unicode_ci COMMENT '姓名', \n",
      "\tpassword VARCHAR(255) CHARACTER SET utf8mb4 COLLATE utf8mb4_unicode_ci COMMENT '密码', \n",
      "\tsex VARCHAR(255) CHARACTER SET utf8mb4 COLLATE utf8mb4_unicode_ci COMMENT '性别', \n",
      "\tage INTEGER COMMENT '年龄', \n",
      "\tphone VARCHAR(255) CHARACTER SET utf8mb4 COLLATE utf8mb4_unicode_ci COMMENT '电话', \n",
      "\tPRIMARY KEY (id)\n",
      ")ROW_FORMAT=DYNAMIC ENGINE=InnoDB DEFAULT CHARSET=utf8mb4 COMMENT='用户信息表' COLLATE utf8mb4_unicode_ci\n",
      "\n",
      "/*\n",
      "3 rows from user table:\n",
      "id\tname\tpassword\tsex\tage\tphone\n",
      "1\t张三\t123456\t男\t25\t18888889999\n",
      "2\t李四\t123456\t女\t25\t18899998888\n",
      "*/\n"
     ]
    }
   ],
   "source": [
    "#查看表结构\n",
    "print(db2.get_table_info())"
   ]
  },
  {
   "cell_type": "code",
   "execution_count": 18,
   "metadata": {},
   "outputs": [
    {
     "name": "stdout",
     "output_type": "stream",
     "text": [
      "{'table_info': '\\nCREATE TABLE city_stats (\\n\\tcity_name VARCHAR(255), \\n\\tpopulation VARCHAR(255), \\n\\tarea VARCHAR(255)\\n)DEFAULT CHARSET=utf8mb4 ENGINE=InnoDB COLLATE utf8mb4_0900_ai_ci\\n\\n/*\\n3 rows from city_stats table:\\ncity_name\\tpopulation\\tarea\\n北京\\t20000000\\t400000234\\n上海\\t17689300\\t29867200\\n河北\\t19999944\\t39999821\\n*/', 'table_names': 'city_stats'}\n"
     ]
    }
   ],
   "source": [
    "#查看数据库信息\n",
    "print(db.get_context())"
   ]
  },
  {
   "cell_type": "code",
   "execution_count": 19,
   "metadata": {},
   "outputs": [
    {
     "data": {
      "text/plain": [
       "[QuerySQLDatabaseTool(description=\"Input to this tool is a detailed and correct SQL query, output is a result from the database. If the query is not correct, an error message will be returned. If an error is returned, rewrite the query, check the query, and try again. If you encounter an issue with Unknown column 'xxxx' in 'field list', use sql_db_schema to query the correct table fields.\", db=<langchain_community.utilities.sql_database.SQLDatabase object at 0x11dad1190>),\n",
       " InfoSQLDatabaseTool(description='Input to this tool is a comma-separated list of tables, output is the schema and sample rows for those tables. Be sure that the tables actually exist by calling sql_db_list_tables first! Example Input: table1, table2, table3', db=<langchain_community.utilities.sql_database.SQLDatabase object at 0x11dad1190>),\n",
       " ListSQLDatabaseTool(db=<langchain_community.utilities.sql_database.SQLDatabase object at 0x11dad1190>),\n",
       " QuerySQLCheckerTool(description='Use this tool to double check if your query is correct before executing it. Always use this tool before executing a query with sql_db_query!', db=<langchain_community.utilities.sql_database.SQLDatabase object at 0x11dad1190>, llm=ChatOpenAI(client=<openai.resources.chat.completions.completions.Completions object at 0x10bc9e550>, async_client=<openai.resources.chat.completions.completions.AsyncCompletions object at 0x11dc078d0>, model_name='qwen-plus', temperature=0.0, model_kwargs={}, openai_api_key='sk-3e8d696b9b3a403caa30db95c801f875', openai_api_base='https://dashscope.aliyuncs.com/compatible-mode/v1', openai_proxy=''), llm_chain=LLMChain(verbose=False, prompt=PromptTemplate(input_variables=['dialect', 'query'], input_types={}, partial_variables={}, template='\\n{query}\\nDouble check the {dialect} query above for common mistakes, including:\\n- Using NOT IN with NULL values\\n- Using UNION when UNION ALL should have been used\\n- Using BETWEEN for exclusive ranges\\n- Data type mismatch in predicates\\n- Properly quoting identifiers\\n- Using the correct number of arguments for functions\\n- Casting to the correct data type\\n- Using the proper columns for joins\\n\\nIf there are any of the above mistakes, rewrite the query. If there are no mistakes, just reproduce the original query.\\n\\nOutput the final SQL query only.\\n\\nSQL Query: '), llm=ChatOpenAI(client=<openai.resources.chat.completions.completions.Completions object at 0x10bc9e550>, async_client=<openai.resources.chat.completions.completions.AsyncCompletions object at 0x11dc078d0>, model_name='qwen-plus', temperature=0.0, model_kwargs={}, openai_api_key='sk-3e8d696b9b3a403caa30db95c801f875', openai_api_base='https://dashscope.aliyuncs.com/compatible-mode/v1', openai_proxy=''), output_parser=StrOutputParser(), llm_kwargs={}))]"
      ]
     },
     "execution_count": 19,
     "metadata": {},
     "output_type": "execute_result"
    }
   ],
   "source": [
    "#使用官方 sql 数据库工具包\n",
    "from langchain_community.agent_toolkits import SQLDatabaseToolkit\n",
    "\n",
    "tookit = SQLDatabaseToolkit(db=db, llm=online_model)\n",
    "\n",
    "#查看工具包中的工具\n",
    "tools = tookit.get_tools()\n",
    "tools\n",
    "\n"
   ]
  },
  {
   "cell_type": "code",
   "execution_count": 22,
   "metadata": {},
   "outputs": [
    {
     "data": {
      "text/plain": [
       "[QuerySQLDatabaseTool(description=\"Input to this tool is a detailed and correct SQL query, output is a result from the database. If the query is not correct, an error message will be returned. If an error is returned, rewrite the query, check the query, and try again. If you encounter an issue with Unknown column 'xxxx' in 'field list', use sql_db_schema to query the correct table fields.\", db=<langchain_community.utilities.sql_database.SQLDatabase object at 0x11daa57d0>),\n",
       " InfoSQLDatabaseTool(description='Input to this tool is a comma-separated list of tables, output is the schema and sample rows for those tables. Be sure that the tables actually exist by calling sql_db_list_tables first! Example Input: table1, table2, table3', db=<langchain_community.utilities.sql_database.SQLDatabase object at 0x11daa57d0>),\n",
       " ListSQLDatabaseTool(db=<langchain_community.utilities.sql_database.SQLDatabase object at 0x11daa57d0>),\n",
       " QuerySQLCheckerTool(description='Use this tool to double check if your query is correct before executing it. Always use this tool before executing a query with sql_db_query!', db=<langchain_community.utilities.sql_database.SQLDatabase object at 0x11daa57d0>, llm=ChatOpenAI(client=<openai.resources.chat.completions.completions.Completions object at 0x10bc9e550>, async_client=<openai.resources.chat.completions.completions.AsyncCompletions object at 0x11dc078d0>, model_name='qwen-plus', temperature=0.0, model_kwargs={}, openai_api_key='sk-3e8d696b9b3a403caa30db95c801f875', openai_api_base='https://dashscope.aliyuncs.com/compatible-mode/v1', openai_proxy=''), llm_chain=LLMChain(verbose=False, prompt=PromptTemplate(input_variables=['dialect', 'query'], input_types={}, partial_variables={}, template='\\n{query}\\nDouble check the {dialect} query above for common mistakes, including:\\n- Using NOT IN with NULL values\\n- Using UNION when UNION ALL should have been used\\n- Using BETWEEN for exclusive ranges\\n- Data type mismatch in predicates\\n- Properly quoting identifiers\\n- Using the correct number of arguments for functions\\n- Casting to the correct data type\\n- Using the proper columns for joins\\n\\nIf there are any of the above mistakes, rewrite the query. If there are no mistakes, just reproduce the original query.\\n\\nOutput the final SQL query only.\\n\\nSQL Query: '), llm=ChatOpenAI(client=<openai.resources.chat.completions.completions.Completions object at 0x10bc9e550>, async_client=<openai.resources.chat.completions.completions.AsyncCompletions object at 0x11dc078d0>, model_name='qwen-plus', temperature=0.0, model_kwargs={}, openai_api_key='sk-3e8d696b9b3a403caa30db95c801f875', openai_api_base='https://dashscope.aliyuncs.com/compatible-mode/v1', openai_proxy=''), output_parser=StrOutputParser(), llm_kwargs={}))]"
      ]
     },
     "execution_count": 22,
     "metadata": {},
     "output_type": "execute_result"
    }
   ],
   "source": [
    "tools2 = SQLDatabaseToolkit(db=db2, llm=online_model, verbose=True).get_tools()\n",
    "tools2"
   ]
  },
  {
   "cell_type": "code",
   "execution_count": null,
   "metadata": {},
   "outputs": [],
   "source": []
  },
  {
   "cell_type": "code",
   "execution_count": 29,
   "metadata": {},
   "outputs": [
    {
     "name": "stdout",
     "output_type": "stream",
     "text": [
      "\n",
      "\n",
      "\u001b[1m> Entering new SQL Agent Executor chain...\u001b[0m\n",
      "\u001b[32;1m\u001b[1;3mAction: sql_db_list_tables  \n",
      "Action Input:   \u001b[0m\u001b[38;5;200m\u001b[1;3mcity_stats\u001b[0m\u001b[32;1m\u001b[1;3mI should query the schema of the city_stats table to understand its structure.\n",
      "Action: sql_db_schema  \n",
      "Action Input: city_stats  \u001b[0m\u001b[33;1m\u001b[1;3m\n",
      "CREATE TABLE city_stats (\n",
      "\tcity_name VARCHAR(255), \n",
      "\tpopulation VARCHAR(255), \n",
      "\tarea VARCHAR(255)\n",
      ")DEFAULT CHARSET=utf8mb4 ENGINE=InnoDB COLLATE utf8mb4_0900_ai_ci\n",
      "\n",
      "/*\n",
      "3 rows from city_stats table:\n",
      "city_name\tpopulation\tarea\n",
      "北京\t20000000\t400000234\n",
      "上海\t17689300\t29867200\n",
      "河北\t19999944\t39999821\n",
      "*/\u001b[0m\u001b[32;1m\u001b[1;3mI should construct a query to retrieve data from the `city_stats` table. Since the user also mentioned a user table, but it does not exist in the database as per the list of tables, I will only provide data from the `city_stats` table. I will limit the results to 10 rows to follow the guidelines.\n",
      "\n",
      "Action: sql_db_query_checker  \n",
      "Action Input: SELECT city_name, population, area FROM city_stats LIMIT 10;\u001b[0m\u001b[36;1m\u001b[1;3mSELECT city_name, population, area FROM city_stats LIMIT 10;\u001b[0m\u001b[32;1m\u001b[1;3mThe query is correct. I will now execute the query to retrieve the data.\n",
      "Action: sql_db_query  \n",
      "Action Input: SELECT city_name, population, area FROM city_stats LIMIT 10;\u001b[0m\u001b[36;1m\u001b[1;3m[('北京', '20000000', '400000234'), ('上海', '17689300', '29867200'), ('河北', '19999944', '39999821')]\u001b[0m\u001b[32;1m\u001b[1;3mI now know the final answer.\n",
      "Final Answer: Here are some data from the city_stats table:\n",
      "\n",
      "| city_name | population | area      |\n",
      "|-----------|------------|-----------|\n",
      "| 北京       | 20000000   | 400000234 |\n",
      "| 上海       | 17689300   | 29867200  |\n",
      "| 河北       | 19999944   | 39999821  |\n",
      "\n",
      "There is no user table in the database.\u001b[0m\n",
      "\n",
      "\u001b[1m> Finished chain.\u001b[0m\n"
     ]
    },
    {
     "data": {
      "text/plain": [
       "'Here are some data from the city_stats table:\\n\\n| city_name | population | area      |\\n|-----------|------------|-----------|\\n| 北京       | 20000000   | 400000234 |\\n| 上海       | 17689300   | 29867200  |\\n| 河北       | 19999944   | 39999821  |\\n\\nThere is no user table in the database.'"
      ]
     },
     "execution_count": 29,
     "metadata": {},
     "output_type": "execute_result"
    }
   ],
   "source": [
    "from langchain_community.agent_toolkits import create_sql_agent\n",
    "\n",
    "sql_agent = create_sql_agent(\n",
    "    llm=online_model,\n",
    "    toolkit=tookit,\n",
    "    verbose=True,\n",
    "    # extra_tools=tools2\n",
    ")\n",
    "\n",
    "sql_agent.run('查询城市表和用户表中的所有数据')"
   ]
  },
  {
   "cell_type": "code",
   "execution_count": null,
   "metadata": {},
   "outputs": [],
   "source": []
  },
  {
   "cell_type": "code",
   "execution_count": null,
   "metadata": {},
   "outputs": [],
   "source": []
  },
  {
   "cell_type": "code",
   "execution_count": null,
   "metadata": {},
   "outputs": [],
   "source": []
  },
  {
   "cell_type": "code",
   "execution_count": null,
   "metadata": {},
   "outputs": [],
   "source": []
  },
  {
   "cell_type": "code",
   "execution_count": null,
   "metadata": {},
   "outputs": [],
   "source": []
  },
  {
   "cell_type": "code",
   "execution_count": null,
   "metadata": {},
   "outputs": [],
   "source": []
  },
  {
   "cell_type": "code",
   "execution_count": null,
   "metadata": {},
   "outputs": [],
   "source": []
  },
  {
   "cell_type": "code",
   "execution_count": null,
   "metadata": {},
   "outputs": [],
   "source": []
  }
 ],
 "metadata": {
  "kernelspec": {
   "display_name": "langchain",
   "language": "python",
   "name": "python3"
  },
  "language_info": {
   "codemirror_mode": {
    "name": "ipython",
    "version": 3
   },
   "file_extension": ".py",
   "mimetype": "text/x-python",
   "name": "python",
   "nbconvert_exporter": "python",
   "pygments_lexer": "ipython3",
   "version": "3.11.11"
  }
 },
 "nbformat": 4,
 "nbformat_minor": 2
}
