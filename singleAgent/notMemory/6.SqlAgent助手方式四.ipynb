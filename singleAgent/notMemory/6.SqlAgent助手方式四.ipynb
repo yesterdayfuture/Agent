{
 "cells": [
  {
   "cell_type": "markdown",
   "metadata": {},
   "source": [
    "###  使用 官方的SQL链 实现 数据查询"
   ]
  },
  {
   "cell_type": "markdown",
   "metadata": {},
   "source": [
    "LangChain 有一个 SQL Agent，它提供了一种比链式操作更灵活的与 SQL 数据库交互的方式。使用 SQL Agent 的主要优势包括：\n",
    "\n",
    "它可以根据数据库的模式以及数据库的内容（比如描述一个特定的表）来回答问题。\n",
    "它可以通过运行生成的查询，捕获追踪栈并正确地重新生成，来从错误中恢复。\n",
    "它可以根据需要多次查询数据库以回答用户的问题。\n",
    "它仅从相关表中检索的方式来节省令牌。\n",
    "为了初始化agent ，我们将使用 SQLDatabaseToolkit 来创建一系列工具：\n",
    "\n",
    "创建和执行查询\n",
    "检查查询语法\n",
    "检索表描述"
   ]
  },
  {
   "cell_type": "code",
   "execution_count": 2,
   "metadata": {},
   "outputs": [
    {
     "data": {
      "text/plain": [
       "True"
      ]
     },
     "execution_count": 2,
     "metadata": {},
     "output_type": "execute_result"
    }
   ],
   "source": [
    "from langchain.chat_models import  ChatOpenAI\n",
    "from langchain.agents import initialize_agent,AgentType, Tool\n",
    "from langchain.utilities import SQLDatabase\n",
    "from langchain.tools import BaseTool\n",
    "from pydantic import BaseModel, Field\n",
    "from typing import Type, List, Optional, Any\n",
    "import os\n",
    "from dotenv import load_dotenv\n",
    "load_dotenv()"
   ]
  },
  {
   "cell_type": "code",
   "execution_count": 3,
   "metadata": {},
   "outputs": [],
   "source": [
    "# 获取 环境变量\n",
    "#大模型apikey和url\n",
    "api_key = os.getenv('api_key')\n",
    "base_url = os.getenv('base_url')\n",
    "\n",
    "#天气查询的apikey\n",
    "juheAppKey = os.getenv('juheAppKey')\n",
    "\n",
    "#数据库信息\n",
    "mysql_info = os.getenv('mysql_info')"
   ]
  },
  {
   "cell_type": "code",
   "execution_count": 4,
   "metadata": {},
   "outputs": [
    {
     "name": "stderr",
     "output_type": "stream",
     "text": [
      "/var/folders/xh/fl5j9g1n5t79htj8yk1cswzh0000gn/T/ipykernel_37442/113483475.py:2: LangChainDeprecationWarning: The class `ChatOpenAI` was deprecated in LangChain 0.0.10 and will be removed in 1.0. An updated version of the class exists in the :class:`~langchain-openai package and should be used instead. To use it run `pip install -U :class:`~langchain-openai` and import as `from :class:`~langchain_openai import ChatOpenAI``.\n",
      "  online_model = ChatOpenAI(\n"
     ]
    }
   ],
   "source": [
    "#定义大模型\n",
    "online_model = ChatOpenAI(\n",
    "    api_key=api_key,\n",
    "    model=\"qwen-plus\",\n",
    "    base_url=base_url,\n",
    "    temperature=0\n",
    ")"
   ]
  },
  {
   "cell_type": "code",
   "execution_count": 5,
   "metadata": {},
   "outputs": [],
   "source": [
    "#定义数据库 连接\n",
    "db = SQLDatabase.from_uri(mysql_info)\n"
   ]
  },
  {
   "cell_type": "code",
   "execution_count": 6,
   "metadata": {},
   "outputs": [
    {
     "data": {
      "text/plain": [
       "['city_stats']"
      ]
     },
     "execution_count": 6,
     "metadata": {},
     "output_type": "execute_result"
    }
   ],
   "source": [
    "#查看数据库中的可用表\n",
    "db.get_usable_table_names()"
   ]
  },
  {
   "cell_type": "code",
   "execution_count": 7,
   "metadata": {},
   "outputs": [
    {
     "name": "stdout",
     "output_type": "stream",
     "text": [
      "\n",
      "CREATE TABLE city_stats (\n",
      "\tcity_name VARCHAR(255), \n",
      "\tpopulation VARCHAR(255), \n",
      "\tarea VARCHAR(255)\n",
      ")DEFAULT CHARSET=utf8mb4 COLLATE utf8mb4_0900_ai_ci ENGINE=InnoDB\n",
      "\n",
      "/*\n",
      "3 rows from city_stats table:\n",
      "city_name\tpopulation\tarea\n",
      "北京\t20000000\t400000234\n",
      "上海\t17689300\t29867200\n",
      "河北\t19999944\t39999821\n",
      "*/\n"
     ]
    }
   ],
   "source": [
    "#查看表结构\n",
    "print(db.get_table_info())"
   ]
  },
  {
   "cell_type": "code",
   "execution_count": 8,
   "metadata": {},
   "outputs": [
    {
     "name": "stdout",
     "output_type": "stream",
     "text": [
      "{'table_info': '\\nCREATE TABLE city_stats (\\n\\tcity_name VARCHAR(255), \\n\\tpopulation VARCHAR(255), \\n\\tarea VARCHAR(255)\\n)DEFAULT CHARSET=utf8mb4 COLLATE utf8mb4_0900_ai_ci ENGINE=InnoDB\\n\\n/*\\n3 rows from city_stats table:\\ncity_name\\tpopulation\\tarea\\n北京\\t20000000\\t400000234\\n上海\\t17689300\\t29867200\\n河北\\t19999944\\t39999821\\n*/', 'table_names': 'city_stats'}\n"
     ]
    }
   ],
   "source": [
    "#查看数据库信息\n",
    "print(db.get_context())"
   ]
  },
  {
   "cell_type": "code",
   "execution_count": 19,
   "metadata": {},
   "outputs": [
    {
     "data": {
      "text/plain": [
       "[QuerySQLDatabaseTool(description=\"Input to this tool is a detailed and correct SQL query, output is a result from the database. If the query is not correct, an error message will be returned. If an error is returned, rewrite the query, check the query, and try again. If you encounter an issue with Unknown column 'xxxx' in 'field list', use sql_db_schema to query the correct table fields.\", db=<langchain_community.utilities.sql_database.SQLDatabase object at 0x11e1a9ad0>),\n",
       " InfoSQLDatabaseTool(description='Input to this tool is a comma-separated list of tables, output is the schema and sample rows for those tables. Be sure that the tables actually exist by calling sql_db_list_tables first! Example Input: table1, table2, table3', db=<langchain_community.utilities.sql_database.SQLDatabase object at 0x11e1a9ad0>),\n",
       " ListSQLDatabaseTool(db=<langchain_community.utilities.sql_database.SQLDatabase object at 0x11e1a9ad0>),\n",
       " QuerySQLCheckerTool(description='Use this tool to double check if your query is correct before executing it. Always use this tool before executing a query with sql_db_query!', db=<langchain_community.utilities.sql_database.SQLDatabase object at 0x11e1a9ad0>, llm=ChatOpenAI(client=<openai.resources.chat.completions.completions.Completions object at 0x10c1b6590>, async_client=<openai.resources.chat.completions.completions.AsyncCompletions object at 0x11e130fd0>, model_name='qwen-plus', temperature=0.0, model_kwargs={}, openai_api_key='sk-3e8d696b9b3a403caa30db95c801f875', openai_api_base='https://dashscope.aliyuncs.com/compatible-mode/v1', openai_proxy=''), llm_chain=LLMChain(verbose=False, prompt=PromptTemplate(input_variables=['dialect', 'query'], input_types={}, partial_variables={}, template='\\n{query}\\nDouble check the {dialect} query above for common mistakes, including:\\n- Using NOT IN with NULL values\\n- Using UNION when UNION ALL should have been used\\n- Using BETWEEN for exclusive ranges\\n- Data type mismatch in predicates\\n- Properly quoting identifiers\\n- Using the correct number of arguments for functions\\n- Casting to the correct data type\\n- Using the proper columns for joins\\n\\nIf there are any of the above mistakes, rewrite the query. If there are no mistakes, just reproduce the original query.\\n\\nOutput the final SQL query only.\\n\\nSQL Query: '), llm=ChatOpenAI(client=<openai.resources.chat.completions.completions.Completions object at 0x10c1b6590>, async_client=<openai.resources.chat.completions.completions.AsyncCompletions object at 0x11e130fd0>, model_name='qwen-plus', temperature=0.0, model_kwargs={}, openai_api_key='sk-3e8d696b9b3a403caa30db95c801f875', openai_api_base='https://dashscope.aliyuncs.com/compatible-mode/v1', openai_proxy=''), output_parser=StrOutputParser(), llm_kwargs={}))]"
      ]
     },
     "execution_count": 19,
     "metadata": {},
     "output_type": "execute_result"
    }
   ],
   "source": [
    "#使用官方 sql 数据库工具包\n",
    "from langchain_community.agent_toolkits import SQLDatabaseToolkit\n",
    "\n",
    "tookit = SQLDatabaseToolkit(db=db, llm=online_model)\n",
    "\n",
    "#查看工具包中的工具\n",
    "tools = tookit.get_tools()\n",
    "tools\n",
    "\n"
   ]
  },
  {
   "cell_type": "code",
   "execution_count": null,
   "metadata": {},
   "outputs": [],
   "source": []
  },
  {
   "cell_type": "code",
   "execution_count": 20,
   "metadata": {},
   "outputs": [],
   "source": [
    "#定义提示词\n",
    "from langchain_core.messages import SystemMessage\n",
    "SQL_PREFIX = \"\"\"You are an agent designed to interact with a SQL database.\n",
    "Given an input question, create a syntactically correct SQLite query to run, then look at the results of the query and return the answer.\n",
    "Unless the user specifies a specific number of examples they wish to obtain, always limit your query to at most 5 results.\n",
    "You can order the results by a relevant column to return the most interesting examples in the database.\n",
    "Never query for all the columns from a specific table, only ask for the relevant columns given the question.\n",
    "You have access to tools for interacting with the database.\n",
    "Only use the below tools. Only use the information returned by the below tools to construct your final answer.\n",
    "You MUST double check your query before executing it. If you get an error while executing a query, rewrite the query and try again.\n",
    "DO NOT make any DML statements (INSERT, UPDATE, DELETE, DROP etc.) to the database.\n",
    "To start you should ALWAYS look at the tables in the database to see what you can query.\n",
    "Do NOT skip this step.\n",
    "Then you should query the schema of the most relevant tables.\"\"\"\n",
    "system_message = SystemMessage(content=SQL_PREFIX)"
   ]
  },
  {
   "cell_type": "code",
   "execution_count": null,
   "metadata": {},
   "outputs": [],
   "source": []
  },
  {
   "cell_type": "code",
   "execution_count": 26,
   "metadata": {},
   "outputs": [
    {
     "name": "stderr",
     "output_type": "stream",
     "text": [
      "/var/folders/xh/fl5j9g1n5t79htj8yk1cswzh0000gn/T/ipykernel_37442/1158809702.py:4: LangChainDeprecationWarning: LangChain agents will continue to be supported, but it is recommended for new use cases to be built with LangGraph. LangGraph offers a more flexible and full-featured framework for building agents, including support for tool-calling, persistence of state, and human-in-the-loop workflows. See LangGraph documentation for more details: https://langchain-ai.github.io/langgraph/. Refer here for its pre-built ReAct agent: https://langchain-ai.github.io/langgraph/how-tos/create-react-agent/\n",
      "  agent = initialize_agent(\n"
     ]
    }
   ],
   "source": [
    "from langchain_core.messages import HumanMessage\n",
    "from langchain.prompts import PromptTemplate\n",
    "\n",
    "agent = initialize_agent(\n",
    "    llm=online_model,\n",
    "    tools=tools,\n",
    "    agent=AgentType.ZERO_SHOT_REACT_DESCRIPTION,\n",
    "    system_message=system_message,\n",
    "    verbose=True\n",
    ")"
   ]
  },
  {
   "cell_type": "code",
   "execution_count": 27,
   "metadata": {},
   "outputs": [
    {
     "name": "stdout",
     "output_type": "stream",
     "text": [
      "\n",
      "\n",
      "\u001b[1m> Entering new AgentExecutor chain...\u001b[0m\n",
      "\u001b[32;1m\u001b[1;3m 需要查询数据库中的表列表。\n",
      "Action: sql_db_list_tables\n",
      "Action Input: \u001b[0m\n",
      "Observation: \u001b[38;5;200m\u001b[1;3mcity_stats\u001b[0m\n",
      "Thought:\u001b[32;1m\u001b[1;3m我现已知道数据库中包含的表。\n",
      "Final Answer: 数据库中有一个名为 \"city_stats\" 的表。\u001b[0m\n",
      "\n",
      "\u001b[1m> Finished chain.\u001b[0m\n"
     ]
    },
    {
     "data": {
      "text/plain": [
       "{'input': '数据库中有哪些表？', 'output': '数据库中有一个名为 \"city_stats\" 的表。'}"
      ]
     },
     "execution_count": 27,
     "metadata": {},
     "output_type": "execute_result"
    }
   ],
   "source": [
    "agent.invoke('数据库中有哪些表？')"
   ]
  },
  {
   "cell_type": "code",
   "execution_count": 28,
   "metadata": {},
   "outputs": [
    {
     "name": "stdout",
     "output_type": "stream",
     "text": [
      "\n",
      "\n",
      "\u001b[1m> Entering new AgentExecutor chain...\u001b[0m\n",
      "\u001b[32;1m\u001b[1;3m 我需要知道数据库中有哪些表，才能列出所有数据。\n",
      "Action: sql_db_list_tables\n",
      "Action Input: \u001b[0m\n",
      "Observation: \u001b[38;5;200m\u001b[1;3mcity_stats\u001b[0m\n",
      "Thought:\u001b[32;1m\u001b[1;3m我现在知道数据库中有一个名为 \"city_stats\" 的表。接下来，我需要查询该表的结构以了解其字段。\n",
      "Action: sql_db_schema\n",
      "Action Input: city_stats\u001b[0m\n",
      "Observation: \u001b[33;1m\u001b[1;3m\n",
      "CREATE TABLE city_stats (\n",
      "\tcity_name VARCHAR(255), \n",
      "\tpopulation VARCHAR(255), \n",
      "\tarea VARCHAR(255)\n",
      ")DEFAULT CHARSET=utf8mb4 COLLATE utf8mb4_0900_ai_ci ENGINE=InnoDB\n",
      "\n",
      "/*\n",
      "3 rows from city_stats table:\n",
      "city_name\tpopulation\tarea\n",
      "北京\t20000000\t400000234\n",
      "上海\t17689300\t29867200\n",
      "河北\t19999944\t39999821\n",
      "*/\u001b[0m\n",
      "Thought:\u001b[32;1m\u001b[1;3m我现在知道 \"city_stats\" 表的结构及其字段。接下来，我需要编写一个 SQL 查询以检索表中的所有数据，并使用 sql_db_query_checker 检查查询是否正确。\n",
      "Action: sql_db_query_checker\n",
      "Action Input: SELECT * FROM city_stats\u001b[0m\n",
      "Observation: \u001b[36;1m\u001b[1;3mSELECT * FROM city_stats\u001b[0m\n",
      "Thought:\u001b[32;1m\u001b[1;3m查询看起来是正确的。现在我将执行此查询以获取表中的所有数据。\n",
      "Action: sql_db_query\n",
      "Action Input: SELECT * FROM city_stats\u001b[0m\n",
      "Observation: \u001b[36;1m\u001b[1;3m[('北京', '20000000', '400000234'), ('上海', '17689300', '29867200'), ('河北', '19999944', '39999821')]\u001b[0m\n",
      "Thought:\u001b[32;1m\u001b[1;3m我现已获取到 \"city_stats\" 表中的所有数据。\n",
      "Final Answer: \n",
      "城市名   人口       面积\n",
      "北京    20000000   400000234\n",
      "上海    17689300   29867200\n",
      "河北    19999944   39999821\u001b[0m\n",
      "\n",
      "\u001b[1m> Finished chain.\u001b[0m\n"
     ]
    },
    {
     "data": {
      "text/plain": [
       "{'input': '列出表中所有数据',\n",
       " 'output': '城市名   人口       面积\\n北京    20000000   400000234\\n上海    17689300   29867200\\n河北    19999944   39999821'}"
      ]
     },
     "execution_count": 28,
     "metadata": {},
     "output_type": "execute_result"
    }
   ],
   "source": [
    "agent.invoke('列出表中所有数据')"
   ]
  },
  {
   "cell_type": "code",
   "execution_count": 29,
   "metadata": {},
   "outputs": [
    {
     "name": "stdout",
     "output_type": "stream",
     "text": [
      "\n",
      "\n",
      "\u001b[1m> Entering new AgentExecutor chain...\u001b[0m\n",
      "\u001b[32;1m\u001b[1;3m我需要查询包含“北京”相关数据的表，但首先我需要知道数据库中有哪些表以及这些表的结构。\n",
      "Action: sql_db_list_tables\n",
      "Action Input: \u001b[0m\n",
      "Observation: \u001b[38;5;200m\u001b[1;3mcity_stats\u001b[0m\n",
      "Thought:\u001b[32;1m\u001b[1;3m我知道数据库中有一个名为 `city_stats` 的表。现在我需要查看该表的结构以了解其中包含哪些字段。\n",
      "Action: sql_db_schema\n",
      "Action Input: city_stats\u001b[0m\n",
      "Observation: \u001b[33;1m\u001b[1;3m\n",
      "CREATE TABLE city_stats (\n",
      "\tcity_name VARCHAR(255), \n",
      "\tpopulation VARCHAR(255), \n",
      "\tarea VARCHAR(255)\n",
      ")DEFAULT CHARSET=utf8mb4 COLLATE utf8mb4_0900_ai_ci ENGINE=InnoDB\n",
      "\n",
      "/*\n",
      "3 rows from city_stats table:\n",
      "city_name\tpopulation\tarea\n",
      "北京\t20000000\t400000234\n",
      "上海\t17689300\t29867200\n",
      "河北\t19999944\t39999821\n",
      "*/\u001b[0m\n",
      "Thought:\u001b[32;1m\u001b[1;3m我现在知道了 `city_stats` 表的结构，它包含以下字段：`city_name`, `population`, 和 `area`。并且我看到了一些样本数据，其中有一行与“北京”相关。现在我需要编写一个 SQL 查询来获取所有关于“北京”的数据。\n",
      "Action: sql_db_query_checker\n",
      "Action Input: SELECT * FROM city_stats WHERE city_name = '北京'\u001b[0m\n",
      "Observation: \u001b[36;1m\u001b[1;3mSELECT * FROM city_stats WHERE city_name = '北京'\u001b[0m\n",
      "Thought:\u001b[32;1m\u001b[1;3m我的查询语法正确，现在可以执行查询以获取结果。\n",
      "Action: sql_db_query\n",
      "Action Input: SELECT * FROM city_stats WHERE city_name = '北京'\u001b[0m\n",
      "Observation: \u001b[36;1m\u001b[1;3m[('北京', '20000000', '400000234')]\u001b[0m\n",
      "Thought:\u001b[32;1m\u001b[1;3m我已找到关于“北京”的数据。\n",
      "Final Answer: 关于“北京”的数据如下：  \n",
      "城市名称：北京，人口：20000000，面积：400000234。\u001b[0m\n",
      "\n",
      "\u001b[1m> Finished chain.\u001b[0m\n"
     ]
    },
    {
     "data": {
      "text/plain": [
       "{'input': '列出表中所有关于北京的数据',\n",
       " 'output': '关于“北京”的数据如下：  \\n城市名称：北京，人口：20000000，面积：400000234。'}"
      ]
     },
     "execution_count": 29,
     "metadata": {},
     "output_type": "execute_result"
    }
   ],
   "source": [
    "agent.invoke('列出表中所有关于北京的数据')"
   ]
  },
  {
   "cell_type": "code",
   "execution_count": null,
   "metadata": {},
   "outputs": [],
   "source": []
  },
  {
   "cell_type": "code",
   "execution_count": null,
   "metadata": {},
   "outputs": [],
   "source": []
  },
  {
   "cell_type": "code",
   "execution_count": null,
   "metadata": {},
   "outputs": [],
   "source": []
  },
  {
   "cell_type": "code",
   "execution_count": null,
   "metadata": {},
   "outputs": [],
   "source": []
  },
  {
   "cell_type": "code",
   "execution_count": null,
   "metadata": {},
   "outputs": [],
   "source": []
  },
  {
   "cell_type": "code",
   "execution_count": null,
   "metadata": {},
   "outputs": [],
   "source": []
  },
  {
   "cell_type": "code",
   "execution_count": null,
   "metadata": {},
   "outputs": [],
   "source": []
  },
  {
   "cell_type": "code",
   "execution_count": null,
   "metadata": {},
   "outputs": [],
   "source": []
  },
  {
   "cell_type": "code",
   "execution_count": null,
   "metadata": {},
   "outputs": [],
   "source": []
  }
 ],
 "metadata": {
  "kernelspec": {
   "display_name": "langchain",
   "language": "python",
   "name": "python3"
  },
  "language_info": {
   "codemirror_mode": {
    "name": "ipython",
    "version": 3
   },
   "file_extension": ".py",
   "mimetype": "text/x-python",
   "name": "python",
   "nbconvert_exporter": "python",
   "pygments_lexer": "ipython3",
   "version": "3.11.11"
  }
 },
 "nbformat": 4,
 "nbformat_minor": 2
}
