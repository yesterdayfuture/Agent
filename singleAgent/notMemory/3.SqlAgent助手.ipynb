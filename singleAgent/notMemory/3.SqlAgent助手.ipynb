{
 "cells": [
  {
   "cell_type": "code",
   "execution_count": 1,
   "metadata": {},
   "outputs": [
    {
     "data": {
      "text/plain": [
       "True"
      ]
     },
     "execution_count": 1,
     "metadata": {},
     "output_type": "execute_result"
    }
   ],
   "source": [
    "from langchain.chat_models import  ChatOpenAI\n",
    "from langchain.agents import initialize_agent,AgentType, Tool\n",
    "from langchain.utilities import SQLDatabase\n",
    "from langchain.tools import BaseTool\n",
    "from pydantic import BaseModel, Field\n",
    "from typing import Type, List, Optional, Any\n",
    "import os\n",
    "from dotenv import load_dotenv\n",
    "load_dotenv()"
   ]
  },
  {
   "cell_type": "code",
   "execution_count": 2,
   "metadata": {},
   "outputs": [],
   "source": [
    "# 获取 环境变量\n",
    "#大模型apikey和url\n",
    "api_key = os.getenv('api_key')\n",
    "base_url = os.getenv('base_url')\n",
    "\n",
    "#天气查询的apikey\n",
    "juheAppKey = os.getenv('juheAppKey')\n",
    "\n",
    "#数据库信息\n",
    "mysql_info = os.getenv('mysql_info')"
   ]
  },
  {
   "cell_type": "code",
   "execution_count": 3,
   "metadata": {},
   "outputs": [
    {
     "name": "stderr",
     "output_type": "stream",
     "text": [
      "/var/folders/xh/fl5j9g1n5t79htj8yk1cswzh0000gn/T/ipykernel_9764/113483475.py:2: LangChainDeprecationWarning: The class `ChatOpenAI` was deprecated in LangChain 0.0.10 and will be removed in 1.0. An updated version of the class exists in the :class:`~langchain-openai package and should be used instead. To use it run `pip install -U :class:`~langchain-openai` and import as `from :class:`~langchain_openai import ChatOpenAI``.\n",
      "  online_model = ChatOpenAI(\n"
     ]
    }
   ],
   "source": [
    "#定义大模型\n",
    "online_model = ChatOpenAI(\n",
    "    api_key=api_key,\n",
    "    model=\"qwen-plus\",\n",
    "    base_url=base_url,\n",
    "    temperature=0\n",
    ")"
   ]
  },
  {
   "cell_type": "code",
   "execution_count": 4,
   "metadata": {},
   "outputs": [],
   "source": [
    "#定义数据库 连接\n",
    "db = SQLDatabase.from_uri(mysql_info)\n"
   ]
  },
  {
   "cell_type": "code",
   "execution_count": 6,
   "metadata": {},
   "outputs": [
    {
     "data": {
      "text/plain": [
       "['city_stats']"
      ]
     },
     "execution_count": 6,
     "metadata": {},
     "output_type": "execute_result"
    }
   ],
   "source": [
    "#查看数据库中的可用表\n",
    "db.get_usable_table_names()"
   ]
  },
  {
   "cell_type": "code",
   "execution_count": 9,
   "metadata": {},
   "outputs": [
    {
     "name": "stdout",
     "output_type": "stream",
     "text": [
      "\n",
      "CREATE TABLE city_stats (\n",
      "\tcity_name VARCHAR(255), \n",
      "\tpopulation VARCHAR(255), \n",
      "\tarea VARCHAR(255)\n",
      ")ENGINE=InnoDB COLLATE utf8mb4_0900_ai_ci DEFAULT CHARSET=utf8mb4\n",
      "\n",
      "/*\n",
      "3 rows from city_stats table:\n",
      "city_name\tpopulation\tarea\n",
      "北京\t20000000\t400000234\n",
      "上海\t17689300\t29867200\n",
      "河北\t19999944\t39999821\n",
      "*/\n"
     ]
    }
   ],
   "source": [
    "#查看表结构\n",
    "print(db.get_table_info())"
   ]
  },
  {
   "cell_type": "code",
   "execution_count": 12,
   "metadata": {},
   "outputs": [
    {
     "name": "stdout",
     "output_type": "stream",
     "text": [
      "{'table_info': '\\nCREATE TABLE city_stats (\\n\\tcity_name VARCHAR(255), \\n\\tpopulation VARCHAR(255), \\n\\tarea VARCHAR(255)\\n)ENGINE=InnoDB COLLATE utf8mb4_0900_ai_ci DEFAULT CHARSET=utf8mb4\\n\\n/*\\n3 rows from city_stats table:\\ncity_name\\tpopulation\\tarea\\n北京\\t20000000\\t400000234\\n上海\\t17689300\\t29867200\\n河北\\t19999944\\t39999821\\n*/', 'table_names': 'city_stats'}\n"
     ]
    }
   ],
   "source": [
    "#查看数据库信息\n",
    "print(db.get_context())"
   ]
  },
  {
   "cell_type": "code",
   "execution_count": 13,
   "metadata": {},
   "outputs": [],
   "source": [
    "#定义数据库信息查询工具\n",
    "def get_database_info(_):\n",
    "    return db.get_context()\n",
    "\n",
    "#定义数据库查询工具\n",
    "def get_database_query(query):\n",
    "    return db.run(query)"
   ]
  },
  {
   "cell_type": "code",
   "execution_count": 15,
   "metadata": {},
   "outputs": [],
   "source": [
    "#获取 sql 语句 链\n",
    "from langchain.prompts import PromptTemplate\n",
    "from langchain_core.output_parsers import StrOutputParser\n",
    "from langchain_core.runnables import RunnableLambda, RunnablePassthrough,RunnableParallel\n",
    "\n",
    "template_sql=\"请通过写sql代码来回答对应问题，并且需要基于如下数据库信息：{info} \\n 需要回答问题是：{question} \\n 注意仅需要通过sql代码回答，不需要文字 \\n 代码形式如下: ```sql\\n...\\n```\"\n",
    "t_sql=PromptTemplate.from_template(template_sql)\n",
    "\n",
    "#获取 大模型生成的 sql 语句，并进行提取\n",
    "def get_sql(x):\n",
    "    return x.split(\"```sql\")[1].split(\"```\")[0]\n",
    "\n",
    "chain_sql=({\"info\":get_database_info,\"question\":RunnablePassthrough()}| t_sql | online_model | StrOutputParser() | RunnableLambda(get_sql))"
   ]
  },
  {
   "cell_type": "code",
   "execution_count": 17,
   "metadata": {},
   "outputs": [
    {
     "data": {
      "text/plain": [
       "'\\nSELECT * FROM city_stats;\\n'"
      ]
     },
     "execution_count": 17,
     "metadata": {},
     "output_type": "execute_result"
    }
   ],
   "source": [
    "#Test\n",
    "result = chain_sql.invoke({\"question\":\"请帮我查询一下城市表中的所有信息\"})\n",
    "result"
   ]
  },
  {
   "cell_type": "code",
   "execution_count": 18,
   "metadata": {},
   "outputs": [
    {
     "name": "stdout",
     "output_type": "stream",
     "text": [
      "根据提供的SQL查询结果，数据库中人口最多的两个城市及其人口分别是：\n",
      "\n",
      "1. **北京**，人口为 **20,000,000** 人。  \n",
      "2. **河北**，人口为 **19,999,944** 人。\n",
      "\n",
      "因此，人口最多的两个城市是 **北京** 和 **河北**，对应的人口数量分别为 **2000万** 和 **近2000万**。\n"
     ]
    }
   ],
   "source": [
    "#获取 sql 语句执行结果 链\n",
    "template_sql0=\"请通过综合如下的数据库信息，问题，sql代码，sql代码的执行结果给出问题的自然语言回答：\\n 数据库信息{info} \\n 需要回答问题是：{question} \\n sql代码：{query} \\n sql代码执行结果: {res}\"\n",
    "t_sql0=PromptTemplate.from_template(template_sql0)\n",
    "\n",
    "#完整流程,获取数据库信息，生成sql语句，执行sql语句，获取结果，生成回答\n",
    "chain_sql0=( {\"info\":get_database_info,\"question\":RunnablePassthrough(),\"query\":chain_sql}\n",
    "            |RunnablePassthrough.assign(res=lambda x: get_database_query(x[\"query\"])) \n",
    "            | t_sql0 | online_model |StrOutputParser())\n",
    "\n",
    "#执行完整流程\n",
    "response = chain_sql0.invoke(\"请告诉我数据库中人口最多的两个城市是哪些，分别是多少人？\")\n",
    "print(response)"
   ]
  },
  {
   "cell_type": "code",
   "execution_count": null,
   "metadata": {},
   "outputs": [],
   "source": []
  },
  {
   "cell_type": "code",
   "execution_count": null,
   "metadata": {},
   "outputs": [],
   "source": []
  },
  {
   "cell_type": "code",
   "execution_count": null,
   "metadata": {},
   "outputs": [],
   "source": []
  },
  {
   "cell_type": "code",
   "execution_count": null,
   "metadata": {},
   "outputs": [],
   "source": []
  },
  {
   "cell_type": "code",
   "execution_count": null,
   "metadata": {},
   "outputs": [],
   "source": []
  },
  {
   "cell_type": "code",
   "execution_count": null,
   "metadata": {},
   "outputs": [],
   "source": []
  },
  {
   "cell_type": "code",
   "execution_count": null,
   "metadata": {},
   "outputs": [],
   "source": []
  },
  {
   "cell_type": "code",
   "execution_count": null,
   "metadata": {},
   "outputs": [],
   "source": []
  }
 ],
 "metadata": {
  "kernelspec": {
   "display_name": "langchain",
   "language": "python",
   "name": "python3"
  },
  "language_info": {
   "codemirror_mode": {
    "name": "ipython",
    "version": 3
   },
   "file_extension": ".py",
   "mimetype": "text/x-python",
   "name": "python",
   "nbconvert_exporter": "python",
   "pygments_lexer": "ipython3",
   "version": "3.11.11"
  }
 },
 "nbformat": 4,
 "nbformat_minor": 2
}
