{
 "cells": [
  {
   "cell_type": "markdown",
   "metadata": {},
   "source": [
    "### 本助手包含了以下功能：\n",
    "-  查询天气\n",
    "-  获取当前时间\n",
    "-  通用知识问答"
   ]
  },
  {
   "cell_type": "code",
   "execution_count": null,
   "metadata": {},
   "outputs": [],
   "source": []
  },
  {
   "cell_type": "code",
   "execution_count": 122,
   "metadata": {},
   "outputs": [],
   "source": [
    "\n",
    "from langchain_openai.chat_models import ChatOpenAI\n",
    "from langchain.memory import ConversationBufferMemory\n",
    "from langchain.prompts import PromptTemplate\n",
    "\n",
    "import os\n",
    "from dotenv import load_dotenv\n",
    "\n",
    "load_dotenv()\n",
    "\n",
    "api_key = os.getenv(\"api_key\")\n",
    "base_url = os.getenv(\"base_url\")\n",
    "\n",
    "online_llm = ChatOpenAI(\n",
    "    api_key=api_key,\n",
    "    model=\"qwen-plus\",\n",
    "    base_url=base_url,\n",
    "    temperature=0\n",
    ")\n",
    "\n",
    "\n"
   ]
  },
  {
   "cell_type": "code",
   "execution_count": null,
   "metadata": {},
   "outputs": [],
   "source": []
  },
  {
   "cell_type": "code",
   "execution_count": 123,
   "metadata": {},
   "outputs": [],
   "source": [
    "#导入建立 agent 的相关环境\n",
    "from langchain.agents import initialize_agent, AgentType\n",
    "from langchain.agents import Tool #定义工具信息的\n",
    "from pydantic import BaseModel,Field\n",
    "from langchain.tools import BaseTool\n",
    "from typing import Type\n",
    "import requests"
   ]
  },
  {
   "cell_type": "code",
   "execution_count": 124,
   "metadata": {},
   "outputs": [
    {
     "data": {
      "text/plain": [
       "<AgentType.CHAT_CONVERSATIONAL_REACT_DESCRIPTION: 'chat-conversational-react-description'>"
      ]
     },
     "execution_count": 124,
     "metadata": {},
     "output_type": "execute_result"
    }
   ],
   "source": [
    "AgentType.CHAT_CONVERSATIONAL_REACT_DESCRIPTION"
   ]
  },
  {
   "cell_type": "code",
   "execution_count": null,
   "metadata": {},
   "outputs": [],
   "source": []
  },
  {
   "cell_type": "code",
   "execution_count": null,
   "metadata": {},
   "outputs": [],
   "source": []
  },
  {
   "cell_type": "code",
   "execution_count": 125,
   "metadata": {},
   "outputs": [],
   "source": [
    "# 聚合网相关api调用-根据城市查询天气 - 代码参考（根据实际业务情况修改）\n",
    "# 基本参数配置\n",
    "apiUrl = 'http://apis.juhe.cn/simpleWeather/query'  # 接口请求URL\n",
    "juheAppKey = os.getenv('juheAppKey')  # 在个人中心->我的数据,接口名称上方查看\n",
    "\n",
    "def get_weather(city:str):\n",
    "    # 接口请求入参配置\n",
    "    requestParams = {\n",
    "        'key': juheAppKey,\n",
    "        'city': city,\n",
    "    }\n",
    "  # 发起接口网络请求\n",
    "    response = requests.get(apiUrl, params=requestParams)\n",
    "\n",
    "    # 解析响应结果\n",
    "    if response.status_code == 200:\n",
    "        responseResult = response.json()\n",
    "        # 网络请求成功。可依据业务逻辑和接口文档说明自行处理。\n",
    "        print(responseResult)\n",
    "        return responseResult\n",
    "    else:\n",
    "        # 网络异常等因素，解析结果异常。可依据业务逻辑自行处理。\n",
    "        return '请求异常'"
   ]
  },
  {
   "cell_type": "code",
   "execution_count": 126,
   "metadata": {},
   "outputs": [],
   "source": [
    "#定义 获取天气的 工具\n",
    "\n",
    "class GetWeatherInput(BaseModel):\n",
    "    city: str = Field(description=\"城市名称\")\n",
    "\n",
    "class GetWeather(BaseTool):\n",
    "    name: str = Field(default=\"get_weather\")\n",
    "    description: str = Field(default=\"这是一个获取天气的API，可以获取指定城市的天气情况，需要用户提供城市名称\")\n",
    "    args_schema: Type[BaseModel] = GetWeatherInput\n",
    "\n",
    "    def _run(self, city: str) -> str:\n",
    "        print(f'开始查询{city}的天气信息')\n",
    "        return get_weather(city)\n",
    "    async def _arun(self, city: str) -> str:\n",
    "        raise NotImplementedError(\"This tool does not support async\")\n"
   ]
  },
  {
   "cell_type": "code",
   "execution_count": 127,
   "metadata": {},
   "outputs": [],
   "source": [
    "#定义时间工具\n",
    "\n",
    "import datetime\n",
    "\n",
    "class GetDateInput(BaseModel):\n",
    "    # format: str = Field(default=\"%Y-%m-%d\", description=\"日期格式\")\n",
    "    pass\n",
    "\n",
    "class GetDate(BaseTool):\n",
    "    name: str = Field(default=\"get_date\")\n",
    "    description: str = Field(default=\"这是一个获取日期的API，可以获取当前日期\")\n",
    "    # args_schema: Type[BaseModel] = GetDateInput\n",
    "\n",
    "    def _run(self) -> str:\n",
    "        return datetime.datetime.now().strftime('%Y-%m-%d')\n",
    "    async def _arun(self) -> str:\n",
    "        raise NotImplementedError(\"This tool does not support async\")\n"
   ]
  },
  {
   "cell_type": "code",
   "execution_count": null,
   "metadata": {},
   "outputs": [],
   "source": []
  },
  {
   "cell_type": "code",
   "execution_count": 128,
   "metadata": {},
   "outputs": [],
   "source": [
    "# 路由链相关环境\n",
    "from langchain.chains import LLMChain, ConversationChain\n",
    "from langchain.chains.router import MultiRouteChain, LLMRouterChain, MultiPromptChain\n",
    "from langchain.chains.router.multi_prompt_prompt import MULTI_PROMPT_ROUTER_TEMPLATE\n",
    "from langchain.chains.router.llm_router import LLMRouterChain, RouterOutputParser"
   ]
  },
  {
   "cell_type": "code",
   "execution_count": 129,
   "metadata": {},
   "outputs": [],
   "source": [
    "# 底层 目标链的prompt\n",
    "math_prompt = \"\"\"\n",
    "你是一位数学家，请根据以下问题，生成对应的数学公式.内容：{input}\n",
    "\"\"\"\n",
    "\n",
    "weather_prompt = \"\"\"你是一位天气预报员，请根据以下问题，生成对应的天气信息.内容：{input}\"\"\"\n",
    "time_prompt = \"\"\"你是一位时间大师，请根据以下问题，获取对应时间.内容：{input}\"\"\""
   ]
  },
  {
   "cell_type": "code",
   "execution_count": 130,
   "metadata": {},
   "outputs": [],
   "source": [
    "#提示词模版 相关信息\n",
    "prompt_info = [\n",
    "    {\n",
    "        \"name\": \"math\",\n",
    "        \"description\": \"数学问题\",\n",
    "        \"prompt\": math_prompt\n",
    "    },\n",
    "    {\n",
    "        \"name\": \"weather\",\n",
    "        \"description\": \"天气问题\",\n",
    "        \"prompt\": weather_prompt\n",
    "    },\n",
    "    {\n",
    "        \"name\": \"time\",\n",
    "        \"description\": \"时间问题\",\n",
    "        \"prompt\": time_prompt\n",
    "    }\n",
    "]"
   ]
  },
  {
   "cell_type": "code",
   "execution_count": null,
   "metadata": {},
   "outputs": [],
   "source": [
    "#定义 目标链\n",
    "math_LLMChain = LLMChain(llm=online_llm, prompt=PromptTemplate.from_template(math_prompt))\n",
    "\n",
    "#此单元格 为构建智能体原始方式，输出字段默认为 output\n",
    "#定义 目标 智能体\n",
    "weather_agent = initialize_agent(\n",
    "    [GetWeather()],\n",
    "    online_llm,\n",
    "    AgentType.ZERO_SHOT_REACT_DESCRIPTION,\n",
    "    verbose=True,\n",
    "    handle_parsing_errors=True, # 处理解析错误\n",
    ")\n",
    "\n",
    "time_agent = initialize_agent(\n",
    "    [GetDate()],\n",
    "    online_llm,\n",
    "    AgentType.STRUCTURED_CHAT_ZERO_SHOT_REACT_DESCRIPTION,\n",
    "    verbose=True,\n",
    "    handle_parsing_errors=True, # 处理解析错误\n",
    ")"
   ]
  },
  {
   "cell_type": "code",
   "execution_count": null,
   "metadata": {},
   "outputs": [],
   "source": [
    "#修改 agent 智能体输出的字段, 此单元格方式虽然可以修改输出字段，但是在 multipromptChain 中无法生效，会报错\n",
    "from langchain_core.runnables import  RunnableLambda\n",
    "\n",
    "time_agent2 = initialize_agent(\n",
    "    [GetDate()],\n",
    "    online_llm,\n",
    "    AgentType.STRUCTURED_CHAT_ZERO_SHOT_REACT_DESCRIPTION,\n",
    "    verbose=True,\n",
    "    handle_parsing_errors=True,\n",
    "    # 关键配置：添加输出解析器\n",
    ") | RunnableLambda(lambda x: {'input': x[\"input\"], \"text\": x[\"output\"]})\n",
    "\n",
    "\n",
    "#定义 目标 智能体\n",
    "weather_agent2 = initialize_agent(\n",
    "    [GetWeather()],\n",
    "    online_llm,\n",
    "    AgentType.ZERO_SHOT_REACT_DESCRIPTION,\n",
    "    verbose=True,\n",
    "    handle_parsing_errors=True, # 处理解析错误\n",
    ") | RunnableLambda(lambda x: {'input': x[\"input\"], \"text\": x[\"output\"]})\n"
   ]
  },
  {
   "cell_type": "code",
   "execution_count": null,
   "metadata": {},
   "outputs": [],
   "source": []
  },
  {
   "cell_type": "code",
   "execution_count": 175,
   "metadata": {},
   "outputs": [
    {
     "name": "stdout",
     "output_type": "stream",
     "text": [
      "\n",
      "\n",
      "\u001b[1m> Entering new AgentExecutor chain...\u001b[0m\n",
      "\u001b[32;1m\u001b[1;3mThought: 我需要使用get_date工具来获取当前日期。\n",
      "\n",
      "Action:\n",
      "```\n",
      "{\n",
      "  \"action\": \"get_date\",\n",
      "  \"action_input\": {}\n",
      "}\n",
      "```\n",
      "\u001b[0m\n",
      "Observation: \u001b[36;1m\u001b[1;3m2025-05-28\u001b[0m\n",
      "Thought:\u001b[32;1m\u001b[1;3m我现在知道日期是2025年5月28日。\n",
      "\n",
      "Action:\n",
      "```\n",
      "{\n",
      "  \"action\": \"Final Answer\",\n",
      "  \"action_input\": \"今天是2025年5月28日。\"\n",
      "}\n",
      "```\u001b[0m\n",
      "\n",
      "\u001b[1m> Finished chain.\u001b[0m\n",
      "{'text': '今天是2025年5月28日。'}\n"
     ]
    }
   ],
   "source": [
    "#initialize_agent智能体的返回字段为 output，目前尚未找到修改方法，故采用自定义 Chain来包裹智能体，变成chain的子类，从而修改返回字段\n",
    "\n",
    "# 初始化 Agent \n",
    "time_agent_output = initialize_agent(\n",
    "    [GetDate()],\n",
    "    online_llm,\n",
    "    AgentType.STRUCTURED_CHAT_ZERO_SHOT_REACT_DESCRIPTION,\n",
    "    verbose=True,\n",
    "    handle_parsing_errors=True,\n",
    ")\n",
    "\n",
    "from langchain.chains.base import Chain\n",
    "from langchain.agents import StructuredChatAgent\n",
    "from typing import Dict, Any, List\n",
    "\n",
    "#定义一个自定义的 Chain 类\n",
    "class CustomChain(Chain):\n",
    "\n",
    "    input_key: str = \"input\" #输入字段名\n",
    "    output_key: str = \"text\" #输出字段名\n",
    "\n",
    "    @property\n",
    "    def input_keys(self) -> List[str]:\n",
    "        return [self.input_key]\n",
    "\n",
    "    @property\n",
    "    def output_keys(self) -> List[str]:\n",
    "        return [self.output_key]\n",
    "\n",
    "    def _call(self, inputs: Dict[str, Any]) -> Dict[str, Any]:\n",
    "        # 调用原始的 Agent\n",
    "        # 从输入中获取用户的问题\n",
    "        user_input = inputs[self.input_key]\n",
    "\n",
    "        # 在这里，我们可以先做一些预处理，例如用另一个链处理输入\n",
    "\n",
    "        # 然后调用agent\n",
    "\n",
    "        agent_response = time_agent_output.run(user_input)\n",
    "\n",
    "        # 这里可以对agent_response进行后处理\n",
    "\n",
    "        # print(agent_response)\n",
    "\n",
    "        return {self.output_key: agent_response}\n",
    "    \n",
    "    def run(self, *args, **kwargs):\n",
    "        return self._call(*args, **kwargs)\n",
    "\n",
    "\n",
    "# 使用自定义的 Chain\n",
    "time_agent_text = CustomChain()\n",
    "# 调用时直接获取 text 字段\n",
    "result = time_agent_text.run({\"input\": \"今天几号？\"})\n",
    "print(result)"
   ]
  },
  {
   "cell_type": "code",
   "execution_count": 180,
   "metadata": {},
   "outputs": [],
   "source": [
    "# 将 天气查询工具 也按照自定义的 Chain 来包装\n",
    "# 初始化 Agent \n",
    "\n",
    "weather_agent_output = initialize_agent(\n",
    "    [GetWeather()],\n",
    "    online_llm,\n",
    "    AgentType.ZERO_SHOT_REACT_DESCRIPTION,\n",
    "    verbose=True,\n",
    "    handle_parsing_errors=True, # 处理解析错误\n",
    ")\n",
    "\n",
    "from langchain.chains.base import Chain\n",
    "from langchain.agents import StructuredChatAgent\n",
    "from typing import Dict, Any, List\n",
    "\n",
    "#定义一个自定义的 Chain 类\n",
    "class CustomWeatherChain(Chain):\n",
    "\n",
    "    input_key: str = \"input\" #输入字段名\n",
    "    output_key: str = \"text\" #输出字段名\n",
    "\n",
    "    @property\n",
    "    def input_keys(self) -> List[str]:\n",
    "        return [self.input_key]\n",
    "\n",
    "    @property\n",
    "    def output_keys(self) -> List[str]:\n",
    "        return [self.output_key]\n",
    "\n",
    "    def _call(self, inputs: Dict[str, Any]) -> Dict[str, Any]:\n",
    "        # 调用原始的 Agent\n",
    "        # 从输入中获取用户的问题\n",
    "        user_input = inputs[self.input_key]\n",
    "\n",
    "        # 在这里，我们可以先做一些预处理，例如用另一个链处理输入\n",
    "\n",
    "        # 然后调用agent\n",
    "\n",
    "        agent_response = weather_agent_output.run(user_input)\n",
    "\n",
    "        # 这里可以对agent_response进行后处理\n",
    "\n",
    "        # print(agent_response)\n",
    "\n",
    "        return {self.output_key: agent_response}\n",
    "    \n",
    "    def run(self, *args, **kwargs):\n",
    "        return self._call(*args, **kwargs)\n",
    "\n",
    "\n",
    "# 使用自定义的 Chain\n",
    "weather_agent_text = CustomWeatherChain()"
   ]
  },
  {
   "cell_type": "code",
   "execution_count": null,
   "metadata": {},
   "outputs": [
    {
     "name": "stdout",
     "output_type": "stream",
     "text": [
      "\n",
      "\n",
      "\u001b[1m> Entering new AgentExecutor chain...\u001b[0m\n",
      "\u001b[32;1m\u001b[1;3mThought: 我需要使用get_date工具来获取当前日期。\n",
      "\n",
      "Action:\n",
      "```\n",
      "{\n",
      "  \"action\": \"get_date\",\n",
      "  \"action_input\": {}\n",
      "}\n",
      "```\n",
      "\u001b[0m\n",
      "Observation: \u001b[36;1m\u001b[1;3m2025-05-28\u001b[0m\n",
      "Thought:\u001b[32;1m\u001b[1;3m我现在知道日期了，可以直接回答问题。\n",
      "\n",
      "Action:\n",
      "```\n",
      "{\n",
      "  \"action\": \"Final Answer\",\n",
      "  \"action_input\": \"今天是2025年5月28日。\"\n",
      "}\n",
      "```\u001b[0m\n",
      "\n",
      "\u001b[1m> Finished chain.\u001b[0m\n"
     ]
    },
    {
     "data": {
      "text/plain": [
       "{'input': '今天是几号？', 'output': '今天是2025年5月28日。'}"
      ]
     },
     "execution_count": 164,
     "metadata": {},
     "output_type": "execute_result"
    }
   ],
   "source": []
  },
  {
   "cell_type": "code",
   "execution_count": null,
   "metadata": {},
   "outputs": [
    {
     "name": "stdout",
     "output_type": "stream",
     "text": [
      "\n",
      "\n",
      "\u001b[1m> Entering new AgentExecutor chain...\u001b[0m\n",
      "\u001b[32;1m\u001b[1;3mThought: 我需要使用get_date工具来获取当前日期\n",
      "\n",
      "Action:\n",
      "```\n",
      "{\n",
      "  \"action\": \"get_date\",\n",
      "  \"action_input\": {}\n",
      "}\n",
      "```\n",
      "\u001b[0m\n",
      "Observation: \u001b[36;1m\u001b[1;3m2025-05-28\u001b[0m\n",
      "Thought:\u001b[32;1m\u001b[1;3m我现在知道今天的日期是2025年5月28日。\n",
      "\n",
      "Action:\n",
      "```\n",
      "{\n",
      "  \"action\": \"Final Answer\",\n",
      "  \"action_input\": \"今天是2025年5月28日。\"\n",
      "}\n",
      "```\u001b[0m\n",
      "\n",
      "\u001b[1m> Finished chain.\u001b[0m\n"
     ]
    },
    {
     "data": {
      "text/plain": [
       "{'input': '今天是几号？', 'text': '今天是2025年5月28日。'}"
      ]
     },
     "execution_count": 134,
     "metadata": {},
     "output_type": "execute_result"
    }
   ],
   "source": []
  },
  {
   "cell_type": "code",
   "execution_count": null,
   "metadata": {},
   "outputs": [],
   "source": []
  },
  {
   "cell_type": "code",
   "execution_count": null,
   "metadata": {},
   "outputs": [],
   "source": []
  },
  {
   "cell_type": "code",
   "execution_count": null,
   "metadata": {},
   "outputs": [],
   "source": []
  },
  {
   "cell_type": "code",
   "execution_count": null,
   "metadata": {},
   "outputs": [],
   "source": []
  },
  {
   "cell_type": "code",
   "execution_count": null,
   "metadata": {},
   "outputs": [],
   "source": []
  },
  {
   "cell_type": "code",
   "execution_count": 135,
   "metadata": {},
   "outputs": [],
   "source": [
    "#定义默认链提示词\n",
    "default_prompt = \"\"\"你是一位助手，别人无法回答的问题，你来回答，请回答以下问题：{input}\"\"\""
   ]
  },
  {
   "cell_type": "code",
   "execution_count": 136,
   "metadata": {},
   "outputs": [],
   "source": [
    "#定义默认链\n",
    "default_chain = LLMChain(llm=online_llm, prompt=PromptTemplate.from_template(template=default_prompt), output_key=\"text\")"
   ]
  },
  {
   "cell_type": "code",
   "execution_count": 137,
   "metadata": {},
   "outputs": [],
   "source": [
    "#路由配置\n",
    "prompt_info = [\n",
    "    \"math:你是一位数学家，请根据以下问题，生成对应的数学公式\",\n",
    "    \"weather:你是一位天气预报员，请根据以下问题，生成对应的天气信息\",\n",
    "    \"time:你是一位时间大师，请根据以下问题，生成对应的时间信息\",\n",
    "]"
   ]
  },
  {
   "cell_type": "code",
   "execution_count": 138,
   "metadata": {},
   "outputs": [
    {
     "name": "stdout",
     "output_type": "stream",
     "text": [
      "路由模版是： Given a raw text input to a language model select the model prompt best suited for the input. You will be given the names of the available prompts and a description of what the prompt is best suited for. You may also revise the original input if you think that revising it will ultimately lead to a better response from the language model.\n",
      "\n",
      "<< FORMATTING >>\n",
      "Return a markdown code snippet with a JSON object formatted to look like:\n",
      "```json\n",
      "{{\n",
      "    \"destination\": string \\ name of the prompt to use or \"DEFAULT\"\n",
      "    \"next_inputs\": string \\ a potentially modified version of the original input\n",
      "}}\n",
      "```\n",
      "\n",
      "REMEMBER: \"destination\" MUST be one of the candidate prompt names specified below OR it can be \"DEFAULT\" if the input is not well suited for any of the candidate prompts.\n",
      "REMEMBER: \"next_inputs\" can just be the original input if you don't think any modifications are needed.\n",
      "\n",
      "<< CANDIDATE PROMPTS >>\n",
      "math:你是一位数学家，请根据以下问题，生成对应的数学公式\n",
      "weather:你是一位天气预报员，请根据以下问题，生成对应的天气信息\n",
      "time:你是一位时间大师，请根据以下问题，生成对应的时间信息\n",
      "\n",
      "<< INPUT >>\n",
      "{input}\n",
      "\n",
      "<< OUTPUT (must include ```json at the start of the response) >>\n",
      "<< OUTPUT (must end with ```) >>\n",
      "\n",
      "路由模版router_prompt 是： input_variables=['input'] input_types={} output_parser=RouterOutputParser() partial_variables={} template='Given a raw text input to a language model select the model prompt best suited for the input. You will be given the names of the available prompts and a description of what the prompt is best suited for. You may also revise the original input if you think that revising it will ultimately lead to a better response from the language model.\\n\\n<< FORMATTING >>\\nReturn a markdown code snippet with a JSON object formatted to look like:\\n```json\\n{{\\n    \"destination\": string \\\\ name of the prompt to use or \"DEFAULT\"\\n    \"next_inputs\": string \\\\ a potentially modified version of the original input\\n}}\\n```\\n\\nREMEMBER: \"destination\" MUST be one of the candidate prompt names specified below OR it can be \"DEFAULT\" if the input is not well suited for any of the candidate prompts.\\nREMEMBER: \"next_inputs\" can just be the original input if you don\\'t think any modifications are needed.\\n\\n<< CANDIDATE PROMPTS >>\\nmath:你是一位数学家，请根据以下问题，生成对应的数学公式\\nweather:你是一位天气预报员，请根据以下问题，生成对应的天气信息\\ntime:你是一位时间大师，请根据以下问题，生成对应的时间信息\\n\\n<< INPUT >>\\n{input}\\n\\n<< OUTPUT (must include ```json at the start of the response) >>\\n<< OUTPUT (must end with ```) >>\\n'\n"
     ]
    }
   ],
   "source": [
    "#构建路由模版\n",
    "router_template = MULTI_PROMPT_ROUTER_TEMPLATE.format(destinations = \"\\n\".join(prompt_info))\n",
    "print(\"路由模版是：\",router_template)\n",
    "\n",
    "router_prompt = PromptTemplate(\n",
    "    template=router_template,\n",
    "    # template=\"\\n\".join(prompt_info),\n",
    "    input_variables=[\"input\"],\n",
    "    output_parser=RouterOutputParser()\n",
    "    )\n",
    "print(\"路由模版router_prompt 是：\",router_prompt)"
   ]
  },
  {
   "cell_type": "code",
   "execution_count": 139,
   "metadata": {},
   "outputs": [],
   "source": [
    "#构建路由链\n",
    "router_chain = LLMRouterChain.from_llm(llm=online_llm, prompt=router_prompt, verbose=True, output_key=\"text\")"
   ]
  },
  {
   "cell_type": "code",
   "execution_count": null,
   "metadata": {},
   "outputs": [
    {
     "name": "stdout",
     "output_type": "stream",
     "text": [
      "Name: langchain-core\n",
      "Version: 0.3.49\n",
      "Summary: Building applications with LLMs through composability\n",
      "Home-page: \n",
      "Author: \n",
      "Author-email: \n",
      "License: MIT\n",
      "Location: /Users/zhangtian/miniforge3/envs/langchain/lib/python3.11/site-packages\n",
      "Requires: jsonpatch, langsmith, packaging, pydantic, PyYAML, tenacity, typing-extensions\n",
      "Required-by: langchain, langchain-cohere, langchain-community, langchain-deepseek, langchain-experimental, langchain-huggingface, langchain-mcp-adapters, langchain-openai, langchain-text-splitters, langgraph, langgraph-checkpoint, langgraph-prebuilt\n",
      "Note: you may need to restart the kernel to use updated packages.\n"
     ]
    }
   ],
   "source": [
    "pip show langchain_core"
   ]
  },
  {
   "cell_type": "code",
   "execution_count": 181,
   "metadata": {},
   "outputs": [],
   "source": [
    "#构建最终路由链，将路由链和默认链组合\n",
    "from langchain_core.output_parsers import StrOutputParser, JsonOutputParser\n",
    "from langchain_core.runnables import RouterRunnable\n",
    "\n",
    "expert_chain = MultiPromptChain(\n",
    "    tags=[\"output\"],\n",
    "    router_chain=router_chain, #路由链\n",
    "\n",
    "    destination_chains={\n",
    "        \"math\": math_LLMChain, #数学链\n",
    "        \"weather\": weather_agent_text , #天气 智能体\n",
    "        \"time\": time_agent_text , #时间 智能体\n",
    "    }, #路由链对应的链\n",
    "\n",
    "    default_chain=default_chain, #默认链\n",
    "    verbose=True,\n",
    "    \n",
    "    # memory=memory, #记忆模块\n",
    ")"
   ]
  },
  {
   "cell_type": "code",
   "execution_count": 182,
   "metadata": {},
   "outputs": [
    {
     "name": "stdout",
     "output_type": "stream",
     "text": [
      "\n",
      "\n",
      "\u001b[1m> Entering new MultiPromptChain chain...\u001b[0m\n",
      "\n",
      "\n",
      "\u001b[1m> Entering new LLMRouterChain chain...\u001b[0m\n",
      "\n",
      "\u001b[1m> Finished chain.\u001b[0m\n",
      "time: {'input': '明天是几号'}\n",
      "\n",
      "\u001b[1m> Entering new AgentExecutor chain...\u001b[0m\n",
      "\u001b[32;1m\u001b[1;3mThought: 我需要查询当前日期，然后根据当前日期计算出明天的日期。\n",
      "\n",
      "Action:\n",
      "```\n",
      "{\n",
      "  \"action\": \"get_date\",\n",
      "  \"action_input\": {}\n",
      "}\n",
      "```\n",
      "\u001b[0m\n",
      "Observation: \u001b[36;1m\u001b[1;3m2025-05-28\u001b[0m\n",
      "Thought:\u001b[32;1m\u001b[1;3m根据当前日期2025-05-28，明天的日期应该是2025-05-29。\n",
      "\n",
      "Action:\n",
      "```\n",
      "{\n",
      "  \"action\": \"Final Answer\",\n",
      "  \"action_input\": \"明天是2025年5月29日\"\n",
      "}\n",
      "```\u001b[0m\n",
      "\n",
      "\u001b[1m> Finished chain.\u001b[0m\n",
      "\n",
      "\u001b[1m> Finished chain.\u001b[0m\n"
     ]
    },
    {
     "data": {
      "text/plain": [
       "{'input': '明天是几号', 'text': '明天是2025年5月29日'}"
      ]
     },
     "execution_count": 182,
     "metadata": {},
     "output_type": "execute_result"
    }
   ],
   "source": [
    "#Test\n",
    "result = expert_chain.invoke(\"明天是几号,北京的天气怎么样\")\n",
    "result"
   ]
  },
  {
   "cell_type": "code",
   "execution_count": 183,
   "metadata": {},
   "outputs": [
    {
     "name": "stdout",
     "output_type": "stream",
     "text": [
      "\n",
      "\n",
      "\u001b[1m> Entering new MultiPromptChain chain...\u001b[0m\n",
      "\n",
      "\n",
      "\u001b[1m> Entering new LLMRouterChain chain...\u001b[0m\n",
      "\n",
      "\u001b[1m> Finished chain.\u001b[0m\n",
      "weather: {'input': '北京的天气怎么样'}\n",
      "\n",
      "\u001b[1m> Entering new AgentExecutor chain...\u001b[0m\n",
      "\u001b[32;1m\u001b[1;3m我需要通过调用 get_weather API 来获取北京的天气情况。\n",
      "Action: get_weather  \n",
      "Action Input: 北京  \u001b[0m开始查询北京的天气信息\n",
      "{'reason': '查询成功!', 'result': {'city': '北京', 'realtime': {'temperature': '26', 'humidity': '35', 'info': '晴', 'wid': '00', 'direct': '东南风', 'power': '1级', 'aqi': '99'}, 'future': [{'date': '2025-05-28', 'temperature': '19/33℃', 'weather': '晴', 'wid': {'day': '00', 'night': '00'}, 'direct': '南风转西南风'}, {'date': '2025-05-29', 'temperature': '21/33℃', 'weather': '晴', 'wid': {'day': '00', 'night': '00'}, 'direct': '西南风转南风'}, {'date': '2025-05-30', 'temperature': '22/33℃', 'weather': '多云', 'wid': {'day': '01', 'night': '01'}, 'direct': '南风'}, {'date': '2025-05-31', 'temperature': '22/30℃', 'weather': '阴', 'wid': {'day': '02', 'night': '02'}, 'direct': '南风转东风'}, {'date': '2025-06-01', 'temperature': '22/30℃', 'weather': '阴转多云', 'wid': {'day': '02', 'night': '01'}, 'direct': '东南风转东风'}]}, 'error_code': 0}\n",
      "\n",
      "Observation: \u001b[36;1m\u001b[1;3m{'reason': '查询成功!', 'result': {'city': '北京', 'realtime': {'temperature': '26', 'humidity': '35', 'info': '晴', 'wid': '00', 'direct': '东南风', 'power': '1级', 'aqi': '99'}, 'future': [{'date': '2025-05-28', 'temperature': '19/33℃', 'weather': '晴', 'wid': {'day': '00', 'night': '00'}, 'direct': '南风转西南风'}, {'date': '2025-05-29', 'temperature': '21/33℃', 'weather': '晴', 'wid': {'day': '00', 'night': '00'}, 'direct': '西南风转南风'}, {'date': '2025-05-30', 'temperature': '22/33℃', 'weather': '多云', 'wid': {'day': '01', 'night': '01'}, 'direct': '南风'}, {'date': '2025-05-31', 'temperature': '22/30℃', 'weather': '阴', 'wid': {'day': '02', 'night': '02'}, 'direct': '南风转东风'}, {'date': '2025-06-01', 'temperature': '22/30℃', 'weather': '阴转多云', 'wid': {'day': '02', 'night': '01'}, 'direct': '东南风转东风'}]}, 'error_code': 0}\u001b[0m\n",
      "Thought:\u001b[32;1m\u001b[1;3m我现在知道北京的天气情况。\n",
      "Final Answer: 北京当前的天气为晴，温度为26℃，湿度为35%，风向为东南风，风力等级为1级，空气质量指数（AQI）为99。未来几天的天气预报如下：\n",
      "\n",
      "- 2025年5月28日：晴，温度范围19至33℃，风向为南风转西南风。\n",
      "- 2025年5月29日：晴，温度范围21至33℃，风向为西南风转南风。\n",
      "- 2025年5月30日：多云，温度范围22至33℃，风向为南风。\n",
      "- 2025年5月31日：阴，温度范围22至30℃，风向为南风转东风。\n",
      "- 2025年6月1日：阴转多云，温度范围22至30℃，风向为东南风转东风。\u001b[0m\n",
      "\n",
      "\u001b[1m> Finished chain.\u001b[0m\n",
      "\n",
      "\u001b[1m> Finished chain.\u001b[0m\n"
     ]
    },
    {
     "data": {
      "text/plain": [
       "{'input': '北京的天气怎么样',\n",
       " 'text': '北京当前的天气为晴，温度为26℃，湿度为35%，风向为东南风，风力等级为1级，空气质量指数（AQI）为99。未来几天的天气预报如下：\\n\\n- 2025年5月28日：晴，温度范围19至33℃，风向为南风转西南风。\\n- 2025年5月29日：晴，温度范围21至33℃，风向为西南风转南风。\\n- 2025年5月30日：多云，温度范围22至33℃，风向为南风。\\n- 2025年5月31日：阴，温度范围22至30℃，风向为南风转东风。\\n- 2025年6月1日：阴转多云，温度范围22至30℃，风向为东南风转东风。'}"
      ]
     },
     "execution_count": 183,
     "metadata": {},
     "output_type": "execute_result"
    }
   ],
   "source": [
    "result = expert_chain.invoke(\"北京的天气怎么样\")\n",
    "result"
   ]
  },
  {
   "cell_type": "code",
   "execution_count": 184,
   "metadata": {},
   "outputs": [
    {
     "name": "stdout",
     "output_type": "stream",
     "text": [
      "\n",
      "\n",
      "\u001b[1m> Entering new MultiPromptChain chain...\u001b[0m\n",
      "\n",
      "\n",
      "\u001b[1m> Entering new LLMRouterChain chain...\u001b[0m\n",
      "\n",
      "\u001b[1m> Finished chain.\u001b[0m\n",
      "None: {'input': '榴莲是什么'}\n",
      "\u001b[1m> Finished chain.\u001b[0m\n"
     ]
    },
    {
     "data": {
      "text/plain": [
       "{'input': '榴莲是什么',\n",
       " 'text': '榴莲是一种热带水果，素有“水果之王”的美誉。它原产于东南亚地区，如泰国、马来西亚和印度尼西亚等地，如今在中国的海南、广东、广西等南方地区也有种植。\\n\\n### 榴莲的主要特点：\\n1. **外观**：榴莲的外壳坚硬，呈绿色或棕色，表面布满尖刺，形状多为椭圆形或卵形。\\n2. **气味**：榴莲以其独特的气味闻名，有些人觉得香味浓郁诱人，而另一些人则认为气味刺鼻甚至难以接受。\\n3. **果肉**：榴莲的果肉金黄色，质地柔软细腻，味道香甜，带有一丝奶油般的口感，有些品种还略带苦味或酸味。\\n4. **种子**：榴莲内部含有几颗大种子，这些种子可以煮熟后食用，口感类似栗子。\\n\\n### 常见品种：\\n- **猫山王（Musang King）**：产自马来西亚，果肉纤维少，口感细腻，甜中带苦。\\n- **金枕（Monthong）**：泰国的主要出口品种，果肉较多，味道偏甜。\\n- **甲仑（Jaren）**：果肉厚实，香味浓郁。\\n\\n### 营养价值：\\n榴莲富含碳水化合物、蛋白质、脂肪以及多种维生素和矿物质，如维生素C、钾和铁。适量食用可以补充能量、增强免疫力，但因其热量较高，不宜过量食用。\\n\\n### 注意事项：\\n1. **过敏反应**：部分人可能对榴莲过敏，食用时需注意。\\n2. **保存方式**：未成熟的榴莲可放在阴凉处催熟，成熟后的榴莲最好冷藏保存，并尽快食用。\\n3. **禁忌搭配**：榴莲性热，不宜与酒精一起食用，否则可能导致身体不适。\\n\\n榴莲的独特风味使其成为许多人喜爱的水果，但也因其气味强烈而备受争议。无论如何，它都是热带地区不可忽视的一种美味水果！'}"
      ]
     },
     "execution_count": 184,
     "metadata": {},
     "output_type": "execute_result"
    }
   ],
   "source": [
    "result = expert_chain.invoke(\"榴莲是什么\")\n",
    "result"
   ]
  },
  {
   "cell_type": "code",
   "execution_count": null,
   "metadata": {},
   "outputs": [],
   "source": []
  },
  {
   "cell_type": "code",
   "execution_count": null,
   "metadata": {},
   "outputs": [],
   "source": []
  },
  {
   "cell_type": "code",
   "execution_count": null,
   "metadata": {},
   "outputs": [],
   "source": []
  }
 ],
 "metadata": {
  "kernelspec": {
   "display_name": "langchain",
   "language": "python",
   "name": "python3"
  },
  "language_info": {
   "codemirror_mode": {
    "name": "ipython",
    "version": 3
   },
   "file_extension": ".py",
   "mimetype": "text/x-python",
   "name": "python",
   "nbconvert_exporter": "python",
   "pygments_lexer": "ipython3",
   "version": "3.11.11"
  }
 },
 "nbformat": 4,
 "nbformat_minor": 2
}
