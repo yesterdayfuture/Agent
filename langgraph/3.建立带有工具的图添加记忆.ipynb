{
 "cells": [
  {
   "cell_type": "code",
   "execution_count": 24,
   "metadata": {},
   "outputs": [],
   "source": [
    "#定义工具\n",
    "from langchain.tools import BaseTool\n",
    "from pydantic import BaseModel, Field\n",
    "import datetime\n",
    "\n",
    "\n",
    "class GetDateInput(BaseModel):\n",
    "    # format: str = Field(default=\"%Y-%m-%d\", description=\"日期格式\")\n",
    "    pass\n",
    "\n",
    "class GetDate(BaseTool):\n",
    "    name: str = Field(default=\"get_date\")\n",
    "    description: str = Field(default=\"这是一个获取日期的API，可以获取当前日期\")\n",
    "    # args_schema: Type[BaseModel] = GetDateInput\n",
    "\n",
    "    def _run(self) -> str:\n",
    "        return datetime.datetime.now().strftime('%Y-%m-%d')\n",
    "    async def _arun(self) -> str:\n",
    "        raise NotImplementedError(\"This tool does not support async\")"
   ]
  },
  {
   "cell_type": "code",
   "execution_count": 25,
   "metadata": {},
   "outputs": [],
   "source": [
    "\n",
    "#导入大模型\n",
    "from langchain.chat_models import ChatOpenAI\n",
    "from dotenv import load_dotenv\n",
    "import os\n",
    "load_dotenv()\n",
    "\n",
    "api_key = os.getenv(\"api_key\")\n",
    "base_url = os.getenv(\"base_url\")\n",
    "\n",
    "online_llm = ChatOpenAI(\n",
    "    api_key=api_key,\n",
    "    model=\"deepseek-r1\",\n",
    "    base_url=base_url,\n",
    "    temperature=0\n",
    ")"
   ]
  },
  {
   "cell_type": "code",
   "execution_count": 26,
   "metadata": {},
   "outputs": [],
   "source": [
    "#导入建立 agent 的相关环境\n",
    "from langchain.agents import initialize_agent, AgentType\n",
    "from langchain.agents import Tool #定义工具信息的\n",
    "from pydantic import BaseModel,Field\n",
    "from langchain.tools import BaseTool\n",
    "from typing import Type\n",
    "import requests\n",
    "\n",
    "\n",
    "time_agent = initialize_agent(\n",
    "    [GetDate()],\n",
    "    online_llm,\n",
    "    AgentType.STRUCTURED_CHAT_ZERO_SHOT_REACT_DESCRIPTION,\n",
    "    verbose=True,\n",
    "    handle_parsing_errors=True, # 处理解析错误\n",
    ")"
   ]
  },
  {
   "cell_type": "code",
   "execution_count": 27,
   "metadata": {},
   "outputs": [
    {
     "name": "stdout",
     "output_type": "stream",
     "text": [
      "\n",
      "\n",
      "\u001b[1m> Entering new AgentExecutor chain...\u001b[0m\n",
      "\u001b[32;1m\u001b[1;3mAction:\n",
      "```\n",
      "{\n",
      "  \"action\": \"get_date\",\n",
      "  \"action_input\": {}\n",
      "}\n",
      "```\u001b[0m\n",
      "Observation: \u001b[36;1m\u001b[1;3m2025-06-01\u001b[0m\n",
      "Thought:\u001b[32;1m\u001b[1;3mAction:\n",
      "```\n",
      "{\n",
      "  \"action\": \"Final Answer\",\n",
      "  \"action_input\": \"今天是2025年6月1日\"\n",
      "}\n",
      "```\u001b[0m\n",
      "\n",
      "\u001b[1m> Finished chain.\u001b[0m\n"
     ]
    },
    {
     "data": {
      "text/plain": [
       "'今天是2025年6月1日'"
      ]
     },
     "execution_count": 27,
     "metadata": {},
     "output_type": "execute_result"
    }
   ],
   "source": [
    "time_agent.run(\"今天几号？\")"
   ]
  },
  {
   "cell_type": "code",
   "execution_count": 28,
   "metadata": {},
   "outputs": [],
   "source": [
    "#导入图相关环境\n",
    "from langgraph.graph import  StateGraph\n",
    "from typing import  TypedDict, Annotated, List\n",
    "from langgraph.graph.message import  add_messages"
   ]
  },
  {
   "cell_type": "code",
   "execution_count": 29,
   "metadata": {},
   "outputs": [],
   "source": [
    "#定义消息状态信息\n",
    "class State(TypedDict):\n",
    "    messages: Annotated[List, add_messages]"
   ]
  },
  {
   "cell_type": "code",
   "execution_count": 30,
   "metadata": {},
   "outputs": [],
   "source": [
    "#定义图信息\n",
    "graph = StateGraph(State)\n",
    "\n",
    "\n",
    "#定义节点函数，返回值是状态信息\n",
    "def chat_node(state: State):\n",
    "\n",
    "    result = time_agent.run(state[\"messages\"])\n",
    "    return {\"messages\": result}"
   ]
  },
  {
   "cell_type": "code",
   "execution_count": 31,
   "metadata": {},
   "outputs": [
    {
     "data": {
      "text/plain": [
       "<langgraph.graph.state.StateGraph at 0x1103abad0>"
      ]
     },
     "execution_count": 31,
     "metadata": {},
     "output_type": "execute_result"
    }
   ],
   "source": [
    "#添加节点\n",
    "graph.add_node('chat', chat_node)"
   ]
  },
  {
   "cell_type": "code",
   "execution_count": 32,
   "metadata": {},
   "outputs": [
    {
     "data": {
      "text/plain": [
       "<langgraph.graph.state.StateGraph at 0x1103abad0>"
      ]
     },
     "execution_count": 32,
     "metadata": {},
     "output_type": "execute_result"
    }
   ],
   "source": [
    "import json\n",
    "from langchain_core.messages import ToolMessage  # 导入工具消息类，用于封装工具执行结果\n",
    "\n",
    "class BasicToolNode:\n",
    "    \"\"\"A node that runs the tools requested in the last AIMessage.\"\"\"\n",
    "    # 功能说明：实现LangGraph中执行工具调用的节点，处理AI消息中的工具请求\n",
    "\n",
    "    def __init__(self, tools: list) -> None:\n",
    "        # 工具初始化：将工具列表转换为{工具名:工具对象}的字典结构\n",
    "        self.tools_by_name = {tool.name: tool for tool in tools}  \n",
    "\n",
    "    def __call__(self, inputs: dict):\n",
    "        # 节点调用入口，inputs包含消息历史记录\n",
    "        if messages := inputs.get(\"messages\", []):\n",
    "            message = messages[-1]  # 获取最新AI消息（含工具调用请求）\n",
    "        else:\n",
    "            raise ValueError(\"No message found in input\")\n",
    "        \n",
    "        outputs = []\n",
    "        for tool_call in message.tool_calls:  # 遍历消息中的所有工具调用请求\n",
    "            # 执行具体工具：根据工具名获取实例并传入参数\n",
    "            tool_result = self.tools_by_name[tool_call[\"name\"]].invoke(\n",
    "                tool_call[\"args\"]\n",
    "            )\n",
    "            # 封装工具结果为ToolMessage，包含：\n",
    "            # content: JSON序列化的执行结果\n",
    "            # name: 工具标识（需与请求匹配）\n",
    "            # tool_call_id: 调用ID（用于关联请求与响应）\n",
    "            outputs.append(\n",
    "                ToolMessage(\n",
    "                    content=json.dumps(tool_result),\n",
    "                    name=tool_call[\"name\"],\n",
    "                    tool_call_id=tool_call[\"id\"],\n",
    "                )\n",
    "            )\n",
    "        return {\"messages\": outputs}  # 返回工具消息列表，供后续节点处理\n",
    "\n",
    "# 使用示例\n",
    "tool_node = BasicToolNode(tools=[GetDate()])  # 创建工具节点实例，绑定日期工具\n",
    "graph.add_node(\"tools\", tool_node)  # 将节点添加到LangGraph状态图中"
   ]
  },
  {
   "cell_type": "code",
   "execution_count": null,
   "metadata": {},
   "outputs": [],
   "source": []
  },
  {
   "cell_type": "code",
   "execution_count": 33,
   "metadata": {},
   "outputs": [
    {
     "data": {
      "text/plain": [
       "<langgraph.graph.state.StateGraph at 0x1103abad0>"
      ]
     },
     "execution_count": 33,
     "metadata": {},
     "output_type": "execute_result"
    }
   ],
   "source": [
    "from typing import Literal  # 类型标注模块，用于定义字面量类型\n",
    "\n",
    "def route_tools(state: State) -> Literal[\"tools\", \"__end__\"]:\n",
    "    \"\"\"\n",
    "    工具路由决策函数，用于条件边(conditional_edge)判断：\n",
    "    - 当最后一条消息包含工具调用时路由到ToolNode\n",
    "    - 否则终止流程\n",
    "    \n",
    "    参数:\n",
    "        state: 包含消息历史的状态对象，可以是列表或字典形式\n",
    "    返回:\n",
    "        \"tools\" 或 \"__end__\" 字面量，指示下一步节点\n",
    "    \"\"\"\n",
    "    # 状态数据提取逻辑\n",
    "    if isinstance(state, list):  # 处理列表形式的状态数据\n",
    "        ai_message = state[-1]  # 获取最新AI消息\n",
    "    elif messages := state.get(\"messages\", []):  # 处理字典形式的状态数据\n",
    "        ai_message = messages[-1]\n",
    "    else:\n",
    "        raise ValueError(f\"No messages found in input state to tool_edge: {state}\")\n",
    "\n",
    "    # 工具调用检测逻辑\n",
    "    if hasattr(ai_message, \"tool_calls\") and len(ai_message.tool_calls) > 0:\n",
    "        return \"tools\"  # 存在工具调用时路由到工具节点\n",
    "    return \"__end__\"  # 否则终止流程\n",
    "\n",
    "# 构建状态图的条件边（核心控制流）\n",
    "graph.add_conditional_edges(\n",
    "    \"chat\",  # 源节点名称\n",
    "    route_tools,  # 路由判断函数\n",
    "    {\n",
    "        \"tools\": \"tools\",      # 当返回\"tools\"时跳转到tools节点\n",
    "        \"__end__\": \"__end__\"   # 当返回\"__end__\"时终止流程\n",
    "    }\n",
    ")\n",
    "\n",
    "# 工具节点执行后必须返回chat节点重新决策\n",
    "graph.add_edge(\"tools\", \"chat\")  \n",
    "\n",
    "# 设置状态图入口节点\n",
    "graph.set_entry_point(\"chat\")  \n",
    "\n",
    "\n"
   ]
  },
  {
   "cell_type": "code",
   "execution_count": 34,
   "metadata": {},
   "outputs": [],
   "source": [
    "#定义记忆\n",
    "from langgraph.checkpoint.memory import InMemorySaver\n",
    "\n",
    "checkpointer = InMemorySaver()\n",
    "\n",
    "# 将工作流实例与记忆关联\n",
    "# 编译生成可执行的工作流实例\n",
    "graph_builder = graph.compile(checkpointer=checkpointer)  \n",
    "\n"
   ]
  },
  {
   "cell_type": "code",
   "execution_count": null,
   "metadata": {},
   "outputs": [],
   "source": []
  },
  {
   "cell_type": "code",
   "execution_count": 35,
   "metadata": {},
   "outputs": [
    {
     "data": {
      "image/png": "[encoded data removed]",
      "text/plain": [
       "<IPython.core.display.Image object>"
      ]
     },
     "metadata": {},
     "output_type": "display_data"
    }
   ],
   "source": [
    "#可视化状态图\n",
    "from IPython.display import Image, display\n",
    "\n",
    "try:\n",
    "    display(Image(graph_builder.get_graph().draw_mermaid_png()))\n",
    "except Exception:\n",
    "    # This requires some extra dependencies and is optional\n",
    "    pass"
   ]
  },
  {
   "cell_type": "code",
   "execution_count": null,
   "metadata": {},
   "outputs": [],
   "source": []
  },
  {
   "cell_type": "code",
   "execution_count": 40,
   "metadata": {},
   "outputs": [
    {
     "name": "stdout",
     "output_type": "stream",
     "text": [
      "\n",
      "\n",
      "\u001b[1m> Entering new AgentExecutor chain...\u001b[0m\n",
      "\u001b[32;1m\u001b[1;3mAction:\n",
      "```\n",
      "{\n",
      "  \"action\": \"Final Answer\",\n",
      "  \"action_input\": \"您好！我是由深度求索（DeepSeek）公司开发的智能助手DeepSeek-R1。有关模型和产品的详细内容请参考官方文档。\"\n",
      "}\n",
      "```\u001b[0m\n",
      "\n",
      "\u001b[1m> Finished chain.\u001b[0m\n",
      "Goodbye!\n"
     ]
    }
   ],
   "source": [
    "# 执行工作流\n",
    "from langchain_core.messages import BaseMessage\n",
    "\n",
    "\n",
    "config = {\n",
    "    \"configurable\": {\n",
    "        \"thread_id\": \"1\"  \n",
    "    }\n",
    "}\n",
    "\n",
    "\n",
    "while True:\n",
    "    user_input = input(\"User: \")\n",
    "    if user_input.lower() in [\"quit\", \"exit\", \"q\"]:\n",
    "        print(\"Goodbye!\")\n",
    "        break\n",
    "    for event in graph_builder.stream({\"messages\": [(\"user\", user_input)]}, config):\n",
    "        for value in event.values():\n",
    "            if isinstance(value[\"messages\"], BaseMessage):\n",
    "                print(\"Assistant:\", value[\"messages\"][-1].content)\n"
   ]
  },
  {
   "cell_type": "code",
   "execution_count": 41,
   "metadata": {},
   "outputs": [
    {
     "data": {
      "text/plain": [
       "{'messages': [HumanMessage(content='q', additional_kwargs={}, response_metadata={}, id='5bb8472b-7ff8-471e-a792-681d0801845c'),\n",
       "  HumanMessage(content='', additional_kwargs={}, response_metadata={}, id='79801f35-5aa5-42b3-beb8-1e001eded27d'),\n",
       "  HumanMessage(content='你啊是谁', additional_kwargs={}, response_metadata={}, id='fe5a55b8-5142-476c-82a3-44c9f1af246f'),\n",
       "  HumanMessage(content='您好！我是由深度求索（DeepSeek）公司开发的智能助手DeepSeek-R1。有关模型和产品的详细内容请参考官方文档。', additional_kwargs={}, response_metadata={}, id='e2f2be7b-9bb2-4a14-a843-40edaad88de8')]}"
      ]
     },
     "execution_count": 41,
     "metadata": {},
     "output_type": "execute_result"
    }
   ],
   "source": [
    "graph_builder.checkpointer.get_tuple(config).checkpoint['channel_values']"
   ]
  },
  {
   "cell_type": "code",
   "execution_count": null,
   "metadata": {},
   "outputs": [
    {
     "name": "stdout",
     "output_type": "stream",
     "text": [
      "\n",
      "\n",
      "\u001b[1m> Entering new AgentExecutor chain...\u001b[0m\n",
      "\u001b[32;1m\u001b[1;3mAction:\n",
      "```\n",
      "{\n",
      "  \"action\": \"Final Answer\",\n",
      "  \"action_input\": \"我是一个AI助手，旨在帮助您解答问题和提供信息。当前日期是2025年6月1日。\"\n",
      "}\n",
      "```\u001b[0m\n",
      "\n",
      "\u001b[1m> Finished chain.\u001b[0m\n"
     ]
    },
    {
     "data": {
      "text/plain": [
       "{'messages': [HumanMessage(content='你好', additional_kwargs={}, response_metadata={}, id='40f03de1-6aad-4b55-bc32-22358589eb7e'),\n",
       "  HumanMessage(content='', additional_kwargs={}, response_metadata={}, id='913cbc6e-973e-4e8f-be50-66be41a63915'),\n",
       "  HumanMessage(content='今日时间', additional_kwargs={}, response_metadata={}, id='c9cdda4d-becb-41e8-9b31-1cd2411dfa42'),\n",
       "  HumanMessage(content='当前日期是2025年6月1日。', additional_kwargs={}, response_metadata={}, id='3e465e4d-00b0-47a5-b006-b904e16e22b2'),\n",
       "  HumanMessage(content='你是谁', additional_kwargs={}, response_metadata={}, id='6b35a38a-b4a2-4b06-b016-ff10a00e3be6'),\n",
       "  HumanMessage(content='我是一个AI助手，旨在帮助您解答问题和提供信息。当前日期是2025年6月1日。', additional_kwargs={}, response_metadata={}, id='2301a5ae-e5db-42fa-bd47-aca098fd3f26')]}"
      ]
     },
     "execution_count": 22,
     "metadata": {},
     "output_type": "execute_result"
    }
   ],
   "source": [
    "graph_builder.invoke({\"messages\": [(\"user\", '你是谁')]}, config)\n"
   ]
  },
  {
   "cell_type": "code",
   "execution_count": 42,
   "metadata": {},
   "outputs": [
    {
     "name": "stdout",
     "output_type": "stream",
     "text": [
      "================================\u001b[1m Human Message \u001b[0m=================================\n",
      "\n",
      "q\n",
      "\n",
      "\n",
      "\u001b[1m> Entering new AgentExecutor chain...\u001b[0m\n",
      "\u001b[32;1m\u001b[1;3mAction:\n",
      "```\n",
      "{\n",
      "  \"action\": \"Final Answer\",\n",
      "  \"action_input\": \"您好！请问有什么具体问题我可以帮助您解答吗？\"\n",
      "}\n",
      "```\u001b[0m\n",
      "\n",
      "\u001b[1m> Finished chain.\u001b[0m\n",
      "================================\u001b[1m Human Message \u001b[0m=================================\n",
      "\n",
      "您好！请问有什么具体问题我可以帮助您解答吗？\n"
     ]
    }
   ],
   "source": [
    "events = graph_builder.stream(\n",
    "    {\"messages\": [(\"user\", user_input)]}, config, stream_mode=\"values\"\n",
    ")\n",
    "for event in events:\n",
    "    event[\"messages\"][-1].pretty_print()"
   ]
  }
 ],
 "metadata": {
  "kernelspec": {
   "display_name": "langchain",
   "language": "python",
   "name": "python3"
  },
  "language_info": {
   "codemirror_mode": {
    "name": "ipython",
    "version": 3
   },
   "file_extension": ".py",
   "mimetype": "text/x-python",
   "name": "python",
   "nbconvert_exporter": "python",
   "pygments_lexer": "ipython3",
   "version": "3.11.11"
  }
 },
 "nbformat": 4,
 "nbformat_minor": 2
}
