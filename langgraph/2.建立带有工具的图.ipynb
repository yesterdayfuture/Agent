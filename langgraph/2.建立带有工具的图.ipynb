{
 "cells": [
  {
   "cell_type": "code",
   "execution_count": 11,
   "metadata": {},
   "outputs": [],
   "source": [
    "#定义工具\n",
    "from langchain.tools import BaseTool\n",
    "from pydantic import BaseModel, Field\n",
    "import datetime\n",
    "\n",
    "\n",
    "class GetDateInput(BaseModel):\n",
    "    # format: str = Field(default=\"%Y-%m-%d\", description=\"日期格式\")\n",
    "    pass\n",
    "\n",
    "class GetDate(BaseTool):\n",
    "    name: str = Field(default=\"get_date\")\n",
    "    description: str = Field(default=\"这是一个获取日期的API，可以获取当前日期\")\n",
    "    # args_schema: Type[BaseModel] = GetDateInput\n",
    "\n",
    "    def _run(self) -> str:\n",
    "        return datetime.datetime.now().strftime('%Y-%m-%d')\n",
    "    async def _arun(self) -> str:\n",
    "        raise NotImplementedError(\"This tool does not support async\")"
   ]
  },
  {
   "cell_type": "code",
   "execution_count": 17,
   "metadata": {},
   "outputs": [],
   "source": [
    "\n",
    "#导入大模型\n",
    "from langchain.chat_models import init_chat_model,openai\n",
    "from dotenv import load_dotenv\n",
    "import os\n",
    "load_dotenv()\n",
    "\n",
    "api_key = os.getenv(\"api_key\")\n",
    "base_url = os.getenv(\"base_url\")\n",
    "\n",
    "online_llm = init_chat_model(\n",
    "    api_key=api_key,\n",
    "    model=\"qwen-plus-latest\",\n",
    "    model_provider=\"openai\",\n",
    "    base_url=base_url,\n",
    "    temperature=0\n",
    ")"
   ]
  },
  {
   "cell_type": "code",
   "execution_count": 18,
   "metadata": {},
   "outputs": [],
   "source": [
    "#将工具添加到大模型中\n",
    "online_llm_tool = online_llm.bind_tools([GetDate()])"
   ]
  },
  {
   "cell_type": "code",
   "execution_count": null,
   "metadata": {},
   "outputs": [],
   "source": []
  },
  {
   "cell_type": "code",
   "execution_count": null,
   "metadata": {},
   "outputs": [],
   "source": []
  },
  {
   "cell_type": "code",
   "execution_count": 20,
   "metadata": {},
   "outputs": [
    {
     "name": "stderr",
     "output_type": "stream",
     "text": [
      "/var/folders/xh/fl5j9g1n5t79htj8yk1cswzh0000gn/T/ipykernel_25398/4155500191.py:10: LangChainDeprecationWarning: LangChain agents will continue to be supported, but it is recommended for new use cases to be built with LangGraph. LangGraph offers a more flexible and full-featured framework for building agents, including support for tool-calling, persistence of state, and human-in-the-loop workflows. See LangGraph documentation for more details: https://langchain-ai.github.io/langgraph/. Refer here for its pre-built ReAct agent: https://langchain-ai.github.io/langgraph/how-tos/create-react-agent/\n",
      "  time_agent = initialize_agent(\n"
     ]
    }
   ],
   "source": [
    "#导入建立 agent 的相关环境\n",
    "from langchain.agents import initialize_agent, AgentType\n",
    "from langchain.agents import Tool #定义工具信息的\n",
    "from pydantic import BaseModel,Field\n",
    "from langchain.tools import BaseTool\n",
    "from typing import Type\n",
    "import requests\n",
    "\n",
    "\n",
    "time_agent = initialize_agent(\n",
    "    [GetDate()],\n",
    "    online_llm,\n",
    "    AgentType.STRUCTURED_CHAT_ZERO_SHOT_REACT_DESCRIPTION,\n",
    "    verbose=True,\n",
    "    handle_parsing_errors=True, # 处理解析错误\n",
    ")"
   ]
  },
  {
   "cell_type": "code",
   "execution_count": 21,
   "metadata": {},
   "outputs": [
    {
     "name": "stderr",
     "output_type": "stream",
     "text": [
      "/var/folders/xh/fl5j9g1n5t79htj8yk1cswzh0000gn/T/ipykernel_25398/2645833274.py:1: LangChainDeprecationWarning: The method `Chain.run` was deprecated in langchain 0.1.0 and will be removed in 1.0. Use :meth:`~invoke` instead.\n",
      "  time_agent.run(\"今天几号？\")\n"
     ]
    },
    {
     "name": "stdout",
     "output_type": "stream",
     "text": [
      "\n",
      "\n",
      "\u001b[1m> Entering new AgentExecutor chain...\u001b[0m\n",
      "\u001b[32;1m\u001b[1;3mAction:\n",
      "```\n",
      "{\n",
      "  \"action\": \"get_date\",\n",
      "  \"action_input\": {}\n",
      "}\n",
      "```\u001b[0m\n",
      "Observation: \u001b[36;1m\u001b[1;3m2025-06-01\u001b[0m\n",
      "Thought:\u001b[32;1m\u001b[1;3mAction:\n",
      "```\n",
      "{\n",
      "  \"action\": \"Final Answer\",\n",
      "  \"action_input\": \"今天是2025年6月1日。\"\n",
      "}\n",
      "```\u001b[0m\n",
      "\n",
      "\u001b[1m> Finished chain.\u001b[0m\n"
     ]
    },
    {
     "data": {
      "text/plain": [
       "'今天是2025年6月1日。'"
      ]
     },
     "execution_count": 21,
     "metadata": {},
     "output_type": "execute_result"
    }
   ],
   "source": [
    "time_agent.run(\"今天几号？\")"
   ]
  },
  {
   "cell_type": "code",
   "execution_count": 20,
   "metadata": {},
   "outputs": [],
   "source": [
    "#导入图相关环境\n",
    "from langgraph.graph import  StateGraph\n",
    "from typing import  TypedDict, Annotated, List\n",
    "from langgraph.graph.message import  add_messages"
   ]
  },
  {
   "cell_type": "code",
   "execution_count": 21,
   "metadata": {},
   "outputs": [],
   "source": [
    "#定义消息状态信息\n",
    "class State(TypedDict):\n",
    "    messages: Annotated[List, add_messages]"
   ]
  },
  {
   "cell_type": "code",
   "execution_count": 32,
   "metadata": {},
   "outputs": [],
   "source": [
    "#定义图信息\n",
    "graph = StateGraph(State)\n",
    "\n",
    "\n",
    "#定义节点函数，返回值是状态信息\n",
    "def chat_node(state: State):\n",
    "\n",
    "    result = online_llm_tool.invoke(state[\"messages\"])\n",
    "    return {\"messages\": result}"
   ]
  },
  {
   "cell_type": "code",
   "execution_count": 33,
   "metadata": {},
   "outputs": [
    {
     "data": {
      "text/plain": [
       "<langgraph.graph.state.StateGraph at 0x10cf96890>"
      ]
     },
     "execution_count": 33,
     "metadata": {},
     "output_type": "execute_result"
    }
   ],
   "source": [
    "#添加节点\n",
    "graph.add_node('chat', chat_node)"
   ]
  },
  {
   "cell_type": "code",
   "execution_count": 34,
   "metadata": {},
   "outputs": [
    {
     "data": {
      "text/plain": [
       "<langgraph.graph.state.StateGraph at 0x10cf96890>"
      ]
     },
     "execution_count": 34,
     "metadata": {},
     "output_type": "execute_result"
    }
   ],
   "source": [
    "import json\n",
    "from langchain_core.messages import ToolMessage  # 导入工具消息类，用于封装工具执行结果\n",
    "\n",
    "class BasicToolNode:\n",
    "    \"\"\"A node that runs the tools requested in the last AIMessage.\"\"\"\n",
    "    # 功能说明：实现LangGraph中执行工具调用的节点，处理AI消息中的工具请求\n",
    "\n",
    "    def __init__(self, tools: list) -> None:\n",
    "        # 工具初始化：将工具列表转换为{工具名:工具对象}的字典结构\n",
    "        self.tools_by_name = {tool.name: tool for tool in tools}  \n",
    "\n",
    "    def __call__(self, inputs: dict):\n",
    "        # 节点调用入口，inputs包含消息历史记录\n",
    "        if messages := inputs.get(\"messages\", []):\n",
    "            message = messages[-1]  # 获取最新AI消息（含工具调用请求）\n",
    "        else:\n",
    "            raise ValueError(\"No message found in input\")\n",
    "        \n",
    "        outputs = []\n",
    "        for tool_call in message.tool_calls:  # 遍历消息中的所有工具调用请求\n",
    "            # 执行具体工具：根据工具名获取实例并传入参数\n",
    "            tool_result = self.tools_by_name[tool_call[\"name\"]].invoke(\n",
    "                tool_call[\"args\"]\n",
    "            )\n",
    "            # 封装工具结果为ToolMessage，包含：\n",
    "            # content: JSON序列化的执行结果\n",
    "            # name: 工具标识（需与请求匹配）\n",
    "            # tool_call_id: 调用ID（用于关联请求与响应）\n",
    "            outputs.append(\n",
    "                ToolMessage(\n",
    "                    content=json.dumps(tool_result),\n",
    "                    name=tool_call[\"name\"],\n",
    "                    tool_call_id=tool_call[\"id\"],\n",
    "                )\n",
    "            )\n",
    "        return {\"messages\": outputs}  # 返回工具消息列表，供后续节点处理\n",
    "\n",
    "# 使用示例\n",
    "tool_node = BasicToolNode(tools=[GetDate()])  # 创建工具节点实例，绑定日期工具\n",
    "graph.add_node(\"tools\", tool_node)  # 将节点添加到LangGraph状态图中"
   ]
  },
  {
   "cell_type": "code",
   "execution_count": null,
   "metadata": {},
   "outputs": [],
   "source": []
  },
  {
   "cell_type": "code",
   "execution_count": 35,
   "metadata": {},
   "outputs": [],
   "source": [
    "from typing import Literal  # 类型标注模块，用于定义字面量类型\n",
    "\n",
    "def route_tools(state: State) -> Literal[\"tools\", \"__end__\"]:\n",
    "    \"\"\"\n",
    "    工具路由决策函数，用于条件边(conditional_edge)判断：\n",
    "    - 当最后一条消息包含工具调用时路由到ToolNode\n",
    "    - 否则终止流程\n",
    "    \n",
    "    参数:\n",
    "        state: 包含消息历史的状态对象，可以是列表或字典形式\n",
    "    返回:\n",
    "        \"tools\" 或 \"__end__\" 字面量，指示下一步节点\n",
    "    \"\"\"\n",
    "    # 状态数据提取逻辑\n",
    "    if isinstance(state, list):  # 处理列表形式的状态数据\n",
    "        ai_message = state[-1]  # 获取最新AI消息\n",
    "    elif messages := state.get(\"messages\", []):  # 处理字典形式的状态数据\n",
    "        ai_message = messages[-1]\n",
    "    else:\n",
    "        raise ValueError(f\"No messages found in input state to tool_edge: {state}\")\n",
    "\n",
    "    # 工具调用检测逻辑\n",
    "    if hasattr(ai_message, \"tool_calls\") and len(ai_message.tool_calls) > 0:\n",
    "        return \"tools\"  # 存在工具调用时路由到工具节点\n",
    "    return \"__end__\"  # 否则终止流程\n",
    "\n",
    "# 构建状态图的条件边（核心控制流）\n",
    "graph.add_conditional_edges(\n",
    "    \"chat\",  # 源节点名称\n",
    "    route_tools,  # 路由判断函数\n",
    "    {\n",
    "        \"tools\": \"tools\",      # 当返回\"tools\"时跳转到tools节点\n",
    "        \"__end__\": \"__end__\"   # 当返回\"__end__\"时终止流程\n",
    "    }\n",
    ")\n",
    "\n",
    "# 工具节点执行后必须返回chat节点重新决策\n",
    "graph.add_edge(\"tools\", \"chat\")  \n",
    "\n",
    "# 设置状态图入口节点\n",
    "graph.set_entry_point(\"chat\")  \n",
    "\n",
    "# 编译生成可执行的工作流实例\n",
    "graph_builder = graph.compile()  \n"
   ]
  },
  {
   "cell_type": "code",
   "execution_count": 36,
   "metadata": {},
   "outputs": [
    {
     "data": {
      "image/png": "[encoded data removed]",
      "text/plain": [
       "<IPython.core.display.Image object>"
      ]
     },
     "metadata": {},
     "output_type": "display_data"
    }
   ],
   "source": [
    "#可视化状态图\n",
    "from IPython.display import Image, display\n",
    "\n",
    "try:\n",
    "    display(Image(graph_builder.get_graph().draw_mermaid_png()))\n",
    "except Exception:\n",
    "    # This requires some extra dependencies and is optional\n",
    "    pass"
   ]
  },
  {
   "cell_type": "code",
   "execution_count": null,
   "metadata": {},
   "outputs": [],
   "source": []
  },
  {
   "cell_type": "code",
   "execution_count": 37,
   "metadata": {},
   "outputs": [
    {
     "data": {
      "text/plain": [
       "[{'type': 'task',\n",
       "  'timestamp': '2025-06-01T07:42:31.731209+00:00',\n",
       "  'step': 1,\n",
       "  'payload': {'id': 'ffa72157-b076-50f3-6407-3c9ddd414ecd',\n",
       "   'name': 'chat',\n",
       "   'input': {'messages': [HumanMessage(content='今日时间', additional_kwargs={}, response_metadata={}, id='f8a54438-5d3c-4d38-801d-73c2baeb212d')]},\n",
       "   'triggers': ('branch:to:chat',)}},\n",
       " {'type': 'task_result',\n",
       "  'timestamp': '2025-06-01T07:42:32.760442+00:00',\n",
       "  'step': 1,\n",
       "  'payload': {'id': 'ffa72157-b076-50f3-6407-3c9ddd414ecd',\n",
       "   'name': 'chat',\n",
       "   'error': None,\n",
       "   'result': [('messages',\n",
       "     AIMessage(content='', additional_kwargs={'tool_calls': [{'id': 'call_63e698fb3dd145b6a6f2ba', 'function': {'arguments': '{}', 'name': 'get_date'}, 'type': 'function', 'index': 0}], 'refusal': None}, response_metadata={'token_usage': {'completion_tokens': 15, 'prompt_tokens': 141, 'total_tokens': 156, 'completion_tokens_details': None, 'prompt_tokens_details': None}, 'model_name': 'qwen-plus-latest', 'system_fingerprint': None, 'id': 'chatcmpl-24151ed9-c6ad-9507-9b67-61f5f9970e86', 'finish_reason': 'tool_calls', 'logprobs': None}, id='run-209b653e-725e-46aa-ad81-2b81d37cbce5-0', tool_calls=[{'name': 'get_date', 'args': {}, 'id': 'call_63e698fb3dd145b6a6f2ba', 'type': 'tool_call'}], usage_metadata={'input_tokens': 141, 'output_tokens': 15, 'total_tokens': 156, 'input_token_details': {}, 'output_token_details': {}}))],\n",
       "   'interrupts': []}},\n",
       " {'type': 'task',\n",
       "  'timestamp': '2025-06-01T07:42:32.760584+00:00',\n",
       "  'step': 2,\n",
       "  'payload': {'id': '5b1513e4-d1f6-40ed-050a-db57803689f8',\n",
       "   'name': 'tools',\n",
       "   'input': {'messages': [HumanMessage(content='今日时间', additional_kwargs={}, response_metadata={}, id='f8a54438-5d3c-4d38-801d-73c2baeb212d'),\n",
       "     AIMessage(content='', additional_kwargs={'tool_calls': [{'id': 'call_63e698fb3dd145b6a6f2ba', 'function': {'arguments': '{}', 'name': 'get_date'}, 'type': 'function', 'index': 0}], 'refusal': None}, response_metadata={'token_usage': {'completion_tokens': 15, 'prompt_tokens': 141, 'total_tokens': 156, 'completion_tokens_details': None, 'prompt_tokens_details': None}, 'model_name': 'qwen-plus-latest', 'system_fingerprint': None, 'id': 'chatcmpl-24151ed9-c6ad-9507-9b67-61f5f9970e86', 'finish_reason': 'tool_calls', 'logprobs': None}, id='run-209b653e-725e-46aa-ad81-2b81d37cbce5-0', tool_calls=[{'name': 'get_date', 'args': {}, 'id': 'call_63e698fb3dd145b6a6f2ba', 'type': 'tool_call'}], usage_metadata={'input_tokens': 141, 'output_tokens': 15, 'total_tokens': 156, 'input_token_details': {}, 'output_token_details': {}})]},\n",
       "   'triggers': ('branch:to:tools',)}},\n",
       " {'type': 'task_result',\n",
       "  'timestamp': '2025-06-01T07:42:32.760981+00:00',\n",
       "  'step': 2,\n",
       "  'payload': {'id': '5b1513e4-d1f6-40ed-050a-db57803689f8',\n",
       "   'name': 'tools',\n",
       "   'error': None,\n",
       "   'result': [('messages',\n",
       "     [ToolMessage(content='\"2025-06-01\"', name='get_date', id='d4e7215f-ad63-4451-8b1a-419db169b2ac', tool_call_id='call_63e698fb3dd145b6a6f2ba')])],\n",
       "   'interrupts': []}},\n",
       " {'type': 'task',\n",
       "  'timestamp': '2025-06-01T07:42:32.761071+00:00',\n",
       "  'step': 3,\n",
       "  'payload': {'id': 'd6473a7a-4f8e-12d9-674c-0896263c1507',\n",
       "   'name': 'chat',\n",
       "   'input': {'messages': [HumanMessage(content='今日时间', additional_kwargs={}, response_metadata={}, id='f8a54438-5d3c-4d38-801d-73c2baeb212d'),\n",
       "     AIMessage(content='', additional_kwargs={'tool_calls': [{'id': 'call_63e698fb3dd145b6a6f2ba', 'function': {'arguments': '{}', 'name': 'get_date'}, 'type': 'function', 'index': 0}], 'refusal': None}, response_metadata={'token_usage': {'completion_tokens': 15, 'prompt_tokens': 141, 'total_tokens': 156, 'completion_tokens_details': None, 'prompt_tokens_details': None}, 'model_name': 'qwen-plus-latest', 'system_fingerprint': None, 'id': 'chatcmpl-24151ed9-c6ad-9507-9b67-61f5f9970e86', 'finish_reason': 'tool_calls', 'logprobs': None}, id='run-209b653e-725e-46aa-ad81-2b81d37cbce5-0', tool_calls=[{'name': 'get_date', 'args': {}, 'id': 'call_63e698fb3dd145b6a6f2ba', 'type': 'tool_call'}], usage_metadata={'input_tokens': 141, 'output_tokens': 15, 'total_tokens': 156, 'input_token_details': {}, 'output_token_details': {}}),\n",
       "     ToolMessage(content='\"2025-06-01\"', name='get_date', id='d4e7215f-ad63-4451-8b1a-419db169b2ac', tool_call_id='call_63e698fb3dd145b6a6f2ba')]},\n",
       "   'triggers': ('branch:to:chat',)}},\n",
       " {'type': 'task_result',\n",
       "  'timestamp': '2025-06-01T07:42:33.631437+00:00',\n",
       "  'step': 3,\n",
       "  'payload': {'id': 'd6473a7a-4f8e-12d9-674c-0896263c1507',\n",
       "   'name': 'chat',\n",
       "   'error': None,\n",
       "   'result': [('messages',\n",
       "     AIMessage(content='当前日期是2025年6月1日。', additional_kwargs={'refusal': None}, response_metadata={'token_usage': {'completion_tokens': 13, 'prompt_tokens': 181, 'total_tokens': 194, 'completion_tokens_details': None, 'prompt_tokens_details': None}, 'model_name': 'qwen-plus-latest', 'system_fingerprint': None, 'id': 'chatcmpl-1b9fad6e-6857-91ab-a2ca-5c83093a1bdb', 'finish_reason': 'stop', 'logprobs': None}, id='run-7648c2ef-c036-4670-af14-6b323496f3c1-0', usage_metadata={'input_tokens': 181, 'output_tokens': 13, 'total_tokens': 194, 'input_token_details': {}, 'output_token_details': {}}))],\n",
       "   'interrupts': []}}]"
      ]
     },
     "execution_count": 37,
     "metadata": {},
     "output_type": "execute_result"
    }
   ],
   "source": [
    "event = graph_builder.invoke({\"messages\": [(\"user\", \"今日时间\")]},stream_mode=\"debug\")\n",
    "event"
   ]
  },
  {
   "cell_type": "code",
   "execution_count": 41,
   "metadata": {},
   "outputs": [
    {
     "name": "stdout",
     "output_type": "stream",
     "text": [
      "Assistant: {'messages': AIMessage(content='', additional_kwargs={'tool_calls': [{'id': 'call_addc77c39d324797b5de5f', 'function': {'arguments': '{}', 'name': 'get_date'}, 'type': 'function', 'index': 0}], 'refusal': None}, response_metadata={'token_usage': {'completion_tokens': 15, 'prompt_tokens': 141, 'total_tokens': 156, 'completion_tokens_details': None, 'prompt_tokens_details': None}, 'model_name': 'qwen-plus-latest', 'system_fingerprint': None, 'id': 'chatcmpl-52d50e51-bb76-98db-b13c-da9a20ddda1d', 'finish_reason': 'tool_calls', 'logprobs': None}, id='run-574187bf-01ef-4d02-8baa-9a354a4cf991-0', tool_calls=[{'name': 'get_date', 'args': {}, 'id': 'call_addc77c39d324797b5de5f', 'type': 'tool_call'}], usage_metadata={'input_tokens': 141, 'output_tokens': 15, 'total_tokens': 156, 'input_token_details': {}, 'output_token_details': {}})}\n",
      "Assistant: {'messages': AIMessage(content='今天是2025年6月1日。', additional_kwargs={'refusal': None}, response_metadata={'token_usage': {'completion_tokens': 12, 'prompt_tokens': 181, 'total_tokens': 193, 'completion_tokens_details': None, 'prompt_tokens_details': None}, 'model_name': 'qwen-plus-latest', 'system_fingerprint': None, 'id': 'chatcmpl-42e6ff48-ba37-907b-9fef-1186f7c6df3a', 'finish_reason': 'stop', 'logprobs': None}, id='run-52205a14-452c-4341-baf2-fca1cc0ae773-0', usage_metadata={'input_tokens': 181, 'output_tokens': 12, 'total_tokens': 193, 'input_token_details': {}, 'output_token_details': {}})}\n",
      "Goodbye!\n"
     ]
    }
   ],
   "source": [
    "# 执行工作流\n",
    "from langchain_core.messages import BaseMessage\n",
    "\n",
    "while True:\n",
    "    user_input = input(\"User: \")\n",
    "    if user_input.lower() in [\"quit\", \"exit\", \"q\"]:\n",
    "        print(\"Goodbye!\")\n",
    "        break\n",
    "    for event in graph_builder.stream({\"messages\": [(\"user\", user_input)]}):\n",
    "        for value in event.values():\n",
    "            if isinstance(value[\"messages\"], BaseMessage):\n",
    "                print(\"Assistant:\", value)\n"
   ]
  },
  {
   "cell_type": "code",
   "execution_count": null,
   "metadata": {},
   "outputs": [],
   "source": []
  },
  {
   "cell_type": "code",
   "execution_count": null,
   "metadata": {},
   "outputs": [],
   "source": []
  },
  {
   "cell_type": "code",
   "execution_count": null,
   "metadata": {},
   "outputs": [],
   "source": []
  }
 ],
 "metadata": {
  "kernelspec": {
   "display_name": "langchain",
   "language": "python",
   "name": "python3"
  },
  "language_info": {
   "codemirror_mode": {
    "name": "ipython",
    "version": 3
   },
   "file_extension": ".py",
   "mimetype": "text/x-python",
   "name": "python",
   "nbconvert_exporter": "python",
   "pygments_lexer": "ipython3",
   "version": "3.11.11"
  }
 },
 "nbformat": 4,
 "nbformat_minor": 2
}
