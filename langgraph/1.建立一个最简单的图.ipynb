{
 "cells": [
  {
   "cell_type": "markdown",
   "metadata": {},
   "source": [
    "### 建立一个简单的 聊天机器人 图"
   ]
  },
  {
   "cell_type": "code",
   "execution_count": 1,
   "metadata": {},
   "outputs": [],
   "source": [
    "from typing import Any, Annotated\n",
    "from pydantic import BaseModel, Field\n",
    "from langchain.agents import initialize_agent, Tool, AgentType\n",
    "from langchain.tools import BaseTool\n",
    "from langchain.chat_models import ChatOpenAI\n",
    "\n",
    "from typing_extensions import TypedDict\n",
    "\n",
    "from langgraph.graph import StateGraph #StateGraph: 用来存储状态和动作的图\n",
    "from langgraph.graph.message import add_messages #add_messages: 用来添加消息到图中"
   ]
  },
  {
   "cell_type": "code",
   "execution_count": 6,
   "metadata": {},
   "outputs": [],
   "source": [
    "import os\n",
    "from dotenv import load_dotenv\n",
    "load_dotenv()\n",
    "\n",
    "api_key = os.getenv(\"api_key\")\n",
    "base_url = os.getenv(\"base_url\")\n",
    "\n",
    "online_llm = ChatOpenAI(\n",
    "    model='qwen-plus',\n",
    "    temperature=0,\n",
    "    api_key=api_key,\n",
    "    base_url=base_url,\n",
    ")\n"
   ]
  },
  {
   "cell_type": "code",
   "execution_count": null,
   "metadata": {},
   "outputs": [],
   "source": [
    "\n",
    "#State类: 用来存储状态和动作的字典\n",
    "'''\n",
    "1、​​Annotated 的作用​​：这是 Python 的 typing 模块提供的工具，允许在类型提示中附加元数据（metadata）。此处：\n",
    "list 表示 messages 字段的类型是列表（存储消息对象）。\n",
    "add_messages 是一个函数，用于定义​​如何更新该列表​​（元数据）。\n",
    "2. ​​状态管理的自动化​​\n",
    "​​add_messages 的功能​​：该函数在 LangGraph 中用于智能管理对话历史：\n",
    "​​自动合并消息​​：当节点返回新消息时，框架会自动将新消息列表与旧列表合并（而非覆盖）。\n",
    "​​去重与更新​​：若新消息中存在与旧消息相同的 ID（例如消息被修改），则替换旧消息。\n",
    "​​支持流式处理​​：适用于聊天机器人等需要维护完整对话历史的场景。\n",
    "'''\n",
    "class State(TypedDict):\n",
    "    messages: Annotated[list, add_messages]\n",
    "\n",
    "\n",
    "#初始化 状态图\n",
    "graph_builder = StateGraph(State)\n",
    "\n",
    "\n",
    "#节点函数定义\n",
    "def chatbot(state: State):\n",
    "    return {\"messages\": [online_llm.invoke(state[\"messages\"])]}\n",
    "\n",
    "\n",
    "'''\n",
    "add_node：添加节点（名称+处理函数）\n",
    "set_entry_point：设置入口节点\n",
    "set_finish_point：设置终止节点\n",
    "'''\n",
    "graph_builder.add_node(\"chatbot\", chatbot)\n",
    "graph_builder.set_entry_point(\"chatbot\")\n",
    "graph_builder.set_finish_point(\"chatbot\")\n",
    "\n",
    "#编译图:生成可执行的状态图\n",
    "graph = graph_builder.compile()"
   ]
  },
  {
   "cell_type": "code",
   "execution_count": 8,
   "metadata": {},
   "outputs": [
    {
     "data": {
      "image/png": "[encoded data removed]",
      "text/plain": [
       "<IPython.core.display.Image object>"
      ]
     },
     "metadata": {},
     "output_type": "display_data"
    }
   ],
   "source": [
    "#显示 当前状态图 的节点和边\n",
    "from IPython.display import Image, display\n",
    "\n",
    "try:\n",
    "    display(Image(graph.get_graph().draw_mermaid_png()))\n",
    "except Exception:\n",
    "    # This requires some extra dependencies and is optional\n",
    "    pass"
   ]
  },
  {
   "cell_type": "code",
   "execution_count": null,
   "metadata": {},
   "outputs": [],
   "source": []
  },
  {
   "cell_type": "code",
   "execution_count": 9,
   "metadata": {},
   "outputs": [
    {
     "name": "stdout",
     "output_type": "stream",
     "text": [
      "Assistant: 你好！今天过得怎么样？\n",
      "Assistant: 我在和你聊天呀。今天过得怎么样？有什么我可以帮你的吗？比如解答问题、写故事、玩游戏等等。\n",
      "Goodbye!\n"
     ]
    }
   ],
   "source": [
    "while True:\n",
    "    user_input = input(\"User: \")\n",
    "    if user_input.lower() in [\"quit\", \"exit\", \"q\"]:\n",
    "        print(\"Goodbye!\")\n",
    "        break\n",
    "    for event in graph.stream({\"messages\": (\"user\", user_input)}):\n",
    "        for value in event.values():\n",
    "            print(\"Assistant:\", value[\"messages\"][-1].content)\n"
   ]
  },
  {
   "cell_type": "code",
   "execution_count": null,
   "metadata": {},
   "outputs": [],
   "source": []
  },
  {
   "cell_type": "code",
   "execution_count": null,
   "metadata": {},
   "outputs": [],
   "source": []
  },
  {
   "cell_type": "code",
   "execution_count": null,
   "metadata": {},
   "outputs": [],
   "source": []
  },
  {
   "cell_type": "code",
   "execution_count": null,
   "metadata": {},
   "outputs": [],
   "source": []
  },
  {
   "cell_type": "code",
   "execution_count": null,
   "metadata": {},
   "outputs": [],
   "source": []
  },
  {
   "cell_type": "code",
   "execution_count": null,
   "metadata": {},
   "outputs": [],
   "source": []
  }
 ],
 "metadata": {
  "kernelspec": {
   "display_name": "langchain",
   "language": "python",
   "name": "python3"
  },
  "language_info": {
   "codemirror_mode": {
    "name": "ipython",
    "version": 3
   },
   "file_extension": ".py",
   "mimetype": "text/x-python",
   "name": "python",
   "nbconvert_exporter": "python",
   "pygments_lexer": "ipython3",
   "version": "3.11.11"
  }
 },
 "nbformat": 4,
 "nbformat_minor": 2
}
