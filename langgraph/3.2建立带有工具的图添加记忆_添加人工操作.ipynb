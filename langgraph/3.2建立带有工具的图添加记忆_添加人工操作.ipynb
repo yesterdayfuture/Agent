{
 "cells": [
  {
   "cell_type": "code",
   "execution_count": 16,
   "metadata": {},
   "outputs": [],
   "source": [
    "#定义工具\n",
    "from langchain.tools import BaseTool\n",
    "from pydantic import BaseModel, Field\n",
    "import datetime\n",
    "\n",
    "\n",
    "class GetDateInput(BaseModel):\n",
    "    # format: str = Field(default=\"%Y-%m-%d\", description=\"日期格式\")\n",
    "    pass\n",
    "\n",
    "class GetDate(BaseTool):\n",
    "    name: str = Field(default=\"get_date\")\n",
    "    description: str = Field(default=\"这是一个获取日期的API，可以获取当前日期\")\n",
    "    # args_schema: Type[BaseModel] = GetDateInput\n",
    "\n",
    "    def _run(self) -> str:\n",
    "        return datetime.datetime.now().strftime('%Y-%m-%d')\n",
    "    async def _arun(self) -> str:\n",
    "        raise NotImplementedError(\"This tool does not support async\")"
   ]
  },
  {
   "cell_type": "code",
   "execution_count": 29,
   "metadata": {},
   "outputs": [],
   "source": [
    "\n",
    "#导入大模型\n",
    "from langchain.chat_models import ChatOpenAI, init_chat_model\n",
    "from dotenv import load_dotenv\n",
    "import os\n",
    "load_dotenv()\n",
    "\n",
    "api_key = os.getenv(\"api_key\")\n",
    "base_url = os.getenv(\"base_url\")\n",
    "\n",
    "online_llm = init_chat_model(\n",
    "    api_key=api_key,\n",
    "    model=\"qwen-plus-latest\",\n",
    "    model_provider=\"openai\",\n",
    "    base_url=base_url,\n",
    "    temperature=0\n",
    ")"
   ]
  },
  {
   "cell_type": "code",
   "execution_count": 30,
   "metadata": {},
   "outputs": [],
   "source": [
    "online_llm_tool = online_llm.bind_tools([GetDate()])"
   ]
  },
  {
   "cell_type": "code",
   "execution_count": null,
   "metadata": {},
   "outputs": [],
   "source": []
  },
  {
   "cell_type": "code",
   "execution_count": 31,
   "metadata": {},
   "outputs": [],
   "source": [
    "#导入图相关环境\n",
    "from langgraph.graph import  StateGraph\n",
    "from typing import  TypedDict, Annotated, List\n",
    "from langgraph.graph.message import add_messages, BaseMessage\n",
    "from langgraph.prebuilt import ToolNode, tools_condition"
   ]
  },
  {
   "cell_type": "code",
   "execution_count": 32,
   "metadata": {},
   "outputs": [],
   "source": [
    "#定义消息状态信息\n",
    "class State(TypedDict):\n",
    "    messages: Annotated[List, add_messages]"
   ]
  },
  {
   "cell_type": "code",
   "execution_count": 33,
   "metadata": {},
   "outputs": [],
   "source": [
    "#定义图信息\n",
    "graph = StateGraph(State)\n",
    "\n",
    "\n",
    "#定义节点函数，返回值是状态信息\n",
    "def chat_node(state: State):\n",
    "\n",
    "    result = online_llm_tool.invoke(state[\"messages\"])\n",
    "    return {\"messages\": result}"
   ]
  },
  {
   "cell_type": "code",
   "execution_count": 34,
   "metadata": {},
   "outputs": [
    {
     "data": {
      "text/plain": [
       "<langgraph.graph.state.StateGraph at 0x12370d010>"
      ]
     },
     "execution_count": 34,
     "metadata": {},
     "output_type": "execute_result"
    }
   ],
   "source": [
    "#添加节点\n",
    "graph.add_node('chat', chat_node)"
   ]
  },
  {
   "cell_type": "code",
   "execution_count": 35,
   "metadata": {},
   "outputs": [
    {
     "data": {
      "text/plain": [
       "<langgraph.graph.state.StateGraph at 0x12370d010>"
      ]
     },
     "execution_count": 35,
     "metadata": {},
     "output_type": "execute_result"
    }
   ],
   "source": [
    "#定义工具节点\n",
    "tool_node = ToolNode(tools=[GetDate()])\n",
    "graph.add_node(\"tools\", tool_node)\n",
    "\n",
    "graph.add_conditional_edges(\n",
    "    \"chat\",\n",
    "    tools_condition,\n",
    ")"
   ]
  },
  {
   "cell_type": "code",
   "execution_count": null,
   "metadata": {},
   "outputs": [],
   "source": []
  },
  {
   "cell_type": "code",
   "execution_count": 36,
   "metadata": {},
   "outputs": [
    {
     "data": {
      "text/plain": [
       "<langgraph.graph.state.StateGraph at 0x12370d010>"
      ]
     },
     "execution_count": 36,
     "metadata": {},
     "output_type": "execute_result"
    }
   ],
   "source": [
    "# 工具节点执行后必须返回chat节点重新决策\n",
    "graph.add_edge(\"tools\", \"chat\")  \n",
    "\n",
    "# 设置状态图入口节点\n",
    "graph.set_entry_point(\"chat\")  \n",
    "\n",
    "\n"
   ]
  },
  {
   "cell_type": "code",
   "execution_count": 37,
   "metadata": {},
   "outputs": [],
   "source": [
    "#定义记忆\n",
    "from langgraph.checkpoint.memory import InMemorySaver\n",
    "\n",
    "checkpointer = InMemorySaver()\n",
    "\n",
    "# 将工作流实例与记忆关联\n",
    "#interrupt_before参数指定在哪个节点之前中断，这里指定在tools节点之前中断\n",
    "# 编译生成可执行的工作流实例\n",
    "graph_builder = graph.compile(checkpointer=checkpointer, interrupt_before=[\"tools\"])  \n",
    "\n"
   ]
  },
  {
   "cell_type": "code",
   "execution_count": null,
   "metadata": {},
   "outputs": [],
   "source": []
  },
  {
   "cell_type": "code",
   "execution_count": 38,
   "metadata": {},
   "outputs": [
    {
     "data": {
      "image/png": "[encoded data removed]",
      "text/plain": [
       "<IPython.core.display.Image object>"
      ]
     },
     "metadata": {},
     "output_type": "display_data"
    }
   ],
   "source": [
    "#可视化状态图\n",
    "from IPython.display import Image, display\n",
    "\n",
    "try:\n",
    "    display(Image(graph_builder.get_graph().draw_mermaid_png()))\n",
    "except Exception:\n",
    "    # This requires some extra dependencies and is optional\n",
    "    pass"
   ]
  },
  {
   "cell_type": "code",
   "execution_count": null,
   "metadata": {},
   "outputs": [],
   "source": []
  },
  {
   "cell_type": "code",
   "execution_count": 39,
   "metadata": {},
   "outputs": [
    {
     "name": "stdout",
     "output_type": "stream",
     "text": [
      "================================\u001b[1m Human Message \u001b[0m=================================\n",
      "\n",
      "我正在学习langgraph，请帮我获取当前时间\n",
      "==================================\u001b[1m Ai Message \u001b[0m==================================\n",
      "Tool Calls:\n",
      "  get_date (call_dc67e46ce95b4858a2b5c5)\n",
      " Call ID: call_dc67e46ce95b4858a2b5c5\n",
      "  Args:\n"
     ]
    }
   ],
   "source": [
    "# 执行工作流\n",
    "user_input = \"我正在学习langgraph，请帮我获取当前时间\"\n",
    "config = {\"configurable\": {\"thread_id\": \"1\"}}\n",
    "# The config is the **second positional argument** to stream() or invoke()!\n",
    "events = graph_builder.stream(\n",
    "    {\"messages\": [(\"user\", user_input)]}, config, stream_mode=\"values\"\n",
    ")\n",
    "for event in events:\n",
    "    if \"messages\" in event:\n",
    "        event[\"messages\"][-1].pretty_print()\n"
   ]
  },
  {
   "cell_type": "code",
   "execution_count": 40,
   "metadata": {},
   "outputs": [
    {
     "data": {
      "text/plain": [
       "('tools',)"
      ]
     },
     "execution_count": 40,
     "metadata": {},
     "output_type": "execute_result"
    }
   ],
   "source": [
    "snapshot = graph_builder.get_state(config)\n",
    "snapshot.next"
   ]
  },
  {
   "cell_type": "code",
   "execution_count": 41,
   "metadata": {},
   "outputs": [
    {
     "data": {
      "text/plain": [
       "[{'name': 'get_date',\n",
       "  'args': {},\n",
       "  'id': 'call_dc67e46ce95b4858a2b5c5',\n",
       "  'type': 'tool_call'}]"
      ]
     },
     "execution_count": 41,
     "metadata": {},
     "output_type": "execute_result"
    }
   ],
   "source": [
    "existing_message = snapshot.values[\"messages\"][-1]\n",
    "existing_message.tool_calls"
   ]
  },
  {
   "cell_type": "code",
   "execution_count": 42,
   "metadata": {},
   "outputs": [
    {
     "data": {
      "text/plain": [
       "AIMessage(content='', additional_kwargs={'tool_calls': [{'id': 'call_dc67e46ce95b4858a2b5c5', 'function': {'arguments': '{}', 'name': 'get_date'}, 'type': 'function', 'index': 0}], 'refusal': None}, response_metadata={'token_usage': {'completion_tokens': 15, 'prompt_tokens': 149, 'total_tokens': 164, 'completion_tokens_details': None, 'prompt_tokens_details': None}, 'model_name': 'qwen-plus-latest', 'system_fingerprint': None, 'id': 'chatcmpl-e60ce398-c6d5-9d70-b19a-39dfbb95df3e', 'finish_reason': 'tool_calls', 'logprobs': None}, id='run-c9bb2e8d-6163-43fd-87df-7f80d5ecb91f-0', tool_calls=[{'name': 'get_date', 'args': {}, 'id': 'call_dc67e46ce95b4858a2b5c5', 'type': 'tool_call'}], usage_metadata={'input_tokens': 149, 'output_tokens': 15, 'total_tokens': 164, 'input_token_details': {}, 'output_token_details': {}})"
      ]
     },
     "execution_count": 42,
     "metadata": {},
     "output_type": "execute_result"
    }
   ],
   "source": [
    "existing_message"
   ]
  },
  {
   "cell_type": "code",
   "execution_count": 44,
   "metadata": {},
   "outputs": [
    {
     "name": "stdout",
     "output_type": "stream",
     "text": [
      "==================================\u001b[1m Ai Message \u001b[0m==================================\n",
      "Tool Calls:\n",
      "  get_date (call_dc67e46ce95b4858a2b5c5)\n",
      " Call ID: call_dc67e46ce95b4858a2b5c5\n",
      "  Args:\n",
      "=================================\u001b[1m Tool Message \u001b[0m=================================\n",
      "Name: get_date\n",
      "\n",
      "2025-06-01\n",
      "==================================\u001b[1m Ai Message \u001b[0m==================================\n",
      "\n",
      "当前日期是2025年6月1日。\n"
     ]
    }
   ],
   "source": [
    "# None不会向当前状态添加任何新内容，使其恢复到从未中断过的状态\n",
    "events = graph_builder.stream(None, config, stream_mode=\"values\")\n",
    "for event in events:\n",
    "    if \"messages\" in event:\n",
    "        event[\"messages\"][-1].pretty_print()"
   ]
  },
  {
   "cell_type": "code",
   "execution_count": null,
   "metadata": {},
   "outputs": [],
   "source": []
  },
  {
   "cell_type": "code",
   "execution_count": 45,
   "metadata": {},
   "outputs": [
    {
     "data": {
      "text/plain": [
       "{'messages': [HumanMessage(content='我正在学习langgraph，请帮我获取当前时间', additional_kwargs={}, response_metadata={}, id='c61b2f1e-49a9-42a0-9050-71526797bd31'),\n",
       "  AIMessage(content='', additional_kwargs={'tool_calls': [{'id': 'call_dc67e46ce95b4858a2b5c5', 'function': {'arguments': '{}', 'name': 'get_date'}, 'type': 'function', 'index': 0}], 'refusal': None}, response_metadata={'token_usage': {'completion_tokens': 15, 'prompt_tokens': 149, 'total_tokens': 164, 'completion_tokens_details': None, 'prompt_tokens_details': None}, 'model_name': 'qwen-plus-latest', 'system_fingerprint': None, 'id': 'chatcmpl-e60ce398-c6d5-9d70-b19a-39dfbb95df3e', 'finish_reason': 'tool_calls', 'logprobs': None}, id='run-c9bb2e8d-6163-43fd-87df-7f80d5ecb91f-0', tool_calls=[{'name': 'get_date', 'args': {}, 'id': 'call_dc67e46ce95b4858a2b5c5', 'type': 'tool_call'}], usage_metadata={'input_tokens': 149, 'output_tokens': 15, 'total_tokens': 164, 'input_token_details': {}, 'output_token_details': {}}),\n",
       "  ToolMessage(content='2025-06-01', name='get_date', id='7d22478e-5c8c-4d28-ac50-c17eaa6939a7', tool_call_id='call_dc67e46ce95b4858a2b5c5'),\n",
       "  AIMessage(content='当前日期是2025年6月1日。', additional_kwargs={'refusal': None}, response_metadata={'token_usage': {'completion_tokens': 13, 'prompt_tokens': 188, 'total_tokens': 201, 'completion_tokens_details': None, 'prompt_tokens_details': None}, 'model_name': 'qwen-plus-latest', 'system_fingerprint': None, 'id': 'chatcmpl-174977de-2dda-93ee-90dd-67d0f29f94ee', 'finish_reason': 'stop', 'logprobs': None}, id='run-828459b1-c3e5-4dcb-b319-10297048ce72-0', usage_metadata={'input_tokens': 188, 'output_tokens': 13, 'total_tokens': 201, 'input_token_details': {}, 'output_token_details': {}})]}"
      ]
     },
     "execution_count": 45,
     "metadata": {},
     "output_type": "execute_result"
    }
   ],
   "source": [
    "graph_builder.checkpointer.get_tuple(config).checkpoint['channel_values']"
   ]
  },
  {
   "cell_type": "code",
   "execution_count": 46,
   "metadata": {},
   "outputs": [
    {
     "data": {
      "text/plain": [
       "{'messages': [HumanMessage(content='我正在学习langgraph，请帮我获取当前时间', additional_kwargs={}, response_metadata={}, id='c61b2f1e-49a9-42a0-9050-71526797bd31'),\n",
       "  AIMessage(content='', additional_kwargs={'tool_calls': [{'id': 'call_dc67e46ce95b4858a2b5c5', 'function': {'arguments': '{}', 'name': 'get_date'}, 'type': 'function', 'index': 0}], 'refusal': None}, response_metadata={'token_usage': {'completion_tokens': 15, 'prompt_tokens': 149, 'total_tokens': 164, 'completion_tokens_details': None, 'prompt_tokens_details': None}, 'model_name': 'qwen-plus-latest', 'system_fingerprint': None, 'id': 'chatcmpl-e60ce398-c6d5-9d70-b19a-39dfbb95df3e', 'finish_reason': 'tool_calls', 'logprobs': None}, id='run-c9bb2e8d-6163-43fd-87df-7f80d5ecb91f-0', tool_calls=[{'name': 'get_date', 'args': {}, 'id': 'call_dc67e46ce95b4858a2b5c5', 'type': 'tool_call'}], usage_metadata={'input_tokens': 149, 'output_tokens': 15, 'total_tokens': 164, 'input_token_details': {}, 'output_token_details': {}}),\n",
       "  ToolMessage(content='2025-06-01', name='get_date', id='7d22478e-5c8c-4d28-ac50-c17eaa6939a7', tool_call_id='call_dc67e46ce95b4858a2b5c5'),\n",
       "  AIMessage(content='当前日期是2025年6月1日。', additional_kwargs={'refusal': None}, response_metadata={'token_usage': {'completion_tokens': 13, 'prompt_tokens': 188, 'total_tokens': 201, 'completion_tokens_details': None, 'prompt_tokens_details': None}, 'model_name': 'qwen-plus-latest', 'system_fingerprint': None, 'id': 'chatcmpl-174977de-2dda-93ee-90dd-67d0f29f94ee', 'finish_reason': 'stop', 'logprobs': None}, id='run-828459b1-c3e5-4dcb-b319-10297048ce72-0', usage_metadata={'input_tokens': 188, 'output_tokens': 13, 'total_tokens': 201, 'input_token_details': {}, 'output_token_details': {}}),\n",
       "  HumanMessage(content='你是谁', additional_kwargs={}, response_metadata={}, id='0287e159-b82e-44fa-97db-88be959a2860'),\n",
       "  AIMessage(content='我是Qwen，阿里巴巴集团旗下的超大规模语言模型。我可以帮助你解答各种问题、提供信息、进行创作等。有什么我可以帮你的吗？', additional_kwargs={'refusal': None}, response_metadata={'token_usage': {'completion_tokens': 32, 'prompt_tokens': 213, 'total_tokens': 245, 'completion_tokens_details': None, 'prompt_tokens_details': None}, 'model_name': 'qwen-plus-latest', 'system_fingerprint': None, 'id': 'chatcmpl-004710b5-9466-9fdb-96ba-61f3d46f032f', 'finish_reason': 'stop', 'logprobs': None}, id='run-fb7b86f2-8720-4b20-821f-592abfa68874-0', usage_metadata={'input_tokens': 213, 'output_tokens': 32, 'total_tokens': 245, 'input_token_details': {}, 'output_token_details': {}})]}"
      ]
     },
     "execution_count": 46,
     "metadata": {},
     "output_type": "execute_result"
    }
   ],
   "source": [
    "graph_builder.invoke({\"messages\": [(\"user\", '你是谁')]}, config)\n"
   ]
  }
 ],
 "metadata": {
  "kernelspec": {
   "display_name": "langchain",
   "language": "python",
   "name": "python3"
  },
  "language_info": {
   "codemirror_mode": {
    "name": "ipython",
    "version": 3
   },
   "file_extension": ".py",
   "mimetype": "text/x-python",
   "name": "python",
   "nbconvert_exporter": "python",
   "pygments_lexer": "ipython3",
   "version": "3.11.11"
  }
 },
 "nbformat": 4,
 "nbformat_minor": 2
}
